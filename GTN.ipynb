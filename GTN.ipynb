{
  "nbformat": 4,
  "nbformat_minor": 0,
  "metadata": {
    "colab": {
      "name": "GTN.ipynb",
      "provenance": [],
      "collapsed_sections": [],
      "machine_shape": "hm",
      "authorship_tag": "ABX9TyO7t3tDuVKGNPODy7jrVgIQ",
      "include_colab_link": true
    },
    "kernelspec": {
      "name": "python3",
      "display_name": "Python 3"
    },
    "language_info": {
      "name": "python"
    },
    "widgets": {
      "application/vnd.jupyter.widget-state+json": {
        "2c15320776b04dc2b8a9fa11b33ca7d0": {
          "model_module": "@jupyter-widgets/controls",
          "model_name": "HBoxModel",
          "model_module_version": "1.5.0",
          "state": {
            "_dom_classes": [],
            "_model_module": "@jupyter-widgets/controls",
            "_model_module_version": "1.5.0",
            "_model_name": "HBoxModel",
            "_view_count": null,
            "_view_module": "@jupyter-widgets/controls",
            "_view_module_version": "1.5.0",
            "_view_name": "HBoxView",
            "box_style": "",
            "children": [
              "IPY_MODEL_45cfbdf90ba54437aedc6ebd276fb97c",
              "IPY_MODEL_1282eeda90f24967ae5e229337c94864",
              "IPY_MODEL_5701edd39b2b424e928ca1483a32a093"
            ],
            "layout": "IPY_MODEL_515880dd305b4ab0b600e12e2d50d8db"
          }
        },
        "45cfbdf90ba54437aedc6ebd276fb97c": {
          "model_module": "@jupyter-widgets/controls",
          "model_name": "HTMLModel",
          "model_module_version": "1.5.0",
          "state": {
            "_dom_classes": [],
            "_model_module": "@jupyter-widgets/controls",
            "_model_module_version": "1.5.0",
            "_model_name": "HTMLModel",
            "_view_count": null,
            "_view_module": "@jupyter-widgets/controls",
            "_view_module_version": "1.5.0",
            "_view_name": "HTMLView",
            "description": "",
            "description_tooltip": null,
            "layout": "IPY_MODEL_50447cfcff404642ad0df26cf0885e15",
            "placeholder": "​",
            "style": "IPY_MODEL_98fe3d93baec451e96aaa70d5b963857",
            "value": "Sanity Checking DataLoader 0: 100%"
          }
        },
        "1282eeda90f24967ae5e229337c94864": {
          "model_module": "@jupyter-widgets/controls",
          "model_name": "FloatProgressModel",
          "model_module_version": "1.5.0",
          "state": {
            "_dom_classes": [],
            "_model_module": "@jupyter-widgets/controls",
            "_model_module_version": "1.5.0",
            "_model_name": "FloatProgressModel",
            "_view_count": null,
            "_view_module": "@jupyter-widgets/controls",
            "_view_module_version": "1.5.0",
            "_view_name": "ProgressView",
            "bar_style": "",
            "description": "",
            "description_tooltip": null,
            "layout": "IPY_MODEL_920b59e6a1774cfdaaaba6d7ee3ffbb5",
            "max": 2,
            "min": 0,
            "orientation": "horizontal",
            "style": "IPY_MODEL_dfbff245267447278396b42f5e2768ef",
            "value": 2
          }
        },
        "5701edd39b2b424e928ca1483a32a093": {
          "model_module": "@jupyter-widgets/controls",
          "model_name": "HTMLModel",
          "model_module_version": "1.5.0",
          "state": {
            "_dom_classes": [],
            "_model_module": "@jupyter-widgets/controls",
            "_model_module_version": "1.5.0",
            "_model_name": "HTMLModel",
            "_view_count": null,
            "_view_module": "@jupyter-widgets/controls",
            "_view_module_version": "1.5.0",
            "_view_name": "HTMLView",
            "description": "",
            "description_tooltip": null,
            "layout": "IPY_MODEL_7100f62ffc7f4372b0755639d0db03eb",
            "placeholder": "​",
            "style": "IPY_MODEL_2b4e8531f97c4583b2f0d58ee88e362a",
            "value": " 2/2 [00:00&lt;00:00,  2.54it/s]"
          }
        },
        "515880dd305b4ab0b600e12e2d50d8db": {
          "model_module": "@jupyter-widgets/base",
          "model_name": "LayoutModel",
          "model_module_version": "1.2.0",
          "state": {
            "_model_module": "@jupyter-widgets/base",
            "_model_module_version": "1.2.0",
            "_model_name": "LayoutModel",
            "_view_count": null,
            "_view_module": "@jupyter-widgets/base",
            "_view_module_version": "1.2.0",
            "_view_name": "LayoutView",
            "align_content": null,
            "align_items": null,
            "align_self": null,
            "border": null,
            "bottom": null,
            "display": "inline-flex",
            "flex": null,
            "flex_flow": "row wrap",
            "grid_area": null,
            "grid_auto_columns": null,
            "grid_auto_flow": null,
            "grid_auto_rows": null,
            "grid_column": null,
            "grid_gap": null,
            "grid_row": null,
            "grid_template_areas": null,
            "grid_template_columns": null,
            "grid_template_rows": null,
            "height": null,
            "justify_content": null,
            "justify_items": null,
            "left": null,
            "margin": null,
            "max_height": null,
            "max_width": null,
            "min_height": null,
            "min_width": null,
            "object_fit": null,
            "object_position": null,
            "order": null,
            "overflow": null,
            "overflow_x": null,
            "overflow_y": null,
            "padding": null,
            "right": null,
            "top": null,
            "visibility": null,
            "width": "100%"
          }
        },
        "50447cfcff404642ad0df26cf0885e15": {
          "model_module": "@jupyter-widgets/base",
          "model_name": "LayoutModel",
          "model_module_version": "1.2.0",
          "state": {
            "_model_module": "@jupyter-widgets/base",
            "_model_module_version": "1.2.0",
            "_model_name": "LayoutModel",
            "_view_count": null,
            "_view_module": "@jupyter-widgets/base",
            "_view_module_version": "1.2.0",
            "_view_name": "LayoutView",
            "align_content": null,
            "align_items": null,
            "align_self": null,
            "border": null,
            "bottom": null,
            "display": null,
            "flex": null,
            "flex_flow": null,
            "grid_area": null,
            "grid_auto_columns": null,
            "grid_auto_flow": null,
            "grid_auto_rows": null,
            "grid_column": null,
            "grid_gap": null,
            "grid_row": null,
            "grid_template_areas": null,
            "grid_template_columns": null,
            "grid_template_rows": null,
            "height": null,
            "justify_content": null,
            "justify_items": null,
            "left": null,
            "margin": null,
            "max_height": null,
            "max_width": null,
            "min_height": null,
            "min_width": null,
            "object_fit": null,
            "object_position": null,
            "order": null,
            "overflow": null,
            "overflow_x": null,
            "overflow_y": null,
            "padding": null,
            "right": null,
            "top": null,
            "visibility": null,
            "width": null
          }
        },
        "98fe3d93baec451e96aaa70d5b963857": {
          "model_module": "@jupyter-widgets/controls",
          "model_name": "DescriptionStyleModel",
          "model_module_version": "1.5.0",
          "state": {
            "_model_module": "@jupyter-widgets/controls",
            "_model_module_version": "1.5.0",
            "_model_name": "DescriptionStyleModel",
            "_view_count": null,
            "_view_module": "@jupyter-widgets/base",
            "_view_module_version": "1.2.0",
            "_view_name": "StyleView",
            "description_width": ""
          }
        },
        "920b59e6a1774cfdaaaba6d7ee3ffbb5": {
          "model_module": "@jupyter-widgets/base",
          "model_name": "LayoutModel",
          "model_module_version": "1.2.0",
          "state": {
            "_model_module": "@jupyter-widgets/base",
            "_model_module_version": "1.2.0",
            "_model_name": "LayoutModel",
            "_view_count": null,
            "_view_module": "@jupyter-widgets/base",
            "_view_module_version": "1.2.0",
            "_view_name": "LayoutView",
            "align_content": null,
            "align_items": null,
            "align_self": null,
            "border": null,
            "bottom": null,
            "display": null,
            "flex": "2",
            "flex_flow": null,
            "grid_area": null,
            "grid_auto_columns": null,
            "grid_auto_flow": null,
            "grid_auto_rows": null,
            "grid_column": null,
            "grid_gap": null,
            "grid_row": null,
            "grid_template_areas": null,
            "grid_template_columns": null,
            "grid_template_rows": null,
            "height": null,
            "justify_content": null,
            "justify_items": null,
            "left": null,
            "margin": null,
            "max_height": null,
            "max_width": null,
            "min_height": null,
            "min_width": null,
            "object_fit": null,
            "object_position": null,
            "order": null,
            "overflow": null,
            "overflow_x": null,
            "overflow_y": null,
            "padding": null,
            "right": null,
            "top": null,
            "visibility": null,
            "width": null
          }
        },
        "dfbff245267447278396b42f5e2768ef": {
          "model_module": "@jupyter-widgets/controls",
          "model_name": "ProgressStyleModel",
          "model_module_version": "1.5.0",
          "state": {
            "_model_module": "@jupyter-widgets/controls",
            "_model_module_version": "1.5.0",
            "_model_name": "ProgressStyleModel",
            "_view_count": null,
            "_view_module": "@jupyter-widgets/base",
            "_view_module_version": "1.2.0",
            "_view_name": "StyleView",
            "bar_color": null,
            "description_width": ""
          }
        },
        "7100f62ffc7f4372b0755639d0db03eb": {
          "model_module": "@jupyter-widgets/base",
          "model_name": "LayoutModel",
          "model_module_version": "1.2.0",
          "state": {
            "_model_module": "@jupyter-widgets/base",
            "_model_module_version": "1.2.0",
            "_model_name": "LayoutModel",
            "_view_count": null,
            "_view_module": "@jupyter-widgets/base",
            "_view_module_version": "1.2.0",
            "_view_name": "LayoutView",
            "align_content": null,
            "align_items": null,
            "align_self": null,
            "border": null,
            "bottom": null,
            "display": null,
            "flex": null,
            "flex_flow": null,
            "grid_area": null,
            "grid_auto_columns": null,
            "grid_auto_flow": null,
            "grid_auto_rows": null,
            "grid_column": null,
            "grid_gap": null,
            "grid_row": null,
            "grid_template_areas": null,
            "grid_template_columns": null,
            "grid_template_rows": null,
            "height": null,
            "justify_content": null,
            "justify_items": null,
            "left": null,
            "margin": null,
            "max_height": null,
            "max_width": null,
            "min_height": null,
            "min_width": null,
            "object_fit": null,
            "object_position": null,
            "order": null,
            "overflow": null,
            "overflow_x": null,
            "overflow_y": null,
            "padding": null,
            "right": null,
            "top": null,
            "visibility": null,
            "width": null
          }
        },
        "2b4e8531f97c4583b2f0d58ee88e362a": {
          "model_module": "@jupyter-widgets/controls",
          "model_name": "DescriptionStyleModel",
          "model_module_version": "1.5.0",
          "state": {
            "_model_module": "@jupyter-widgets/controls",
            "_model_module_version": "1.5.0",
            "_model_name": "DescriptionStyleModel",
            "_view_count": null,
            "_view_module": "@jupyter-widgets/base",
            "_view_module_version": "1.2.0",
            "_view_name": "StyleView",
            "description_width": ""
          }
        },
        "0ecb1adf186c4b51a48491381b6a3f05": {
          "model_module": "@jupyter-widgets/controls",
          "model_name": "HBoxModel",
          "model_module_version": "1.5.0",
          "state": {
            "_dom_classes": [],
            "_model_module": "@jupyter-widgets/controls",
            "_model_module_version": "1.5.0",
            "_model_name": "HBoxModel",
            "_view_count": null,
            "_view_module": "@jupyter-widgets/controls",
            "_view_module_version": "1.5.0",
            "_view_name": "HBoxView",
            "box_style": "",
            "children": [
              "IPY_MODEL_63db35e75b9a418fb95f8fbc9db70b90",
              "IPY_MODEL_d60d8decfa394eca9677eded570eb3d1",
              "IPY_MODEL_5a61dde7b37546b3b2adf662bb2ccf77"
            ],
            "layout": "IPY_MODEL_9f1bc0dbe1ec4e75aae1665909b6139a"
          }
        },
        "63db35e75b9a418fb95f8fbc9db70b90": {
          "model_module": "@jupyter-widgets/controls",
          "model_name": "HTMLModel",
          "model_module_version": "1.5.0",
          "state": {
            "_dom_classes": [],
            "_model_module": "@jupyter-widgets/controls",
            "_model_module_version": "1.5.0",
            "_model_name": "HTMLModel",
            "_view_count": null,
            "_view_module": "@jupyter-widgets/controls",
            "_view_module_version": "1.5.0",
            "_view_name": "HTMLView",
            "description": "",
            "description_tooltip": null,
            "layout": "IPY_MODEL_71e80320f9f94e95a4605243e2d2bc1f",
            "placeholder": "​",
            "style": "IPY_MODEL_edd479ceff4a418d97633a065f256f6f",
            "value": "Epoch 2: 100%"
          }
        },
        "d60d8decfa394eca9677eded570eb3d1": {
          "model_module": "@jupyter-widgets/controls",
          "model_name": "FloatProgressModel",
          "model_module_version": "1.5.0",
          "state": {
            "_dom_classes": [],
            "_model_module": "@jupyter-widgets/controls",
            "_model_module_version": "1.5.0",
            "_model_name": "FloatProgressModel",
            "_view_count": null,
            "_view_module": "@jupyter-widgets/controls",
            "_view_module_version": "1.5.0",
            "_view_name": "ProgressView",
            "bar_style": "success",
            "description": "",
            "description_tooltip": null,
            "layout": "IPY_MODEL_49d049e777d547e7a7bbd2e0567d37f3",
            "max": 197,
            "min": 0,
            "orientation": "horizontal",
            "style": "IPY_MODEL_c78b6f8f29cd48539efb0d6830aff744",
            "value": 197
          }
        },
        "5a61dde7b37546b3b2adf662bb2ccf77": {
          "model_module": "@jupyter-widgets/controls",
          "model_name": "HTMLModel",
          "model_module_version": "1.5.0",
          "state": {
            "_dom_classes": [],
            "_model_module": "@jupyter-widgets/controls",
            "_model_module_version": "1.5.0",
            "_model_name": "HTMLModel",
            "_view_count": null,
            "_view_module": "@jupyter-widgets/controls",
            "_view_module_version": "1.5.0",
            "_view_name": "HTMLView",
            "description": "",
            "description_tooltip": null,
            "layout": "IPY_MODEL_176e72cf8d004f0093b64aa26e6b0361",
            "placeholder": "​",
            "style": "IPY_MODEL_1bfa519fa931414fb1c71fb800119bea",
            "value": " 197/197 [00:17&lt;00:00, 11.30it/s, loss=0.772, v_num=x4ek, val_loss=0.771, val_acc=0.727]"
          }
        },
        "9f1bc0dbe1ec4e75aae1665909b6139a": {
          "model_module": "@jupyter-widgets/base",
          "model_name": "LayoutModel",
          "model_module_version": "1.2.0",
          "state": {
            "_model_module": "@jupyter-widgets/base",
            "_model_module_version": "1.2.0",
            "_model_name": "LayoutModel",
            "_view_count": null,
            "_view_module": "@jupyter-widgets/base",
            "_view_module_version": "1.2.0",
            "_view_name": "LayoutView",
            "align_content": null,
            "align_items": null,
            "align_self": null,
            "border": null,
            "bottom": null,
            "display": "inline-flex",
            "flex": null,
            "flex_flow": "row wrap",
            "grid_area": null,
            "grid_auto_columns": null,
            "grid_auto_flow": null,
            "grid_auto_rows": null,
            "grid_column": null,
            "grid_gap": null,
            "grid_row": null,
            "grid_template_areas": null,
            "grid_template_columns": null,
            "grid_template_rows": null,
            "height": null,
            "justify_content": null,
            "justify_items": null,
            "left": null,
            "margin": null,
            "max_height": null,
            "max_width": null,
            "min_height": null,
            "min_width": null,
            "object_fit": null,
            "object_position": null,
            "order": null,
            "overflow": null,
            "overflow_x": null,
            "overflow_y": null,
            "padding": null,
            "right": null,
            "top": null,
            "visibility": null,
            "width": "100%"
          }
        },
        "71e80320f9f94e95a4605243e2d2bc1f": {
          "model_module": "@jupyter-widgets/base",
          "model_name": "LayoutModel",
          "model_module_version": "1.2.0",
          "state": {
            "_model_module": "@jupyter-widgets/base",
            "_model_module_version": "1.2.0",
            "_model_name": "LayoutModel",
            "_view_count": null,
            "_view_module": "@jupyter-widgets/base",
            "_view_module_version": "1.2.0",
            "_view_name": "LayoutView",
            "align_content": null,
            "align_items": null,
            "align_self": null,
            "border": null,
            "bottom": null,
            "display": null,
            "flex": null,
            "flex_flow": null,
            "grid_area": null,
            "grid_auto_columns": null,
            "grid_auto_flow": null,
            "grid_auto_rows": null,
            "grid_column": null,
            "grid_gap": null,
            "grid_row": null,
            "grid_template_areas": null,
            "grid_template_columns": null,
            "grid_template_rows": null,
            "height": null,
            "justify_content": null,
            "justify_items": null,
            "left": null,
            "margin": null,
            "max_height": null,
            "max_width": null,
            "min_height": null,
            "min_width": null,
            "object_fit": null,
            "object_position": null,
            "order": null,
            "overflow": null,
            "overflow_x": null,
            "overflow_y": null,
            "padding": null,
            "right": null,
            "top": null,
            "visibility": null,
            "width": null
          }
        },
        "edd479ceff4a418d97633a065f256f6f": {
          "model_module": "@jupyter-widgets/controls",
          "model_name": "DescriptionStyleModel",
          "model_module_version": "1.5.0",
          "state": {
            "_model_module": "@jupyter-widgets/controls",
            "_model_module_version": "1.5.0",
            "_model_name": "DescriptionStyleModel",
            "_view_count": null,
            "_view_module": "@jupyter-widgets/base",
            "_view_module_version": "1.2.0",
            "_view_name": "StyleView",
            "description_width": ""
          }
        },
        "49d049e777d547e7a7bbd2e0567d37f3": {
          "model_module": "@jupyter-widgets/base",
          "model_name": "LayoutModel",
          "model_module_version": "1.2.0",
          "state": {
            "_model_module": "@jupyter-widgets/base",
            "_model_module_version": "1.2.0",
            "_model_name": "LayoutModel",
            "_view_count": null,
            "_view_module": "@jupyter-widgets/base",
            "_view_module_version": "1.2.0",
            "_view_name": "LayoutView",
            "align_content": null,
            "align_items": null,
            "align_self": null,
            "border": null,
            "bottom": null,
            "display": null,
            "flex": "2",
            "flex_flow": null,
            "grid_area": null,
            "grid_auto_columns": null,
            "grid_auto_flow": null,
            "grid_auto_rows": null,
            "grid_column": null,
            "grid_gap": null,
            "grid_row": null,
            "grid_template_areas": null,
            "grid_template_columns": null,
            "grid_template_rows": null,
            "height": null,
            "justify_content": null,
            "justify_items": null,
            "left": null,
            "margin": null,
            "max_height": null,
            "max_width": null,
            "min_height": null,
            "min_width": null,
            "object_fit": null,
            "object_position": null,
            "order": null,
            "overflow": null,
            "overflow_x": null,
            "overflow_y": null,
            "padding": null,
            "right": null,
            "top": null,
            "visibility": null,
            "width": null
          }
        },
        "c78b6f8f29cd48539efb0d6830aff744": {
          "model_module": "@jupyter-widgets/controls",
          "model_name": "ProgressStyleModel",
          "model_module_version": "1.5.0",
          "state": {
            "_model_module": "@jupyter-widgets/controls",
            "_model_module_version": "1.5.0",
            "_model_name": "ProgressStyleModel",
            "_view_count": null,
            "_view_module": "@jupyter-widgets/base",
            "_view_module_version": "1.2.0",
            "_view_name": "StyleView",
            "bar_color": null,
            "description_width": ""
          }
        },
        "176e72cf8d004f0093b64aa26e6b0361": {
          "model_module": "@jupyter-widgets/base",
          "model_name": "LayoutModel",
          "model_module_version": "1.2.0",
          "state": {
            "_model_module": "@jupyter-widgets/base",
            "_model_module_version": "1.2.0",
            "_model_name": "LayoutModel",
            "_view_count": null,
            "_view_module": "@jupyter-widgets/base",
            "_view_module_version": "1.2.0",
            "_view_name": "LayoutView",
            "align_content": null,
            "align_items": null,
            "align_self": null,
            "border": null,
            "bottom": null,
            "display": null,
            "flex": null,
            "flex_flow": null,
            "grid_area": null,
            "grid_auto_columns": null,
            "grid_auto_flow": null,
            "grid_auto_rows": null,
            "grid_column": null,
            "grid_gap": null,
            "grid_row": null,
            "grid_template_areas": null,
            "grid_template_columns": null,
            "grid_template_rows": null,
            "height": null,
            "justify_content": null,
            "justify_items": null,
            "left": null,
            "margin": null,
            "max_height": null,
            "max_width": null,
            "min_height": null,
            "min_width": null,
            "object_fit": null,
            "object_position": null,
            "order": null,
            "overflow": null,
            "overflow_x": null,
            "overflow_y": null,
            "padding": null,
            "right": null,
            "top": null,
            "visibility": null,
            "width": null
          }
        },
        "1bfa519fa931414fb1c71fb800119bea": {
          "model_module": "@jupyter-widgets/controls",
          "model_name": "DescriptionStyleModel",
          "model_module_version": "1.5.0",
          "state": {
            "_model_module": "@jupyter-widgets/controls",
            "_model_module_version": "1.5.0",
            "_model_name": "DescriptionStyleModel",
            "_view_count": null,
            "_view_module": "@jupyter-widgets/base",
            "_view_module_version": "1.2.0",
            "_view_name": "StyleView",
            "description_width": ""
          }
        },
        "100ce559fc824991bd2254f5c17dae75": {
          "model_module": "@jupyter-widgets/controls",
          "model_name": "HBoxModel",
          "model_module_version": "1.5.0",
          "state": {
            "_dom_classes": [],
            "_model_module": "@jupyter-widgets/controls",
            "_model_module_version": "1.5.0",
            "_model_name": "HBoxModel",
            "_view_count": null,
            "_view_module": "@jupyter-widgets/controls",
            "_view_module_version": "1.5.0",
            "_view_name": "HBoxView",
            "box_style": "",
            "children": [
              "IPY_MODEL_235eba003b7747f9852ee5f6f8152bf5",
              "IPY_MODEL_a8ba6fbb79334343a603a436ac518305",
              "IPY_MODEL_1be7bbd1743d4b3dbc6b564d7e541f87"
            ],
            "layout": "IPY_MODEL_f7f511b699234f4299fe13b6c2db927a"
          }
        },
        "235eba003b7747f9852ee5f6f8152bf5": {
          "model_module": "@jupyter-widgets/controls",
          "model_name": "HTMLModel",
          "model_module_version": "1.5.0",
          "state": {
            "_dom_classes": [],
            "_model_module": "@jupyter-widgets/controls",
            "_model_module_version": "1.5.0",
            "_model_name": "HTMLModel",
            "_view_count": null,
            "_view_module": "@jupyter-widgets/controls",
            "_view_module_version": "1.5.0",
            "_view_name": "HTMLView",
            "description": "",
            "description_tooltip": null,
            "layout": "IPY_MODEL_6e30bfdfb0da4f7d8fb3562cebd396de",
            "placeholder": "​",
            "style": "IPY_MODEL_150f02b0727e494a8ca507259550793e",
            "value": "Validation DataLoader 0: 100%"
          }
        },
        "a8ba6fbb79334343a603a436ac518305": {
          "model_module": "@jupyter-widgets/controls",
          "model_name": "FloatProgressModel",
          "model_module_version": "1.5.0",
          "state": {
            "_dom_classes": [],
            "_model_module": "@jupyter-widgets/controls",
            "_model_module_version": "1.5.0",
            "_model_name": "FloatProgressModel",
            "_view_count": null,
            "_view_module": "@jupyter-widgets/controls",
            "_view_module_version": "1.5.0",
            "_view_name": "ProgressView",
            "bar_style": "",
            "description": "",
            "description_tooltip": null,
            "layout": "IPY_MODEL_a6bfe0517aab4013a43d4ad3061a0f5d",
            "max": 40,
            "min": 0,
            "orientation": "horizontal",
            "style": "IPY_MODEL_f48e1631ef7e4f989466245f38321541",
            "value": 40
          }
        },
        "1be7bbd1743d4b3dbc6b564d7e541f87": {
          "model_module": "@jupyter-widgets/controls",
          "model_name": "HTMLModel",
          "model_module_version": "1.5.0",
          "state": {
            "_dom_classes": [],
            "_model_module": "@jupyter-widgets/controls",
            "_model_module_version": "1.5.0",
            "_model_name": "HTMLModel",
            "_view_count": null,
            "_view_module": "@jupyter-widgets/controls",
            "_view_module_version": "1.5.0",
            "_view_name": "HTMLView",
            "description": "",
            "description_tooltip": null,
            "layout": "IPY_MODEL_0d075828577b4675a0229d09074d3e7f",
            "placeholder": "​",
            "style": "IPY_MODEL_4d7e33de93d9400ba48508f1f0ee4159",
            "value": " 40/40 [00:01&lt;00:00, 25.57it/s]"
          }
        },
        "f7f511b699234f4299fe13b6c2db927a": {
          "model_module": "@jupyter-widgets/base",
          "model_name": "LayoutModel",
          "model_module_version": "1.2.0",
          "state": {
            "_model_module": "@jupyter-widgets/base",
            "_model_module_version": "1.2.0",
            "_model_name": "LayoutModel",
            "_view_count": null,
            "_view_module": "@jupyter-widgets/base",
            "_view_module_version": "1.2.0",
            "_view_name": "LayoutView",
            "align_content": null,
            "align_items": null,
            "align_self": null,
            "border": null,
            "bottom": null,
            "display": "inline-flex",
            "flex": null,
            "flex_flow": "row wrap",
            "grid_area": null,
            "grid_auto_columns": null,
            "grid_auto_flow": null,
            "grid_auto_rows": null,
            "grid_column": null,
            "grid_gap": null,
            "grid_row": null,
            "grid_template_areas": null,
            "grid_template_columns": null,
            "grid_template_rows": null,
            "height": null,
            "justify_content": null,
            "justify_items": null,
            "left": null,
            "margin": null,
            "max_height": null,
            "max_width": null,
            "min_height": null,
            "min_width": null,
            "object_fit": null,
            "object_position": null,
            "order": null,
            "overflow": null,
            "overflow_x": null,
            "overflow_y": null,
            "padding": null,
            "right": null,
            "top": null,
            "visibility": null,
            "width": "100%"
          }
        },
        "6e30bfdfb0da4f7d8fb3562cebd396de": {
          "model_module": "@jupyter-widgets/base",
          "model_name": "LayoutModel",
          "model_module_version": "1.2.0",
          "state": {
            "_model_module": "@jupyter-widgets/base",
            "_model_module_version": "1.2.0",
            "_model_name": "LayoutModel",
            "_view_count": null,
            "_view_module": "@jupyter-widgets/base",
            "_view_module_version": "1.2.0",
            "_view_name": "LayoutView",
            "align_content": null,
            "align_items": null,
            "align_self": null,
            "border": null,
            "bottom": null,
            "display": null,
            "flex": null,
            "flex_flow": null,
            "grid_area": null,
            "grid_auto_columns": null,
            "grid_auto_flow": null,
            "grid_auto_rows": null,
            "grid_column": null,
            "grid_gap": null,
            "grid_row": null,
            "grid_template_areas": null,
            "grid_template_columns": null,
            "grid_template_rows": null,
            "height": null,
            "justify_content": null,
            "justify_items": null,
            "left": null,
            "margin": null,
            "max_height": null,
            "max_width": null,
            "min_height": null,
            "min_width": null,
            "object_fit": null,
            "object_position": null,
            "order": null,
            "overflow": null,
            "overflow_x": null,
            "overflow_y": null,
            "padding": null,
            "right": null,
            "top": null,
            "visibility": null,
            "width": null
          }
        },
        "150f02b0727e494a8ca507259550793e": {
          "model_module": "@jupyter-widgets/controls",
          "model_name": "DescriptionStyleModel",
          "model_module_version": "1.5.0",
          "state": {
            "_model_module": "@jupyter-widgets/controls",
            "_model_module_version": "1.5.0",
            "_model_name": "DescriptionStyleModel",
            "_view_count": null,
            "_view_module": "@jupyter-widgets/base",
            "_view_module_version": "1.2.0",
            "_view_name": "StyleView",
            "description_width": ""
          }
        },
        "a6bfe0517aab4013a43d4ad3061a0f5d": {
          "model_module": "@jupyter-widgets/base",
          "model_name": "LayoutModel",
          "model_module_version": "1.2.0",
          "state": {
            "_model_module": "@jupyter-widgets/base",
            "_model_module_version": "1.2.0",
            "_model_name": "LayoutModel",
            "_view_count": null,
            "_view_module": "@jupyter-widgets/base",
            "_view_module_version": "1.2.0",
            "_view_name": "LayoutView",
            "align_content": null,
            "align_items": null,
            "align_self": null,
            "border": null,
            "bottom": null,
            "display": null,
            "flex": "2",
            "flex_flow": null,
            "grid_area": null,
            "grid_auto_columns": null,
            "grid_auto_flow": null,
            "grid_auto_rows": null,
            "grid_column": null,
            "grid_gap": null,
            "grid_row": null,
            "grid_template_areas": null,
            "grid_template_columns": null,
            "grid_template_rows": null,
            "height": null,
            "justify_content": null,
            "justify_items": null,
            "left": null,
            "margin": null,
            "max_height": null,
            "max_width": null,
            "min_height": null,
            "min_width": null,
            "object_fit": null,
            "object_position": null,
            "order": null,
            "overflow": null,
            "overflow_x": null,
            "overflow_y": null,
            "padding": null,
            "right": null,
            "top": null,
            "visibility": null,
            "width": null
          }
        },
        "f48e1631ef7e4f989466245f38321541": {
          "model_module": "@jupyter-widgets/controls",
          "model_name": "ProgressStyleModel",
          "model_module_version": "1.5.0",
          "state": {
            "_model_module": "@jupyter-widgets/controls",
            "_model_module_version": "1.5.0",
            "_model_name": "ProgressStyleModel",
            "_view_count": null,
            "_view_module": "@jupyter-widgets/base",
            "_view_module_version": "1.2.0",
            "_view_name": "StyleView",
            "bar_color": null,
            "description_width": ""
          }
        },
        "0d075828577b4675a0229d09074d3e7f": {
          "model_module": "@jupyter-widgets/base",
          "model_name": "LayoutModel",
          "model_module_version": "1.2.0",
          "state": {
            "_model_module": "@jupyter-widgets/base",
            "_model_module_version": "1.2.0",
            "_model_name": "LayoutModel",
            "_view_count": null,
            "_view_module": "@jupyter-widgets/base",
            "_view_module_version": "1.2.0",
            "_view_name": "LayoutView",
            "align_content": null,
            "align_items": null,
            "align_self": null,
            "border": null,
            "bottom": null,
            "display": null,
            "flex": null,
            "flex_flow": null,
            "grid_area": null,
            "grid_auto_columns": null,
            "grid_auto_flow": null,
            "grid_auto_rows": null,
            "grid_column": null,
            "grid_gap": null,
            "grid_row": null,
            "grid_template_areas": null,
            "grid_template_columns": null,
            "grid_template_rows": null,
            "height": null,
            "justify_content": null,
            "justify_items": null,
            "left": null,
            "margin": null,
            "max_height": null,
            "max_width": null,
            "min_height": null,
            "min_width": null,
            "object_fit": null,
            "object_position": null,
            "order": null,
            "overflow": null,
            "overflow_x": null,
            "overflow_y": null,
            "padding": null,
            "right": null,
            "top": null,
            "visibility": null,
            "width": null
          }
        },
        "4d7e33de93d9400ba48508f1f0ee4159": {
          "model_module": "@jupyter-widgets/controls",
          "model_name": "DescriptionStyleModel",
          "model_module_version": "1.5.0",
          "state": {
            "_model_module": "@jupyter-widgets/controls",
            "_model_module_version": "1.5.0",
            "_model_name": "DescriptionStyleModel",
            "_view_count": null,
            "_view_module": "@jupyter-widgets/base",
            "_view_module_version": "1.2.0",
            "_view_name": "StyleView",
            "description_width": ""
          }
        },
        "fd29849a48174fb2a99573861d82dc15": {
          "model_module": "@jupyter-widgets/controls",
          "model_name": "HBoxModel",
          "model_module_version": "1.5.0",
          "state": {
            "_dom_classes": [],
            "_model_module": "@jupyter-widgets/controls",
            "_model_module_version": "1.5.0",
            "_model_name": "HBoxModel",
            "_view_count": null,
            "_view_module": "@jupyter-widgets/controls",
            "_view_module_version": "1.5.0",
            "_view_name": "HBoxView",
            "box_style": "",
            "children": [
              "IPY_MODEL_ade60aaaddde4bda8f5e752ed3dd3fff",
              "IPY_MODEL_e422a410a1ae4fdd9d4cc75c29f12b96",
              "IPY_MODEL_861c688377324b2fbbdabadf78202482"
            ],
            "layout": "IPY_MODEL_cf0cbeabbf3f4281a4c2ebd4eb7df3dc"
          }
        },
        "ade60aaaddde4bda8f5e752ed3dd3fff": {
          "model_module": "@jupyter-widgets/controls",
          "model_name": "HTMLModel",
          "model_module_version": "1.5.0",
          "state": {
            "_dom_classes": [],
            "_model_module": "@jupyter-widgets/controls",
            "_model_module_version": "1.5.0",
            "_model_name": "HTMLModel",
            "_view_count": null,
            "_view_module": "@jupyter-widgets/controls",
            "_view_module_version": "1.5.0",
            "_view_name": "HTMLView",
            "description": "",
            "description_tooltip": null,
            "layout": "IPY_MODEL_29679b44eac74412ab746a8aa0552b83",
            "placeholder": "​",
            "style": "IPY_MODEL_5c7cab1a155c430aa4c4cbd38966013e",
            "value": "Validation DataLoader 0: 100%"
          }
        },
        "e422a410a1ae4fdd9d4cc75c29f12b96": {
          "model_module": "@jupyter-widgets/controls",
          "model_name": "FloatProgressModel",
          "model_module_version": "1.5.0",
          "state": {
            "_dom_classes": [],
            "_model_module": "@jupyter-widgets/controls",
            "_model_module_version": "1.5.0",
            "_model_name": "FloatProgressModel",
            "_view_count": null,
            "_view_module": "@jupyter-widgets/controls",
            "_view_module_version": "1.5.0",
            "_view_name": "ProgressView",
            "bar_style": "",
            "description": "",
            "description_tooltip": null,
            "layout": "IPY_MODEL_93d20e5159414f748d7608e9626b40e7",
            "max": 40,
            "min": 0,
            "orientation": "horizontal",
            "style": "IPY_MODEL_6ed5f81d33924f85aa12e2788625dd3b",
            "value": 40
          }
        },
        "861c688377324b2fbbdabadf78202482": {
          "model_module": "@jupyter-widgets/controls",
          "model_name": "HTMLModel",
          "model_module_version": "1.5.0",
          "state": {
            "_dom_classes": [],
            "_model_module": "@jupyter-widgets/controls",
            "_model_module_version": "1.5.0",
            "_model_name": "HTMLModel",
            "_view_count": null,
            "_view_module": "@jupyter-widgets/controls",
            "_view_module_version": "1.5.0",
            "_view_name": "HTMLView",
            "description": "",
            "description_tooltip": null,
            "layout": "IPY_MODEL_8d88729a5f5e4c18940597c4a7592229",
            "placeholder": "​",
            "style": "IPY_MODEL_020945e8e1fb450e88fa7068e401dede",
            "value": " 40/40 [00:01&lt;00:00, 28.99it/s]"
          }
        },
        "cf0cbeabbf3f4281a4c2ebd4eb7df3dc": {
          "model_module": "@jupyter-widgets/base",
          "model_name": "LayoutModel",
          "model_module_version": "1.2.0",
          "state": {
            "_model_module": "@jupyter-widgets/base",
            "_model_module_version": "1.2.0",
            "_model_name": "LayoutModel",
            "_view_count": null,
            "_view_module": "@jupyter-widgets/base",
            "_view_module_version": "1.2.0",
            "_view_name": "LayoutView",
            "align_content": null,
            "align_items": null,
            "align_self": null,
            "border": null,
            "bottom": null,
            "display": "inline-flex",
            "flex": null,
            "flex_flow": "row wrap",
            "grid_area": null,
            "grid_auto_columns": null,
            "grid_auto_flow": null,
            "grid_auto_rows": null,
            "grid_column": null,
            "grid_gap": null,
            "grid_row": null,
            "grid_template_areas": null,
            "grid_template_columns": null,
            "grid_template_rows": null,
            "height": null,
            "justify_content": null,
            "justify_items": null,
            "left": null,
            "margin": null,
            "max_height": null,
            "max_width": null,
            "min_height": null,
            "min_width": null,
            "object_fit": null,
            "object_position": null,
            "order": null,
            "overflow": null,
            "overflow_x": null,
            "overflow_y": null,
            "padding": null,
            "right": null,
            "top": null,
            "visibility": null,
            "width": "100%"
          }
        },
        "29679b44eac74412ab746a8aa0552b83": {
          "model_module": "@jupyter-widgets/base",
          "model_name": "LayoutModel",
          "model_module_version": "1.2.0",
          "state": {
            "_model_module": "@jupyter-widgets/base",
            "_model_module_version": "1.2.0",
            "_model_name": "LayoutModel",
            "_view_count": null,
            "_view_module": "@jupyter-widgets/base",
            "_view_module_version": "1.2.0",
            "_view_name": "LayoutView",
            "align_content": null,
            "align_items": null,
            "align_self": null,
            "border": null,
            "bottom": null,
            "display": null,
            "flex": null,
            "flex_flow": null,
            "grid_area": null,
            "grid_auto_columns": null,
            "grid_auto_flow": null,
            "grid_auto_rows": null,
            "grid_column": null,
            "grid_gap": null,
            "grid_row": null,
            "grid_template_areas": null,
            "grid_template_columns": null,
            "grid_template_rows": null,
            "height": null,
            "justify_content": null,
            "justify_items": null,
            "left": null,
            "margin": null,
            "max_height": null,
            "max_width": null,
            "min_height": null,
            "min_width": null,
            "object_fit": null,
            "object_position": null,
            "order": null,
            "overflow": null,
            "overflow_x": null,
            "overflow_y": null,
            "padding": null,
            "right": null,
            "top": null,
            "visibility": null,
            "width": null
          }
        },
        "5c7cab1a155c430aa4c4cbd38966013e": {
          "model_module": "@jupyter-widgets/controls",
          "model_name": "DescriptionStyleModel",
          "model_module_version": "1.5.0",
          "state": {
            "_model_module": "@jupyter-widgets/controls",
            "_model_module_version": "1.5.0",
            "_model_name": "DescriptionStyleModel",
            "_view_count": null,
            "_view_module": "@jupyter-widgets/base",
            "_view_module_version": "1.2.0",
            "_view_name": "StyleView",
            "description_width": ""
          }
        },
        "93d20e5159414f748d7608e9626b40e7": {
          "model_module": "@jupyter-widgets/base",
          "model_name": "LayoutModel",
          "model_module_version": "1.2.0",
          "state": {
            "_model_module": "@jupyter-widgets/base",
            "_model_module_version": "1.2.0",
            "_model_name": "LayoutModel",
            "_view_count": null,
            "_view_module": "@jupyter-widgets/base",
            "_view_module_version": "1.2.0",
            "_view_name": "LayoutView",
            "align_content": null,
            "align_items": null,
            "align_self": null,
            "border": null,
            "bottom": null,
            "display": null,
            "flex": "2",
            "flex_flow": null,
            "grid_area": null,
            "grid_auto_columns": null,
            "grid_auto_flow": null,
            "grid_auto_rows": null,
            "grid_column": null,
            "grid_gap": null,
            "grid_row": null,
            "grid_template_areas": null,
            "grid_template_columns": null,
            "grid_template_rows": null,
            "height": null,
            "justify_content": null,
            "justify_items": null,
            "left": null,
            "margin": null,
            "max_height": null,
            "max_width": null,
            "min_height": null,
            "min_width": null,
            "object_fit": null,
            "object_position": null,
            "order": null,
            "overflow": null,
            "overflow_x": null,
            "overflow_y": null,
            "padding": null,
            "right": null,
            "top": null,
            "visibility": null,
            "width": null
          }
        },
        "6ed5f81d33924f85aa12e2788625dd3b": {
          "model_module": "@jupyter-widgets/controls",
          "model_name": "ProgressStyleModel",
          "model_module_version": "1.5.0",
          "state": {
            "_model_module": "@jupyter-widgets/controls",
            "_model_module_version": "1.5.0",
            "_model_name": "ProgressStyleModel",
            "_view_count": null,
            "_view_module": "@jupyter-widgets/base",
            "_view_module_version": "1.2.0",
            "_view_name": "StyleView",
            "bar_color": null,
            "description_width": ""
          }
        },
        "8d88729a5f5e4c18940597c4a7592229": {
          "model_module": "@jupyter-widgets/base",
          "model_name": "LayoutModel",
          "model_module_version": "1.2.0",
          "state": {
            "_model_module": "@jupyter-widgets/base",
            "_model_module_version": "1.2.0",
            "_model_name": "LayoutModel",
            "_view_count": null,
            "_view_module": "@jupyter-widgets/base",
            "_view_module_version": "1.2.0",
            "_view_name": "LayoutView",
            "align_content": null,
            "align_items": null,
            "align_self": null,
            "border": null,
            "bottom": null,
            "display": null,
            "flex": null,
            "flex_flow": null,
            "grid_area": null,
            "grid_auto_columns": null,
            "grid_auto_flow": null,
            "grid_auto_rows": null,
            "grid_column": null,
            "grid_gap": null,
            "grid_row": null,
            "grid_template_areas": null,
            "grid_template_columns": null,
            "grid_template_rows": null,
            "height": null,
            "justify_content": null,
            "justify_items": null,
            "left": null,
            "margin": null,
            "max_height": null,
            "max_width": null,
            "min_height": null,
            "min_width": null,
            "object_fit": null,
            "object_position": null,
            "order": null,
            "overflow": null,
            "overflow_x": null,
            "overflow_y": null,
            "padding": null,
            "right": null,
            "top": null,
            "visibility": null,
            "width": null
          }
        },
        "020945e8e1fb450e88fa7068e401dede": {
          "model_module": "@jupyter-widgets/controls",
          "model_name": "DescriptionStyleModel",
          "model_module_version": "1.5.0",
          "state": {
            "_model_module": "@jupyter-widgets/controls",
            "_model_module_version": "1.5.0",
            "_model_name": "DescriptionStyleModel",
            "_view_count": null,
            "_view_module": "@jupyter-widgets/base",
            "_view_module_version": "1.2.0",
            "_view_name": "StyleView",
            "description_width": ""
          }
        },
        "5958b1ecaa3b4eee968b1a4ab6306a92": {
          "model_module": "@jupyter-widgets/controls",
          "model_name": "HBoxModel",
          "model_module_version": "1.5.0",
          "state": {
            "_dom_classes": [],
            "_model_module": "@jupyter-widgets/controls",
            "_model_module_version": "1.5.0",
            "_model_name": "HBoxModel",
            "_view_count": null,
            "_view_module": "@jupyter-widgets/controls",
            "_view_module_version": "1.5.0",
            "_view_name": "HBoxView",
            "box_style": "",
            "children": [
              "IPY_MODEL_af5b2d36deb74d2e9d8f9488d68c6fa0",
              "IPY_MODEL_e8391ab3739d49a591d127e28381fee9",
              "IPY_MODEL_4548602bc4fd41709ce6eaf94d3f727d"
            ],
            "layout": "IPY_MODEL_18f888457b6e4caeacb9a4fceb1dc7e5"
          }
        },
        "af5b2d36deb74d2e9d8f9488d68c6fa0": {
          "model_module": "@jupyter-widgets/controls",
          "model_name": "HTMLModel",
          "model_module_version": "1.5.0",
          "state": {
            "_dom_classes": [],
            "_model_module": "@jupyter-widgets/controls",
            "_model_module_version": "1.5.0",
            "_model_name": "HTMLModel",
            "_view_count": null,
            "_view_module": "@jupyter-widgets/controls",
            "_view_module_version": "1.5.0",
            "_view_name": "HTMLView",
            "description": "",
            "description_tooltip": null,
            "layout": "IPY_MODEL_0950574e458c49cb882daac925b96deb",
            "placeholder": "​",
            "style": "IPY_MODEL_087d4cc8126d49d7af328ac49e82b1d8",
            "value": "Validation DataLoader 0: 100%"
          }
        },
        "e8391ab3739d49a591d127e28381fee9": {
          "model_module": "@jupyter-widgets/controls",
          "model_name": "FloatProgressModel",
          "model_module_version": "1.5.0",
          "state": {
            "_dom_classes": [],
            "_model_module": "@jupyter-widgets/controls",
            "_model_module_version": "1.5.0",
            "_model_name": "FloatProgressModel",
            "_view_count": null,
            "_view_module": "@jupyter-widgets/controls",
            "_view_module_version": "1.5.0",
            "_view_name": "ProgressView",
            "bar_style": "",
            "description": "",
            "description_tooltip": null,
            "layout": "IPY_MODEL_5dae261e9a6e49439844e6d1076e8522",
            "max": 40,
            "min": 0,
            "orientation": "horizontal",
            "style": "IPY_MODEL_7d2fc0eca58547a49747b30b4e4b44d9",
            "value": 40
          }
        },
        "4548602bc4fd41709ce6eaf94d3f727d": {
          "model_module": "@jupyter-widgets/controls",
          "model_name": "HTMLModel",
          "model_module_version": "1.5.0",
          "state": {
            "_dom_classes": [],
            "_model_module": "@jupyter-widgets/controls",
            "_model_module_version": "1.5.0",
            "_model_name": "HTMLModel",
            "_view_count": null,
            "_view_module": "@jupyter-widgets/controls",
            "_view_module_version": "1.5.0",
            "_view_name": "HTMLView",
            "description": "",
            "description_tooltip": null,
            "layout": "IPY_MODEL_246ace20f2064fda9f51c85193171090",
            "placeholder": "​",
            "style": "IPY_MODEL_bb20cf66542d432baa61ed1231101d49",
            "value": " 40/40 [00:01&lt;00:00, 26.51it/s]"
          }
        },
        "18f888457b6e4caeacb9a4fceb1dc7e5": {
          "model_module": "@jupyter-widgets/base",
          "model_name": "LayoutModel",
          "model_module_version": "1.2.0",
          "state": {
            "_model_module": "@jupyter-widgets/base",
            "_model_module_version": "1.2.0",
            "_model_name": "LayoutModel",
            "_view_count": null,
            "_view_module": "@jupyter-widgets/base",
            "_view_module_version": "1.2.0",
            "_view_name": "LayoutView",
            "align_content": null,
            "align_items": null,
            "align_self": null,
            "border": null,
            "bottom": null,
            "display": "inline-flex",
            "flex": null,
            "flex_flow": "row wrap",
            "grid_area": null,
            "grid_auto_columns": null,
            "grid_auto_flow": null,
            "grid_auto_rows": null,
            "grid_column": null,
            "grid_gap": null,
            "grid_row": null,
            "grid_template_areas": null,
            "grid_template_columns": null,
            "grid_template_rows": null,
            "height": null,
            "justify_content": null,
            "justify_items": null,
            "left": null,
            "margin": null,
            "max_height": null,
            "max_width": null,
            "min_height": null,
            "min_width": null,
            "object_fit": null,
            "object_position": null,
            "order": null,
            "overflow": null,
            "overflow_x": null,
            "overflow_y": null,
            "padding": null,
            "right": null,
            "top": null,
            "visibility": null,
            "width": "100%"
          }
        },
        "0950574e458c49cb882daac925b96deb": {
          "model_module": "@jupyter-widgets/base",
          "model_name": "LayoutModel",
          "model_module_version": "1.2.0",
          "state": {
            "_model_module": "@jupyter-widgets/base",
            "_model_module_version": "1.2.0",
            "_model_name": "LayoutModel",
            "_view_count": null,
            "_view_module": "@jupyter-widgets/base",
            "_view_module_version": "1.2.0",
            "_view_name": "LayoutView",
            "align_content": null,
            "align_items": null,
            "align_self": null,
            "border": null,
            "bottom": null,
            "display": null,
            "flex": null,
            "flex_flow": null,
            "grid_area": null,
            "grid_auto_columns": null,
            "grid_auto_flow": null,
            "grid_auto_rows": null,
            "grid_column": null,
            "grid_gap": null,
            "grid_row": null,
            "grid_template_areas": null,
            "grid_template_columns": null,
            "grid_template_rows": null,
            "height": null,
            "justify_content": null,
            "justify_items": null,
            "left": null,
            "margin": null,
            "max_height": null,
            "max_width": null,
            "min_height": null,
            "min_width": null,
            "object_fit": null,
            "object_position": null,
            "order": null,
            "overflow": null,
            "overflow_x": null,
            "overflow_y": null,
            "padding": null,
            "right": null,
            "top": null,
            "visibility": null,
            "width": null
          }
        },
        "087d4cc8126d49d7af328ac49e82b1d8": {
          "model_module": "@jupyter-widgets/controls",
          "model_name": "DescriptionStyleModel",
          "model_module_version": "1.5.0",
          "state": {
            "_model_module": "@jupyter-widgets/controls",
            "_model_module_version": "1.5.0",
            "_model_name": "DescriptionStyleModel",
            "_view_count": null,
            "_view_module": "@jupyter-widgets/base",
            "_view_module_version": "1.2.0",
            "_view_name": "StyleView",
            "description_width": ""
          }
        },
        "5dae261e9a6e49439844e6d1076e8522": {
          "model_module": "@jupyter-widgets/base",
          "model_name": "LayoutModel",
          "model_module_version": "1.2.0",
          "state": {
            "_model_module": "@jupyter-widgets/base",
            "_model_module_version": "1.2.0",
            "_model_name": "LayoutModel",
            "_view_count": null,
            "_view_module": "@jupyter-widgets/base",
            "_view_module_version": "1.2.0",
            "_view_name": "LayoutView",
            "align_content": null,
            "align_items": null,
            "align_self": null,
            "border": null,
            "bottom": null,
            "display": null,
            "flex": "2",
            "flex_flow": null,
            "grid_area": null,
            "grid_auto_columns": null,
            "grid_auto_flow": null,
            "grid_auto_rows": null,
            "grid_column": null,
            "grid_gap": null,
            "grid_row": null,
            "grid_template_areas": null,
            "grid_template_columns": null,
            "grid_template_rows": null,
            "height": null,
            "justify_content": null,
            "justify_items": null,
            "left": null,
            "margin": null,
            "max_height": null,
            "max_width": null,
            "min_height": null,
            "min_width": null,
            "object_fit": null,
            "object_position": null,
            "order": null,
            "overflow": null,
            "overflow_x": null,
            "overflow_y": null,
            "padding": null,
            "right": null,
            "top": null,
            "visibility": null,
            "width": null
          }
        },
        "7d2fc0eca58547a49747b30b4e4b44d9": {
          "model_module": "@jupyter-widgets/controls",
          "model_name": "ProgressStyleModel",
          "model_module_version": "1.5.0",
          "state": {
            "_model_module": "@jupyter-widgets/controls",
            "_model_module_version": "1.5.0",
            "_model_name": "ProgressStyleModel",
            "_view_count": null,
            "_view_module": "@jupyter-widgets/base",
            "_view_module_version": "1.2.0",
            "_view_name": "StyleView",
            "bar_color": null,
            "description_width": ""
          }
        },
        "246ace20f2064fda9f51c85193171090": {
          "model_module": "@jupyter-widgets/base",
          "model_name": "LayoutModel",
          "model_module_version": "1.2.0",
          "state": {
            "_model_module": "@jupyter-widgets/base",
            "_model_module_version": "1.2.0",
            "_model_name": "LayoutModel",
            "_view_count": null,
            "_view_module": "@jupyter-widgets/base",
            "_view_module_version": "1.2.0",
            "_view_name": "LayoutView",
            "align_content": null,
            "align_items": null,
            "align_self": null,
            "border": null,
            "bottom": null,
            "display": null,
            "flex": null,
            "flex_flow": null,
            "grid_area": null,
            "grid_auto_columns": null,
            "grid_auto_flow": null,
            "grid_auto_rows": null,
            "grid_column": null,
            "grid_gap": null,
            "grid_row": null,
            "grid_template_areas": null,
            "grid_template_columns": null,
            "grid_template_rows": null,
            "height": null,
            "justify_content": null,
            "justify_items": null,
            "left": null,
            "margin": null,
            "max_height": null,
            "max_width": null,
            "min_height": null,
            "min_width": null,
            "object_fit": null,
            "object_position": null,
            "order": null,
            "overflow": null,
            "overflow_x": null,
            "overflow_y": null,
            "padding": null,
            "right": null,
            "top": null,
            "visibility": null,
            "width": null
          }
        },
        "bb20cf66542d432baa61ed1231101d49": {
          "model_module": "@jupyter-widgets/controls",
          "model_name": "DescriptionStyleModel",
          "model_module_version": "1.5.0",
          "state": {
            "_model_module": "@jupyter-widgets/controls",
            "_model_module_version": "1.5.0",
            "_model_name": "DescriptionStyleModel",
            "_view_count": null,
            "_view_module": "@jupyter-widgets/base",
            "_view_module_version": "1.2.0",
            "_view_name": "StyleView",
            "description_width": ""
          }
        },
        "d6e15a2783494fea903cbc60d8448cb7": {
          "model_module": "@jupyter-widgets/controls",
          "model_name": "HBoxModel",
          "model_module_version": "1.5.0",
          "state": {
            "_dom_classes": [],
            "_model_module": "@jupyter-widgets/controls",
            "_model_module_version": "1.5.0",
            "_model_name": "HBoxModel",
            "_view_count": null,
            "_view_module": "@jupyter-widgets/controls",
            "_view_module_version": "1.5.0",
            "_view_name": "HBoxView",
            "box_style": "",
            "children": [
              "IPY_MODEL_ca230df2f53c45f9b35461f2cced65e2",
              "IPY_MODEL_f3503ebdfbe1492fb44fec40143cc381",
              "IPY_MODEL_2dc2cc0277d042ab8383bbb78f643e5f"
            ],
            "layout": "IPY_MODEL_4ef7a1bc2ece4b90a58823884c88c49f"
          }
        },
        "ca230df2f53c45f9b35461f2cced65e2": {
          "model_module": "@jupyter-widgets/controls",
          "model_name": "HTMLModel",
          "model_module_version": "1.5.0",
          "state": {
            "_dom_classes": [],
            "_model_module": "@jupyter-widgets/controls",
            "_model_module_version": "1.5.0",
            "_model_name": "HTMLModel",
            "_view_count": null,
            "_view_module": "@jupyter-widgets/controls",
            "_view_module_version": "1.5.0",
            "_view_name": "HTMLView",
            "description": "",
            "description_tooltip": null,
            "layout": "IPY_MODEL_6ee586ce9f95428cbf442d51ac2a11c8",
            "placeholder": "​",
            "style": "IPY_MODEL_ff38d17676384f0ba21c7ffef752671b",
            "value": "Testing DataLoader 0: 100%"
          }
        },
        "f3503ebdfbe1492fb44fec40143cc381": {
          "model_module": "@jupyter-widgets/controls",
          "model_name": "FloatProgressModel",
          "model_module_version": "1.5.0",
          "state": {
            "_dom_classes": [],
            "_model_module": "@jupyter-widgets/controls",
            "_model_module_version": "1.5.0",
            "_model_name": "FloatProgressModel",
            "_view_count": null,
            "_view_module": "@jupyter-widgets/controls",
            "_view_module_version": "1.5.0",
            "_view_name": "ProgressView",
            "bar_style": "success",
            "description": "",
            "description_tooltip": null,
            "layout": "IPY_MODEL_523ad73580274753822d4bceaae64c81",
            "max": 40,
            "min": 0,
            "orientation": "horizontal",
            "style": "IPY_MODEL_ad420af2ebe44e3cbf3f0ce863909fef",
            "value": 40
          }
        },
        "2dc2cc0277d042ab8383bbb78f643e5f": {
          "model_module": "@jupyter-widgets/controls",
          "model_name": "HTMLModel",
          "model_module_version": "1.5.0",
          "state": {
            "_dom_classes": [],
            "_model_module": "@jupyter-widgets/controls",
            "_model_module_version": "1.5.0",
            "_model_name": "HTMLModel",
            "_view_count": null,
            "_view_module": "@jupyter-widgets/controls",
            "_view_module_version": "1.5.0",
            "_view_name": "HTMLView",
            "description": "",
            "description_tooltip": null,
            "layout": "IPY_MODEL_deb2516864d445d9bf1b065525aed6a0",
            "placeholder": "​",
            "style": "IPY_MODEL_34ebfae6c19c4d2b924a07d8089c8a83",
            "value": " 40/40 [00:01&lt;00:00, 24.41it/s]"
          }
        },
        "4ef7a1bc2ece4b90a58823884c88c49f": {
          "model_module": "@jupyter-widgets/base",
          "model_name": "LayoutModel",
          "model_module_version": "1.2.0",
          "state": {
            "_model_module": "@jupyter-widgets/base",
            "_model_module_version": "1.2.0",
            "_model_name": "LayoutModel",
            "_view_count": null,
            "_view_module": "@jupyter-widgets/base",
            "_view_module_version": "1.2.0",
            "_view_name": "LayoutView",
            "align_content": null,
            "align_items": null,
            "align_self": null,
            "border": null,
            "bottom": null,
            "display": "inline-flex",
            "flex": null,
            "flex_flow": "row wrap",
            "grid_area": null,
            "grid_auto_columns": null,
            "grid_auto_flow": null,
            "grid_auto_rows": null,
            "grid_column": null,
            "grid_gap": null,
            "grid_row": null,
            "grid_template_areas": null,
            "grid_template_columns": null,
            "grid_template_rows": null,
            "height": null,
            "justify_content": null,
            "justify_items": null,
            "left": null,
            "margin": null,
            "max_height": null,
            "max_width": null,
            "min_height": null,
            "min_width": null,
            "object_fit": null,
            "object_position": null,
            "order": null,
            "overflow": null,
            "overflow_x": null,
            "overflow_y": null,
            "padding": null,
            "right": null,
            "top": null,
            "visibility": null,
            "width": "100%"
          }
        },
        "6ee586ce9f95428cbf442d51ac2a11c8": {
          "model_module": "@jupyter-widgets/base",
          "model_name": "LayoutModel",
          "model_module_version": "1.2.0",
          "state": {
            "_model_module": "@jupyter-widgets/base",
            "_model_module_version": "1.2.0",
            "_model_name": "LayoutModel",
            "_view_count": null,
            "_view_module": "@jupyter-widgets/base",
            "_view_module_version": "1.2.0",
            "_view_name": "LayoutView",
            "align_content": null,
            "align_items": null,
            "align_self": null,
            "border": null,
            "bottom": null,
            "display": null,
            "flex": null,
            "flex_flow": null,
            "grid_area": null,
            "grid_auto_columns": null,
            "grid_auto_flow": null,
            "grid_auto_rows": null,
            "grid_column": null,
            "grid_gap": null,
            "grid_row": null,
            "grid_template_areas": null,
            "grid_template_columns": null,
            "grid_template_rows": null,
            "height": null,
            "justify_content": null,
            "justify_items": null,
            "left": null,
            "margin": null,
            "max_height": null,
            "max_width": null,
            "min_height": null,
            "min_width": null,
            "object_fit": null,
            "object_position": null,
            "order": null,
            "overflow": null,
            "overflow_x": null,
            "overflow_y": null,
            "padding": null,
            "right": null,
            "top": null,
            "visibility": null,
            "width": null
          }
        },
        "ff38d17676384f0ba21c7ffef752671b": {
          "model_module": "@jupyter-widgets/controls",
          "model_name": "DescriptionStyleModel",
          "model_module_version": "1.5.0",
          "state": {
            "_model_module": "@jupyter-widgets/controls",
            "_model_module_version": "1.5.0",
            "_model_name": "DescriptionStyleModel",
            "_view_count": null,
            "_view_module": "@jupyter-widgets/base",
            "_view_module_version": "1.2.0",
            "_view_name": "StyleView",
            "description_width": ""
          }
        },
        "523ad73580274753822d4bceaae64c81": {
          "model_module": "@jupyter-widgets/base",
          "model_name": "LayoutModel",
          "model_module_version": "1.2.0",
          "state": {
            "_model_module": "@jupyter-widgets/base",
            "_model_module_version": "1.2.0",
            "_model_name": "LayoutModel",
            "_view_count": null,
            "_view_module": "@jupyter-widgets/base",
            "_view_module_version": "1.2.0",
            "_view_name": "LayoutView",
            "align_content": null,
            "align_items": null,
            "align_self": null,
            "border": null,
            "bottom": null,
            "display": null,
            "flex": "2",
            "flex_flow": null,
            "grid_area": null,
            "grid_auto_columns": null,
            "grid_auto_flow": null,
            "grid_auto_rows": null,
            "grid_column": null,
            "grid_gap": null,
            "grid_row": null,
            "grid_template_areas": null,
            "grid_template_columns": null,
            "grid_template_rows": null,
            "height": null,
            "justify_content": null,
            "justify_items": null,
            "left": null,
            "margin": null,
            "max_height": null,
            "max_width": null,
            "min_height": null,
            "min_width": null,
            "object_fit": null,
            "object_position": null,
            "order": null,
            "overflow": null,
            "overflow_x": null,
            "overflow_y": null,
            "padding": null,
            "right": null,
            "top": null,
            "visibility": null,
            "width": null
          }
        },
        "ad420af2ebe44e3cbf3f0ce863909fef": {
          "model_module": "@jupyter-widgets/controls",
          "model_name": "ProgressStyleModel",
          "model_module_version": "1.5.0",
          "state": {
            "_model_module": "@jupyter-widgets/controls",
            "_model_module_version": "1.5.0",
            "_model_name": "ProgressStyleModel",
            "_view_count": null,
            "_view_module": "@jupyter-widgets/base",
            "_view_module_version": "1.2.0",
            "_view_name": "StyleView",
            "bar_color": null,
            "description_width": ""
          }
        },
        "deb2516864d445d9bf1b065525aed6a0": {
          "model_module": "@jupyter-widgets/base",
          "model_name": "LayoutModel",
          "model_module_version": "1.2.0",
          "state": {
            "_model_module": "@jupyter-widgets/base",
            "_model_module_version": "1.2.0",
            "_model_name": "LayoutModel",
            "_view_count": null,
            "_view_module": "@jupyter-widgets/base",
            "_view_module_version": "1.2.0",
            "_view_name": "LayoutView",
            "align_content": null,
            "align_items": null,
            "align_self": null,
            "border": null,
            "bottom": null,
            "display": null,
            "flex": null,
            "flex_flow": null,
            "grid_area": null,
            "grid_auto_columns": null,
            "grid_auto_flow": null,
            "grid_auto_rows": null,
            "grid_column": null,
            "grid_gap": null,
            "grid_row": null,
            "grid_template_areas": null,
            "grid_template_columns": null,
            "grid_template_rows": null,
            "height": null,
            "justify_content": null,
            "justify_items": null,
            "left": null,
            "margin": null,
            "max_height": null,
            "max_width": null,
            "min_height": null,
            "min_width": null,
            "object_fit": null,
            "object_position": null,
            "order": null,
            "overflow": null,
            "overflow_x": null,
            "overflow_y": null,
            "padding": null,
            "right": null,
            "top": null,
            "visibility": null,
            "width": null
          }
        },
        "34ebfae6c19c4d2b924a07d8089c8a83": {
          "model_module": "@jupyter-widgets/controls",
          "model_name": "DescriptionStyleModel",
          "model_module_version": "1.5.0",
          "state": {
            "_model_module": "@jupyter-widgets/controls",
            "_model_module_version": "1.5.0",
            "_model_name": "DescriptionStyleModel",
            "_view_count": null,
            "_view_module": "@jupyter-widgets/base",
            "_view_module_version": "1.2.0",
            "_view_name": "StyleView",
            "description_width": ""
          }
        },
        "db08cbe6c9494a4ebaae02fa3edb8aea": {
          "model_module": "@jupyter-widgets/controls",
          "model_name": "VBoxModel",
          "model_module_version": "1.5.0",
          "state": {
            "_dom_classes": [],
            "_model_module": "@jupyter-widgets/controls",
            "_model_module_version": "1.5.0",
            "_model_name": "VBoxModel",
            "_view_count": null,
            "_view_module": "@jupyter-widgets/controls",
            "_view_module_version": "1.5.0",
            "_view_name": "VBoxView",
            "box_style": "",
            "children": [
              "IPY_MODEL_e159145f560c47cd9b2ce2fad6b820a1",
              "IPY_MODEL_34896b9a4f37451b99ce1d233b58cc2a"
            ],
            "layout": "IPY_MODEL_4efaf8a586524a5c9bddf4c5cc0a1079"
          }
        },
        "e159145f560c47cd9b2ce2fad6b820a1": {
          "model_module": "@jupyter-widgets/controls",
          "model_name": "LabelModel",
          "model_module_version": "1.5.0",
          "state": {
            "_dom_classes": [],
            "_model_module": "@jupyter-widgets/controls",
            "_model_module_version": "1.5.0",
            "_model_name": "LabelModel",
            "_view_count": null,
            "_view_module": "@jupyter-widgets/controls",
            "_view_module_version": "1.5.0",
            "_view_name": "LabelView",
            "description": "",
            "description_tooltip": null,
            "layout": "IPY_MODEL_b45c137f22b94cfe86c7f2757f3624af",
            "placeholder": "​",
            "style": "IPY_MODEL_bb2b186dd9634846a01303bff9c050fc",
            "value": "0.008 MB of 0.008 MB uploaded (0.000 MB deduped)\r"
          }
        },
        "34896b9a4f37451b99ce1d233b58cc2a": {
          "model_module": "@jupyter-widgets/controls",
          "model_name": "FloatProgressModel",
          "model_module_version": "1.5.0",
          "state": {
            "_dom_classes": [],
            "_model_module": "@jupyter-widgets/controls",
            "_model_module_version": "1.5.0",
            "_model_name": "FloatProgressModel",
            "_view_count": null,
            "_view_module": "@jupyter-widgets/controls",
            "_view_module_version": "1.5.0",
            "_view_name": "ProgressView",
            "bar_style": "",
            "description": "",
            "description_tooltip": null,
            "layout": "IPY_MODEL_65a22c65273e4651b0872ba5a433ba06",
            "max": 1,
            "min": 0,
            "orientation": "horizontal",
            "style": "IPY_MODEL_775c1a012cb041fe8834a2bde256281c",
            "value": 1
          }
        },
        "4efaf8a586524a5c9bddf4c5cc0a1079": {
          "model_module": "@jupyter-widgets/base",
          "model_name": "LayoutModel",
          "model_module_version": "1.2.0",
          "state": {
            "_model_module": "@jupyter-widgets/base",
            "_model_module_version": "1.2.0",
            "_model_name": "LayoutModel",
            "_view_count": null,
            "_view_module": "@jupyter-widgets/base",
            "_view_module_version": "1.2.0",
            "_view_name": "LayoutView",
            "align_content": null,
            "align_items": null,
            "align_self": null,
            "border": null,
            "bottom": null,
            "display": null,
            "flex": null,
            "flex_flow": null,
            "grid_area": null,
            "grid_auto_columns": null,
            "grid_auto_flow": null,
            "grid_auto_rows": null,
            "grid_column": null,
            "grid_gap": null,
            "grid_row": null,
            "grid_template_areas": null,
            "grid_template_columns": null,
            "grid_template_rows": null,
            "height": null,
            "justify_content": null,
            "justify_items": null,
            "left": null,
            "margin": null,
            "max_height": null,
            "max_width": null,
            "min_height": null,
            "min_width": null,
            "object_fit": null,
            "object_position": null,
            "order": null,
            "overflow": null,
            "overflow_x": null,
            "overflow_y": null,
            "padding": null,
            "right": null,
            "top": null,
            "visibility": null,
            "width": null
          }
        },
        "b45c137f22b94cfe86c7f2757f3624af": {
          "model_module": "@jupyter-widgets/base",
          "model_name": "LayoutModel",
          "model_module_version": "1.2.0",
          "state": {
            "_model_module": "@jupyter-widgets/base",
            "_model_module_version": "1.2.0",
            "_model_name": "LayoutModel",
            "_view_count": null,
            "_view_module": "@jupyter-widgets/base",
            "_view_module_version": "1.2.0",
            "_view_name": "LayoutView",
            "align_content": null,
            "align_items": null,
            "align_self": null,
            "border": null,
            "bottom": null,
            "display": null,
            "flex": null,
            "flex_flow": null,
            "grid_area": null,
            "grid_auto_columns": null,
            "grid_auto_flow": null,
            "grid_auto_rows": null,
            "grid_column": null,
            "grid_gap": null,
            "grid_row": null,
            "grid_template_areas": null,
            "grid_template_columns": null,
            "grid_template_rows": null,
            "height": null,
            "justify_content": null,
            "justify_items": null,
            "left": null,
            "margin": null,
            "max_height": null,
            "max_width": null,
            "min_height": null,
            "min_width": null,
            "object_fit": null,
            "object_position": null,
            "order": null,
            "overflow": null,
            "overflow_x": null,
            "overflow_y": null,
            "padding": null,
            "right": null,
            "top": null,
            "visibility": null,
            "width": null
          }
        },
        "bb2b186dd9634846a01303bff9c050fc": {
          "model_module": "@jupyter-widgets/controls",
          "model_name": "DescriptionStyleModel",
          "model_module_version": "1.5.0",
          "state": {
            "_model_module": "@jupyter-widgets/controls",
            "_model_module_version": "1.5.0",
            "_model_name": "DescriptionStyleModel",
            "_view_count": null,
            "_view_module": "@jupyter-widgets/base",
            "_view_module_version": "1.2.0",
            "_view_name": "StyleView",
            "description_width": ""
          }
        },
        "65a22c65273e4651b0872ba5a433ba06": {
          "model_module": "@jupyter-widgets/base",
          "model_name": "LayoutModel",
          "model_module_version": "1.2.0",
          "state": {
            "_model_module": "@jupyter-widgets/base",
            "_model_module_version": "1.2.0",
            "_model_name": "LayoutModel",
            "_view_count": null,
            "_view_module": "@jupyter-widgets/base",
            "_view_module_version": "1.2.0",
            "_view_name": "LayoutView",
            "align_content": null,
            "align_items": null,
            "align_self": null,
            "border": null,
            "bottom": null,
            "display": null,
            "flex": null,
            "flex_flow": null,
            "grid_area": null,
            "grid_auto_columns": null,
            "grid_auto_flow": null,
            "grid_auto_rows": null,
            "grid_column": null,
            "grid_gap": null,
            "grid_row": null,
            "grid_template_areas": null,
            "grid_template_columns": null,
            "grid_template_rows": null,
            "height": null,
            "justify_content": null,
            "justify_items": null,
            "left": null,
            "margin": null,
            "max_height": null,
            "max_width": null,
            "min_height": null,
            "min_width": null,
            "object_fit": null,
            "object_position": null,
            "order": null,
            "overflow": null,
            "overflow_x": null,
            "overflow_y": null,
            "padding": null,
            "right": null,
            "top": null,
            "visibility": null,
            "width": null
          }
        },
        "775c1a012cb041fe8834a2bde256281c": {
          "model_module": "@jupyter-widgets/controls",
          "model_name": "ProgressStyleModel",
          "model_module_version": "1.5.0",
          "state": {
            "_model_module": "@jupyter-widgets/controls",
            "_model_module_version": "1.5.0",
            "_model_name": "ProgressStyleModel",
            "_view_count": null,
            "_view_module": "@jupyter-widgets/base",
            "_view_module_version": "1.2.0",
            "_view_name": "StyleView",
            "bar_color": null,
            "description_width": ""
          }
        },
        "b1a548e3ab1e40399122230dfc22f2db": {
          "model_module": "@jupyter-widgets/controls",
          "model_name": "HBoxModel",
          "model_module_version": "1.5.0",
          "state": {
            "_dom_classes": [],
            "_model_module": "@jupyter-widgets/controls",
            "_model_module_version": "1.5.0",
            "_model_name": "HBoxModel",
            "_view_count": null,
            "_view_module": "@jupyter-widgets/controls",
            "_view_module_version": "1.5.0",
            "_view_name": "HBoxView",
            "box_style": "",
            "children": [
              "IPY_MODEL_2142b22a81d046cb93ec2e4eb03cacaa",
              "IPY_MODEL_1a5ab006c4d04b7990d5de372abfb14e",
              "IPY_MODEL_933aadbbae55434189f5e5452c94cd28"
            ],
            "layout": "IPY_MODEL_7599c15fb05848cc9683a3e3ba9c0def"
          }
        },
        "2142b22a81d046cb93ec2e4eb03cacaa": {
          "model_module": "@jupyter-widgets/controls",
          "model_name": "HTMLModel",
          "model_module_version": "1.5.0",
          "state": {
            "_dom_classes": [],
            "_model_module": "@jupyter-widgets/controls",
            "_model_module_version": "1.5.0",
            "_model_name": "HTMLModel",
            "_view_count": null,
            "_view_module": "@jupyter-widgets/controls",
            "_view_module_version": "1.5.0",
            "_view_name": "HTMLView",
            "description": "",
            "description_tooltip": null,
            "layout": "IPY_MODEL_c4876ba9e43a45afb4a7258ed556c964",
            "placeholder": "​",
            "style": "IPY_MODEL_11257c7349d845e0900cc2d3777c9e6a",
            "value": "Sanity Checking DataLoader 0: 100%"
          }
        },
        "1a5ab006c4d04b7990d5de372abfb14e": {
          "model_module": "@jupyter-widgets/controls",
          "model_name": "FloatProgressModel",
          "model_module_version": "1.5.0",
          "state": {
            "_dom_classes": [],
            "_model_module": "@jupyter-widgets/controls",
            "_model_module_version": "1.5.0",
            "_model_name": "FloatProgressModel",
            "_view_count": null,
            "_view_module": "@jupyter-widgets/controls",
            "_view_module_version": "1.5.0",
            "_view_name": "ProgressView",
            "bar_style": "",
            "description": "",
            "description_tooltip": null,
            "layout": "IPY_MODEL_6c9bb9a01a804cd7b150b4011c6d2961",
            "max": 2,
            "min": 0,
            "orientation": "horizontal",
            "style": "IPY_MODEL_c2c484e428a94d1a87b9898027d256f9",
            "value": 2
          }
        },
        "933aadbbae55434189f5e5452c94cd28": {
          "model_module": "@jupyter-widgets/controls",
          "model_name": "HTMLModel",
          "model_module_version": "1.5.0",
          "state": {
            "_dom_classes": [],
            "_model_module": "@jupyter-widgets/controls",
            "_model_module_version": "1.5.0",
            "_model_name": "HTMLModel",
            "_view_count": null,
            "_view_module": "@jupyter-widgets/controls",
            "_view_module_version": "1.5.0",
            "_view_name": "HTMLView",
            "description": "",
            "description_tooltip": null,
            "layout": "IPY_MODEL_975c6968832240caab839ab7e679ed85",
            "placeholder": "​",
            "style": "IPY_MODEL_319f86e7f534442bb2594942b5f4f01f",
            "value": " 2/2 [00:01&lt;00:00,  1.49it/s]"
          }
        },
        "7599c15fb05848cc9683a3e3ba9c0def": {
          "model_module": "@jupyter-widgets/base",
          "model_name": "LayoutModel",
          "model_module_version": "1.2.0",
          "state": {
            "_model_module": "@jupyter-widgets/base",
            "_model_module_version": "1.2.0",
            "_model_name": "LayoutModel",
            "_view_count": null,
            "_view_module": "@jupyter-widgets/base",
            "_view_module_version": "1.2.0",
            "_view_name": "LayoutView",
            "align_content": null,
            "align_items": null,
            "align_self": null,
            "border": null,
            "bottom": null,
            "display": "inline-flex",
            "flex": null,
            "flex_flow": "row wrap",
            "grid_area": null,
            "grid_auto_columns": null,
            "grid_auto_flow": null,
            "grid_auto_rows": null,
            "grid_column": null,
            "grid_gap": null,
            "grid_row": null,
            "grid_template_areas": null,
            "grid_template_columns": null,
            "grid_template_rows": null,
            "height": null,
            "justify_content": null,
            "justify_items": null,
            "left": null,
            "margin": null,
            "max_height": null,
            "max_width": null,
            "min_height": null,
            "min_width": null,
            "object_fit": null,
            "object_position": null,
            "order": null,
            "overflow": null,
            "overflow_x": null,
            "overflow_y": null,
            "padding": null,
            "right": null,
            "top": null,
            "visibility": null,
            "width": "100%"
          }
        },
        "c4876ba9e43a45afb4a7258ed556c964": {
          "model_module": "@jupyter-widgets/base",
          "model_name": "LayoutModel",
          "model_module_version": "1.2.0",
          "state": {
            "_model_module": "@jupyter-widgets/base",
            "_model_module_version": "1.2.0",
            "_model_name": "LayoutModel",
            "_view_count": null,
            "_view_module": "@jupyter-widgets/base",
            "_view_module_version": "1.2.0",
            "_view_name": "LayoutView",
            "align_content": null,
            "align_items": null,
            "align_self": null,
            "border": null,
            "bottom": null,
            "display": null,
            "flex": null,
            "flex_flow": null,
            "grid_area": null,
            "grid_auto_columns": null,
            "grid_auto_flow": null,
            "grid_auto_rows": null,
            "grid_column": null,
            "grid_gap": null,
            "grid_row": null,
            "grid_template_areas": null,
            "grid_template_columns": null,
            "grid_template_rows": null,
            "height": null,
            "justify_content": null,
            "justify_items": null,
            "left": null,
            "margin": null,
            "max_height": null,
            "max_width": null,
            "min_height": null,
            "min_width": null,
            "object_fit": null,
            "object_position": null,
            "order": null,
            "overflow": null,
            "overflow_x": null,
            "overflow_y": null,
            "padding": null,
            "right": null,
            "top": null,
            "visibility": null,
            "width": null
          }
        },
        "11257c7349d845e0900cc2d3777c9e6a": {
          "model_module": "@jupyter-widgets/controls",
          "model_name": "DescriptionStyleModel",
          "model_module_version": "1.5.0",
          "state": {
            "_model_module": "@jupyter-widgets/controls",
            "_model_module_version": "1.5.0",
            "_model_name": "DescriptionStyleModel",
            "_view_count": null,
            "_view_module": "@jupyter-widgets/base",
            "_view_module_version": "1.2.0",
            "_view_name": "StyleView",
            "description_width": ""
          }
        },
        "6c9bb9a01a804cd7b150b4011c6d2961": {
          "model_module": "@jupyter-widgets/base",
          "model_name": "LayoutModel",
          "model_module_version": "1.2.0",
          "state": {
            "_model_module": "@jupyter-widgets/base",
            "_model_module_version": "1.2.0",
            "_model_name": "LayoutModel",
            "_view_count": null,
            "_view_module": "@jupyter-widgets/base",
            "_view_module_version": "1.2.0",
            "_view_name": "LayoutView",
            "align_content": null,
            "align_items": null,
            "align_self": null,
            "border": null,
            "bottom": null,
            "display": null,
            "flex": "2",
            "flex_flow": null,
            "grid_area": null,
            "grid_auto_columns": null,
            "grid_auto_flow": null,
            "grid_auto_rows": null,
            "grid_column": null,
            "grid_gap": null,
            "grid_row": null,
            "grid_template_areas": null,
            "grid_template_columns": null,
            "grid_template_rows": null,
            "height": null,
            "justify_content": null,
            "justify_items": null,
            "left": null,
            "margin": null,
            "max_height": null,
            "max_width": null,
            "min_height": null,
            "min_width": null,
            "object_fit": null,
            "object_position": null,
            "order": null,
            "overflow": null,
            "overflow_x": null,
            "overflow_y": null,
            "padding": null,
            "right": null,
            "top": null,
            "visibility": null,
            "width": null
          }
        },
        "c2c484e428a94d1a87b9898027d256f9": {
          "model_module": "@jupyter-widgets/controls",
          "model_name": "ProgressStyleModel",
          "model_module_version": "1.5.0",
          "state": {
            "_model_module": "@jupyter-widgets/controls",
            "_model_module_version": "1.5.0",
            "_model_name": "ProgressStyleModel",
            "_view_count": null,
            "_view_module": "@jupyter-widgets/base",
            "_view_module_version": "1.2.0",
            "_view_name": "StyleView",
            "bar_color": null,
            "description_width": ""
          }
        },
        "975c6968832240caab839ab7e679ed85": {
          "model_module": "@jupyter-widgets/base",
          "model_name": "LayoutModel",
          "model_module_version": "1.2.0",
          "state": {
            "_model_module": "@jupyter-widgets/base",
            "_model_module_version": "1.2.0",
            "_model_name": "LayoutModel",
            "_view_count": null,
            "_view_module": "@jupyter-widgets/base",
            "_view_module_version": "1.2.0",
            "_view_name": "LayoutView",
            "align_content": null,
            "align_items": null,
            "align_self": null,
            "border": null,
            "bottom": null,
            "display": null,
            "flex": null,
            "flex_flow": null,
            "grid_area": null,
            "grid_auto_columns": null,
            "grid_auto_flow": null,
            "grid_auto_rows": null,
            "grid_column": null,
            "grid_gap": null,
            "grid_row": null,
            "grid_template_areas": null,
            "grid_template_columns": null,
            "grid_template_rows": null,
            "height": null,
            "justify_content": null,
            "justify_items": null,
            "left": null,
            "margin": null,
            "max_height": null,
            "max_width": null,
            "min_height": null,
            "min_width": null,
            "object_fit": null,
            "object_position": null,
            "order": null,
            "overflow": null,
            "overflow_x": null,
            "overflow_y": null,
            "padding": null,
            "right": null,
            "top": null,
            "visibility": null,
            "width": null
          }
        },
        "319f86e7f534442bb2594942b5f4f01f": {
          "model_module": "@jupyter-widgets/controls",
          "model_name": "DescriptionStyleModel",
          "model_module_version": "1.5.0",
          "state": {
            "_model_module": "@jupyter-widgets/controls",
            "_model_module_version": "1.5.0",
            "_model_name": "DescriptionStyleModel",
            "_view_count": null,
            "_view_module": "@jupyter-widgets/base",
            "_view_module_version": "1.2.0",
            "_view_name": "StyleView",
            "description_width": ""
          }
        },
        "672dcd4d1cd04462831f6c22ac49b9d5": {
          "model_module": "@jupyter-widgets/controls",
          "model_name": "HBoxModel",
          "model_module_version": "1.5.0",
          "state": {
            "_dom_classes": [],
            "_model_module": "@jupyter-widgets/controls",
            "_model_module_version": "1.5.0",
            "_model_name": "HBoxModel",
            "_view_count": null,
            "_view_module": "@jupyter-widgets/controls",
            "_view_module_version": "1.5.0",
            "_view_name": "HBoxView",
            "box_style": "",
            "children": [
              "IPY_MODEL_a445c5706dee4eaba540300b0dc5fa07",
              "IPY_MODEL_619760e1679048e98a7e626b3816b6c0",
              "IPY_MODEL_f269763b75414b9d8f5709c7fd70e5cc"
            ],
            "layout": "IPY_MODEL_8b3c5ef0c7d14687b060f95e2619dae3"
          }
        },
        "a445c5706dee4eaba540300b0dc5fa07": {
          "model_module": "@jupyter-widgets/controls",
          "model_name": "HTMLModel",
          "model_module_version": "1.5.0",
          "state": {
            "_dom_classes": [],
            "_model_module": "@jupyter-widgets/controls",
            "_model_module_version": "1.5.0",
            "_model_name": "HTMLModel",
            "_view_count": null,
            "_view_module": "@jupyter-widgets/controls",
            "_view_module_version": "1.5.0",
            "_view_name": "HTMLView",
            "description": "",
            "description_tooltip": null,
            "layout": "IPY_MODEL_e57660fce09b45d788f79d21938b9710",
            "placeholder": "​",
            "style": "IPY_MODEL_d4bd5eb8b8774108b981fe1a510fdd9d",
            "value": "Epoch 0:   0%"
          }
        },
        "619760e1679048e98a7e626b3816b6c0": {
          "model_module": "@jupyter-widgets/controls",
          "model_name": "FloatProgressModel",
          "model_module_version": "1.5.0",
          "state": {
            "_dom_classes": [],
            "_model_module": "@jupyter-widgets/controls",
            "_model_module_version": "1.5.0",
            "_model_name": "FloatProgressModel",
            "_view_count": null,
            "_view_module": "@jupyter-widgets/controls",
            "_view_module_version": "1.5.0",
            "_view_name": "ProgressView",
            "bar_style": "",
            "description": "",
            "description_tooltip": null,
            "layout": "IPY_MODEL_2421b6b3cdd04315a60ca4b4aed948f7",
            "max": 782,
            "min": 0,
            "orientation": "horizontal",
            "style": "IPY_MODEL_08f982f4838b4eca849f16661f297ec8",
            "value": 0
          }
        },
        "f269763b75414b9d8f5709c7fd70e5cc": {
          "model_module": "@jupyter-widgets/controls",
          "model_name": "HTMLModel",
          "model_module_version": "1.5.0",
          "state": {
            "_dom_classes": [],
            "_model_module": "@jupyter-widgets/controls",
            "_model_module_version": "1.5.0",
            "_model_name": "HTMLModel",
            "_view_count": null,
            "_view_module": "@jupyter-widgets/controls",
            "_view_module_version": "1.5.0",
            "_view_name": "HTMLView",
            "description": "",
            "description_tooltip": null,
            "layout": "IPY_MODEL_357d54fe2c7b4993bf92874adcbb92cd",
            "placeholder": "​",
            "style": "IPY_MODEL_3a46879b4937400c8b2952a4ede990ad",
            "value": " 0/782 [00:00&lt;?, ?it/s]"
          }
        },
        "8b3c5ef0c7d14687b060f95e2619dae3": {
          "model_module": "@jupyter-widgets/base",
          "model_name": "LayoutModel",
          "model_module_version": "1.2.0",
          "state": {
            "_model_module": "@jupyter-widgets/base",
            "_model_module_version": "1.2.0",
            "_model_name": "LayoutModel",
            "_view_count": null,
            "_view_module": "@jupyter-widgets/base",
            "_view_module_version": "1.2.0",
            "_view_name": "LayoutView",
            "align_content": null,
            "align_items": null,
            "align_self": null,
            "border": null,
            "bottom": null,
            "display": "inline-flex",
            "flex": null,
            "flex_flow": "row wrap",
            "grid_area": null,
            "grid_auto_columns": null,
            "grid_auto_flow": null,
            "grid_auto_rows": null,
            "grid_column": null,
            "grid_gap": null,
            "grid_row": null,
            "grid_template_areas": null,
            "grid_template_columns": null,
            "grid_template_rows": null,
            "height": null,
            "justify_content": null,
            "justify_items": null,
            "left": null,
            "margin": null,
            "max_height": null,
            "max_width": null,
            "min_height": null,
            "min_width": null,
            "object_fit": null,
            "object_position": null,
            "order": null,
            "overflow": null,
            "overflow_x": null,
            "overflow_y": null,
            "padding": null,
            "right": null,
            "top": null,
            "visibility": null,
            "width": "100%"
          }
        },
        "e57660fce09b45d788f79d21938b9710": {
          "model_module": "@jupyter-widgets/base",
          "model_name": "LayoutModel",
          "model_module_version": "1.2.0",
          "state": {
            "_model_module": "@jupyter-widgets/base",
            "_model_module_version": "1.2.0",
            "_model_name": "LayoutModel",
            "_view_count": null,
            "_view_module": "@jupyter-widgets/base",
            "_view_module_version": "1.2.0",
            "_view_name": "LayoutView",
            "align_content": null,
            "align_items": null,
            "align_self": null,
            "border": null,
            "bottom": null,
            "display": null,
            "flex": null,
            "flex_flow": null,
            "grid_area": null,
            "grid_auto_columns": null,
            "grid_auto_flow": null,
            "grid_auto_rows": null,
            "grid_column": null,
            "grid_gap": null,
            "grid_row": null,
            "grid_template_areas": null,
            "grid_template_columns": null,
            "grid_template_rows": null,
            "height": null,
            "justify_content": null,
            "justify_items": null,
            "left": null,
            "margin": null,
            "max_height": null,
            "max_width": null,
            "min_height": null,
            "min_width": null,
            "object_fit": null,
            "object_position": null,
            "order": null,
            "overflow": null,
            "overflow_x": null,
            "overflow_y": null,
            "padding": null,
            "right": null,
            "top": null,
            "visibility": null,
            "width": null
          }
        },
        "d4bd5eb8b8774108b981fe1a510fdd9d": {
          "model_module": "@jupyter-widgets/controls",
          "model_name": "DescriptionStyleModel",
          "model_module_version": "1.5.0",
          "state": {
            "_model_module": "@jupyter-widgets/controls",
            "_model_module_version": "1.5.0",
            "_model_name": "DescriptionStyleModel",
            "_view_count": null,
            "_view_module": "@jupyter-widgets/base",
            "_view_module_version": "1.2.0",
            "_view_name": "StyleView",
            "description_width": ""
          }
        },
        "2421b6b3cdd04315a60ca4b4aed948f7": {
          "model_module": "@jupyter-widgets/base",
          "model_name": "LayoutModel",
          "model_module_version": "1.2.0",
          "state": {
            "_model_module": "@jupyter-widgets/base",
            "_model_module_version": "1.2.0",
            "_model_name": "LayoutModel",
            "_view_count": null,
            "_view_module": "@jupyter-widgets/base",
            "_view_module_version": "1.2.0",
            "_view_name": "LayoutView",
            "align_content": null,
            "align_items": null,
            "align_self": null,
            "border": null,
            "bottom": null,
            "display": null,
            "flex": "2",
            "flex_flow": null,
            "grid_area": null,
            "grid_auto_columns": null,
            "grid_auto_flow": null,
            "grid_auto_rows": null,
            "grid_column": null,
            "grid_gap": null,
            "grid_row": null,
            "grid_template_areas": null,
            "grid_template_columns": null,
            "grid_template_rows": null,
            "height": null,
            "justify_content": null,
            "justify_items": null,
            "left": null,
            "margin": null,
            "max_height": null,
            "max_width": null,
            "min_height": null,
            "min_width": null,
            "object_fit": null,
            "object_position": null,
            "order": null,
            "overflow": null,
            "overflow_x": null,
            "overflow_y": null,
            "padding": null,
            "right": null,
            "top": null,
            "visibility": null,
            "width": null
          }
        },
        "08f982f4838b4eca849f16661f297ec8": {
          "model_module": "@jupyter-widgets/controls",
          "model_name": "ProgressStyleModel",
          "model_module_version": "1.5.0",
          "state": {
            "_model_module": "@jupyter-widgets/controls",
            "_model_module_version": "1.5.0",
            "_model_name": "ProgressStyleModel",
            "_view_count": null,
            "_view_module": "@jupyter-widgets/base",
            "_view_module_version": "1.2.0",
            "_view_name": "StyleView",
            "bar_color": null,
            "description_width": ""
          }
        },
        "357d54fe2c7b4993bf92874adcbb92cd": {
          "model_module": "@jupyter-widgets/base",
          "model_name": "LayoutModel",
          "model_module_version": "1.2.0",
          "state": {
            "_model_module": "@jupyter-widgets/base",
            "_model_module_version": "1.2.0",
            "_model_name": "LayoutModel",
            "_view_count": null,
            "_view_module": "@jupyter-widgets/base",
            "_view_module_version": "1.2.0",
            "_view_name": "LayoutView",
            "align_content": null,
            "align_items": null,
            "align_self": null,
            "border": null,
            "bottom": null,
            "display": null,
            "flex": null,
            "flex_flow": null,
            "grid_area": null,
            "grid_auto_columns": null,
            "grid_auto_flow": null,
            "grid_auto_rows": null,
            "grid_column": null,
            "grid_gap": null,
            "grid_row": null,
            "grid_template_areas": null,
            "grid_template_columns": null,
            "grid_template_rows": null,
            "height": null,
            "justify_content": null,
            "justify_items": null,
            "left": null,
            "margin": null,
            "max_height": null,
            "max_width": null,
            "min_height": null,
            "min_width": null,
            "object_fit": null,
            "object_position": null,
            "order": null,
            "overflow": null,
            "overflow_x": null,
            "overflow_y": null,
            "padding": null,
            "right": null,
            "top": null,
            "visibility": null,
            "width": null
          }
        },
        "3a46879b4937400c8b2952a4ede990ad": {
          "model_module": "@jupyter-widgets/controls",
          "model_name": "DescriptionStyleModel",
          "model_module_version": "1.5.0",
          "state": {
            "_model_module": "@jupyter-widgets/controls",
            "_model_module_version": "1.5.0",
            "_model_name": "DescriptionStyleModel",
            "_view_count": null,
            "_view_module": "@jupyter-widgets/base",
            "_view_module_version": "1.2.0",
            "_view_name": "StyleView",
            "description_width": ""
          }
        },
        "7dcb674067eb4687b9461e1779b455d1": {
          "model_module": "@jupyter-widgets/controls",
          "model_name": "HBoxModel",
          "model_module_version": "1.5.0",
          "state": {
            "_dom_classes": [],
            "_model_module": "@jupyter-widgets/controls",
            "_model_module_version": "1.5.0",
            "_model_name": "HBoxModel",
            "_view_count": null,
            "_view_module": "@jupyter-widgets/controls",
            "_view_module_version": "1.5.0",
            "_view_name": "HBoxView",
            "box_style": "",
            "children": [
              "IPY_MODEL_46fdbf7de2e4493fa3596c622c4cdcb0",
              "IPY_MODEL_868bb5e627d34f09a42f927bfc351d43",
              "IPY_MODEL_cd6355ea5f084480b8adc31e8835e8ae"
            ],
            "layout": "IPY_MODEL_f9897df670814a2fa38876ee22a88c4a"
          }
        },
        "46fdbf7de2e4493fa3596c622c4cdcb0": {
          "model_module": "@jupyter-widgets/controls",
          "model_name": "HTMLModel",
          "model_module_version": "1.5.0",
          "state": {
            "_dom_classes": [],
            "_model_module": "@jupyter-widgets/controls",
            "_model_module_version": "1.5.0",
            "_model_name": "HTMLModel",
            "_view_count": null,
            "_view_module": "@jupyter-widgets/controls",
            "_view_module_version": "1.5.0",
            "_view_name": "HTMLView",
            "description": "",
            "description_tooltip": null,
            "layout": "IPY_MODEL_ed0af6816b124b6e89e65dcc72e8f306",
            "placeholder": "​",
            "style": "IPY_MODEL_570a39fb7d444e1e8be39b432a133dae",
            "value": "Testing DataLoader 0:  25%"
          }
        },
        "868bb5e627d34f09a42f927bfc351d43": {
          "model_module": "@jupyter-widgets/controls",
          "model_name": "FloatProgressModel",
          "model_module_version": "1.5.0",
          "state": {
            "_dom_classes": [],
            "_model_module": "@jupyter-widgets/controls",
            "_model_module_version": "1.5.0",
            "_model_name": "FloatProgressModel",
            "_view_count": null,
            "_view_module": "@jupyter-widgets/controls",
            "_view_module_version": "1.5.0",
            "_view_name": "ProgressView",
            "bar_style": "",
            "description": "",
            "description_tooltip": null,
            "layout": "IPY_MODEL_85e60df9dd2141bd97cb23a8b8333ddf",
            "max": 157,
            "min": 0,
            "orientation": "horizontal",
            "style": "IPY_MODEL_b23d9b97a3ea4d29800510cd846c683f",
            "value": 40
          }
        },
        "cd6355ea5f084480b8adc31e8835e8ae": {
          "model_module": "@jupyter-widgets/controls",
          "model_name": "HTMLModel",
          "model_module_version": "1.5.0",
          "state": {
            "_dom_classes": [],
            "_model_module": "@jupyter-widgets/controls",
            "_model_module_version": "1.5.0",
            "_model_name": "HTMLModel",
            "_view_count": null,
            "_view_module": "@jupyter-widgets/controls",
            "_view_module_version": "1.5.0",
            "_view_name": "HTMLView",
            "description": "",
            "description_tooltip": null,
            "layout": "IPY_MODEL_2c18bb56a51748b38a75093a1ca2390e",
            "placeholder": "​",
            "style": "IPY_MODEL_199d00f60ece4a3e8744b943a2bafe74",
            "value": " 40/157 [00:23&lt;01:09,  1.68it/s]"
          }
        },
        "f9897df670814a2fa38876ee22a88c4a": {
          "model_module": "@jupyter-widgets/base",
          "model_name": "LayoutModel",
          "model_module_version": "1.2.0",
          "state": {
            "_model_module": "@jupyter-widgets/base",
            "_model_module_version": "1.2.0",
            "_model_name": "LayoutModel",
            "_view_count": null,
            "_view_module": "@jupyter-widgets/base",
            "_view_module_version": "1.2.0",
            "_view_name": "LayoutView",
            "align_content": null,
            "align_items": null,
            "align_self": null,
            "border": null,
            "bottom": null,
            "display": "inline-flex",
            "flex": null,
            "flex_flow": "row wrap",
            "grid_area": null,
            "grid_auto_columns": null,
            "grid_auto_flow": null,
            "grid_auto_rows": null,
            "grid_column": null,
            "grid_gap": null,
            "grid_row": null,
            "grid_template_areas": null,
            "grid_template_columns": null,
            "grid_template_rows": null,
            "height": null,
            "justify_content": null,
            "justify_items": null,
            "left": null,
            "margin": null,
            "max_height": null,
            "max_width": null,
            "min_height": null,
            "min_width": null,
            "object_fit": null,
            "object_position": null,
            "order": null,
            "overflow": null,
            "overflow_x": null,
            "overflow_y": null,
            "padding": null,
            "right": null,
            "top": null,
            "visibility": null,
            "width": "100%"
          }
        },
        "ed0af6816b124b6e89e65dcc72e8f306": {
          "model_module": "@jupyter-widgets/base",
          "model_name": "LayoutModel",
          "model_module_version": "1.2.0",
          "state": {
            "_model_module": "@jupyter-widgets/base",
            "_model_module_version": "1.2.0",
            "_model_name": "LayoutModel",
            "_view_count": null,
            "_view_module": "@jupyter-widgets/base",
            "_view_module_version": "1.2.0",
            "_view_name": "LayoutView",
            "align_content": null,
            "align_items": null,
            "align_self": null,
            "border": null,
            "bottom": null,
            "display": null,
            "flex": null,
            "flex_flow": null,
            "grid_area": null,
            "grid_auto_columns": null,
            "grid_auto_flow": null,
            "grid_auto_rows": null,
            "grid_column": null,
            "grid_gap": null,
            "grid_row": null,
            "grid_template_areas": null,
            "grid_template_columns": null,
            "grid_template_rows": null,
            "height": null,
            "justify_content": null,
            "justify_items": null,
            "left": null,
            "margin": null,
            "max_height": null,
            "max_width": null,
            "min_height": null,
            "min_width": null,
            "object_fit": null,
            "object_position": null,
            "order": null,
            "overflow": null,
            "overflow_x": null,
            "overflow_y": null,
            "padding": null,
            "right": null,
            "top": null,
            "visibility": null,
            "width": null
          }
        },
        "570a39fb7d444e1e8be39b432a133dae": {
          "model_module": "@jupyter-widgets/controls",
          "model_name": "DescriptionStyleModel",
          "model_module_version": "1.5.0",
          "state": {
            "_model_module": "@jupyter-widgets/controls",
            "_model_module_version": "1.5.0",
            "_model_name": "DescriptionStyleModel",
            "_view_count": null,
            "_view_module": "@jupyter-widgets/base",
            "_view_module_version": "1.2.0",
            "_view_name": "StyleView",
            "description_width": ""
          }
        },
        "85e60df9dd2141bd97cb23a8b8333ddf": {
          "model_module": "@jupyter-widgets/base",
          "model_name": "LayoutModel",
          "model_module_version": "1.2.0",
          "state": {
            "_model_module": "@jupyter-widgets/base",
            "_model_module_version": "1.2.0",
            "_model_name": "LayoutModel",
            "_view_count": null,
            "_view_module": "@jupyter-widgets/base",
            "_view_module_version": "1.2.0",
            "_view_name": "LayoutView",
            "align_content": null,
            "align_items": null,
            "align_self": null,
            "border": null,
            "bottom": null,
            "display": null,
            "flex": "2",
            "flex_flow": null,
            "grid_area": null,
            "grid_auto_columns": null,
            "grid_auto_flow": null,
            "grid_auto_rows": null,
            "grid_column": null,
            "grid_gap": null,
            "grid_row": null,
            "grid_template_areas": null,
            "grid_template_columns": null,
            "grid_template_rows": null,
            "height": null,
            "justify_content": null,
            "justify_items": null,
            "left": null,
            "margin": null,
            "max_height": null,
            "max_width": null,
            "min_height": null,
            "min_width": null,
            "object_fit": null,
            "object_position": null,
            "order": null,
            "overflow": null,
            "overflow_x": null,
            "overflow_y": null,
            "padding": null,
            "right": null,
            "top": null,
            "visibility": null,
            "width": null
          }
        },
        "b23d9b97a3ea4d29800510cd846c683f": {
          "model_module": "@jupyter-widgets/controls",
          "model_name": "ProgressStyleModel",
          "model_module_version": "1.5.0",
          "state": {
            "_model_module": "@jupyter-widgets/controls",
            "_model_module_version": "1.5.0",
            "_model_name": "ProgressStyleModel",
            "_view_count": null,
            "_view_module": "@jupyter-widgets/base",
            "_view_module_version": "1.2.0",
            "_view_name": "StyleView",
            "bar_color": null,
            "description_width": ""
          }
        },
        "2c18bb56a51748b38a75093a1ca2390e": {
          "model_module": "@jupyter-widgets/base",
          "model_name": "LayoutModel",
          "model_module_version": "1.2.0",
          "state": {
            "_model_module": "@jupyter-widgets/base",
            "_model_module_version": "1.2.0",
            "_model_name": "LayoutModel",
            "_view_count": null,
            "_view_module": "@jupyter-widgets/base",
            "_view_module_version": "1.2.0",
            "_view_name": "LayoutView",
            "align_content": null,
            "align_items": null,
            "align_self": null,
            "border": null,
            "bottom": null,
            "display": null,
            "flex": null,
            "flex_flow": null,
            "grid_area": null,
            "grid_auto_columns": null,
            "grid_auto_flow": null,
            "grid_auto_rows": null,
            "grid_column": null,
            "grid_gap": null,
            "grid_row": null,
            "grid_template_areas": null,
            "grid_template_columns": null,
            "grid_template_rows": null,
            "height": null,
            "justify_content": null,
            "justify_items": null,
            "left": null,
            "margin": null,
            "max_height": null,
            "max_width": null,
            "min_height": null,
            "min_width": null,
            "object_fit": null,
            "object_position": null,
            "order": null,
            "overflow": null,
            "overflow_x": null,
            "overflow_y": null,
            "padding": null,
            "right": null,
            "top": null,
            "visibility": null,
            "width": null
          }
        },
        "199d00f60ece4a3e8744b943a2bafe74": {
          "model_module": "@jupyter-widgets/controls",
          "model_name": "DescriptionStyleModel",
          "model_module_version": "1.5.0",
          "state": {
            "_model_module": "@jupyter-widgets/controls",
            "_model_module_version": "1.5.0",
            "_model_name": "DescriptionStyleModel",
            "_view_count": null,
            "_view_module": "@jupyter-widgets/base",
            "_view_module_version": "1.2.0",
            "_view_name": "StyleView",
            "description_width": ""
          }
        },
        "46cb4addb00342e4bd6dab6e1e9123cb": {
          "model_module": "@jupyter-widgets/controls",
          "model_name": "VBoxModel",
          "model_module_version": "1.5.0",
          "state": {
            "_dom_classes": [],
            "_model_module": "@jupyter-widgets/controls",
            "_model_module_version": "1.5.0",
            "_model_name": "VBoxModel",
            "_view_count": null,
            "_view_module": "@jupyter-widgets/controls",
            "_view_module_version": "1.5.0",
            "_view_name": "VBoxView",
            "box_style": "",
            "children": [
              "IPY_MODEL_b65980eef0a34bb386ba8cf7b01ba72e",
              "IPY_MODEL_c5c08b2fa1444289a79670a3da876255"
            ],
            "layout": "IPY_MODEL_3e65e79106354b3ea842de005cecba8b"
          }
        },
        "b65980eef0a34bb386ba8cf7b01ba72e": {
          "model_module": "@jupyter-widgets/controls",
          "model_name": "LabelModel",
          "model_module_version": "1.5.0",
          "state": {
            "_dom_classes": [],
            "_model_module": "@jupyter-widgets/controls",
            "_model_module_version": "1.5.0",
            "_model_name": "LabelModel",
            "_view_count": null,
            "_view_module": "@jupyter-widgets/controls",
            "_view_module_version": "1.5.0",
            "_view_name": "LabelView",
            "description": "",
            "description_tooltip": null,
            "layout": "IPY_MODEL_8c8b6ef110a149578d9f25d699b363ea",
            "placeholder": "​",
            "style": "IPY_MODEL_73ec9d96879140c9bc2954ac4485e7aa",
            "value": "0.025 MB of 0.025 MB uploaded (0.000 MB deduped)\r"
          }
        },
        "c5c08b2fa1444289a79670a3da876255": {
          "model_module": "@jupyter-widgets/controls",
          "model_name": "FloatProgressModel",
          "model_module_version": "1.5.0",
          "state": {
            "_dom_classes": [],
            "_model_module": "@jupyter-widgets/controls",
            "_model_module_version": "1.5.0",
            "_model_name": "FloatProgressModel",
            "_view_count": null,
            "_view_module": "@jupyter-widgets/controls",
            "_view_module_version": "1.5.0",
            "_view_name": "ProgressView",
            "bar_style": "",
            "description": "",
            "description_tooltip": null,
            "layout": "IPY_MODEL_4363bb10f766475a972c3a956e48869c",
            "max": 1,
            "min": 0,
            "orientation": "horizontal",
            "style": "IPY_MODEL_4ac045ef552d4fe5b3d5ac31f0ef143a",
            "value": 1
          }
        },
        "3e65e79106354b3ea842de005cecba8b": {
          "model_module": "@jupyter-widgets/base",
          "model_name": "LayoutModel",
          "model_module_version": "1.2.0",
          "state": {
            "_model_module": "@jupyter-widgets/base",
            "_model_module_version": "1.2.0",
            "_model_name": "LayoutModel",
            "_view_count": null,
            "_view_module": "@jupyter-widgets/base",
            "_view_module_version": "1.2.0",
            "_view_name": "LayoutView",
            "align_content": null,
            "align_items": null,
            "align_self": null,
            "border": null,
            "bottom": null,
            "display": null,
            "flex": null,
            "flex_flow": null,
            "grid_area": null,
            "grid_auto_columns": null,
            "grid_auto_flow": null,
            "grid_auto_rows": null,
            "grid_column": null,
            "grid_gap": null,
            "grid_row": null,
            "grid_template_areas": null,
            "grid_template_columns": null,
            "grid_template_rows": null,
            "height": null,
            "justify_content": null,
            "justify_items": null,
            "left": null,
            "margin": null,
            "max_height": null,
            "max_width": null,
            "min_height": null,
            "min_width": null,
            "object_fit": null,
            "object_position": null,
            "order": null,
            "overflow": null,
            "overflow_x": null,
            "overflow_y": null,
            "padding": null,
            "right": null,
            "top": null,
            "visibility": null,
            "width": null
          }
        },
        "8c8b6ef110a149578d9f25d699b363ea": {
          "model_module": "@jupyter-widgets/base",
          "model_name": "LayoutModel",
          "model_module_version": "1.2.0",
          "state": {
            "_model_module": "@jupyter-widgets/base",
            "_model_module_version": "1.2.0",
            "_model_name": "LayoutModel",
            "_view_count": null,
            "_view_module": "@jupyter-widgets/base",
            "_view_module_version": "1.2.0",
            "_view_name": "LayoutView",
            "align_content": null,
            "align_items": null,
            "align_self": null,
            "border": null,
            "bottom": null,
            "display": null,
            "flex": null,
            "flex_flow": null,
            "grid_area": null,
            "grid_auto_columns": null,
            "grid_auto_flow": null,
            "grid_auto_rows": null,
            "grid_column": null,
            "grid_gap": null,
            "grid_row": null,
            "grid_template_areas": null,
            "grid_template_columns": null,
            "grid_template_rows": null,
            "height": null,
            "justify_content": null,
            "justify_items": null,
            "left": null,
            "margin": null,
            "max_height": null,
            "max_width": null,
            "min_height": null,
            "min_width": null,
            "object_fit": null,
            "object_position": null,
            "order": null,
            "overflow": null,
            "overflow_x": null,
            "overflow_y": null,
            "padding": null,
            "right": null,
            "top": null,
            "visibility": null,
            "width": null
          }
        },
        "73ec9d96879140c9bc2954ac4485e7aa": {
          "model_module": "@jupyter-widgets/controls",
          "model_name": "DescriptionStyleModel",
          "model_module_version": "1.5.0",
          "state": {
            "_model_module": "@jupyter-widgets/controls",
            "_model_module_version": "1.5.0",
            "_model_name": "DescriptionStyleModel",
            "_view_count": null,
            "_view_module": "@jupyter-widgets/base",
            "_view_module_version": "1.2.0",
            "_view_name": "StyleView",
            "description_width": ""
          }
        },
        "4363bb10f766475a972c3a956e48869c": {
          "model_module": "@jupyter-widgets/base",
          "model_name": "LayoutModel",
          "model_module_version": "1.2.0",
          "state": {
            "_model_module": "@jupyter-widgets/base",
            "_model_module_version": "1.2.0",
            "_model_name": "LayoutModel",
            "_view_count": null,
            "_view_module": "@jupyter-widgets/base",
            "_view_module_version": "1.2.0",
            "_view_name": "LayoutView",
            "align_content": null,
            "align_items": null,
            "align_self": null,
            "border": null,
            "bottom": null,
            "display": null,
            "flex": null,
            "flex_flow": null,
            "grid_area": null,
            "grid_auto_columns": null,
            "grid_auto_flow": null,
            "grid_auto_rows": null,
            "grid_column": null,
            "grid_gap": null,
            "grid_row": null,
            "grid_template_areas": null,
            "grid_template_columns": null,
            "grid_template_rows": null,
            "height": null,
            "justify_content": null,
            "justify_items": null,
            "left": null,
            "margin": null,
            "max_height": null,
            "max_width": null,
            "min_height": null,
            "min_width": null,
            "object_fit": null,
            "object_position": null,
            "order": null,
            "overflow": null,
            "overflow_x": null,
            "overflow_y": null,
            "padding": null,
            "right": null,
            "top": null,
            "visibility": null,
            "width": null
          }
        },
        "4ac045ef552d4fe5b3d5ac31f0ef143a": {
          "model_module": "@jupyter-widgets/controls",
          "model_name": "ProgressStyleModel",
          "model_module_version": "1.5.0",
          "state": {
            "_model_module": "@jupyter-widgets/controls",
            "_model_module_version": "1.5.0",
            "_model_name": "ProgressStyleModel",
            "_view_count": null,
            "_view_module": "@jupyter-widgets/base",
            "_view_module_version": "1.2.0",
            "_view_name": "StyleView",
            "bar_color": null,
            "description_width": ""
          }
        }
      }
    },
    "accelerator": "GPU"
  },
  "cells": [
    {
      "cell_type": "markdown",
      "metadata": {
        "id": "view-in-github",
        "colab_type": "text"
      },
      "source": [
        "<a href=\"https://colab.research.google.com/github/HyberionBrew/GTN/blob/main/GTN.ipynb\" target=\"_parent\"><img src=\"https://colab.research.google.com/assets/colab-badge.svg\" alt=\"Open In Colab\"/></a>"
      ]
    },
    {
      "cell_type": "code",
      "execution_count": 1,
      "metadata": {
        "id": "PShu01jjad53"
      },
      "outputs": [],
      "source": [
        "%%capture\n",
        "! pip install pytorch-lightning\n",
        "! pip install pytorch-lightning-bolts\n",
        "! pip install wandb\n",
        "! pip install optuna"
      ]
    },
    {
      "cell_type": "code",
      "source": [
        "import os\n",
        "\n",
        "import torch\n",
        "import torch.nn as nn\n",
        "import torch.nn.functional as F\n",
        "import torchvision\n",
        "from pl_bolts.datamodules import CIFAR10DataModule\n",
        "from pl_bolts.transforms.dataset_normalizations import cifar10_normalization\n",
        "from pytorch_lightning import LightningModule, Trainer, seed_everything\n",
        "from pytorch_lightning.callbacks import LearningRateMonitor\n",
        "from pytorch_lightning.loggers import TensorBoardLogger\n",
        "from torch.optim.lr_scheduler import OneCycleLR\n",
        "from torch.optim.swa_utils import AveragedModel, update_bn\n",
        "from torchmetrics.functional import accuracy\n",
        "import wandb\n",
        "from pytorch_lightning.loggers import WandbLogger\n",
        "\n",
        "\n",
        "seed_everything(7)\n",
        "\n",
        "PATH_DATASETS = os.environ.get(\"PATH_DATASETS\", \".\")\n",
        "AVAIL_GPUS = min(1, torch.cuda.device_count())\n",
        "BATCH_SIZE = 64 #256 if AVAIL_GPUS else 64\n",
        "NUM_WORKERS = int(os.cpu_count() / 2)\n",
        "num_classes = 10"
      ],
      "metadata": {
        "colab": {
          "base_uri": "https://localhost:8080/"
        },
        "id": "EXhhOHdkbApd",
        "outputId": "c6c4b1b8-3b5f-41f5-8cb9-a44738e8876a"
      },
      "execution_count": 2,
      "outputs": [
        {
          "output_type": "stream",
          "name": "stderr",
          "text": [
            "Global seed set to 7\n"
          ]
        }
      ]
    },
    {
      "cell_type": "code",
      "source": [
        "!nvidia-smi"
      ],
      "metadata": {
        "colab": {
          "base_uri": "https://localhost:8080/"
        },
        "id": "8gJyx1vHbC56",
        "outputId": "9ce75fd5-5fa2-4da9-c5c3-c1db6d44b1d5"
      },
      "execution_count": 3,
      "outputs": [
        {
          "output_type": "stream",
          "name": "stdout",
          "text": [
            "Tue May 24 10:46:32 2022       \n",
            "+-----------------------------------------------------------------------------+\n",
            "| NVIDIA-SMI 460.32.03    Driver Version: 460.32.03    CUDA Version: 11.2     |\n",
            "|-------------------------------+----------------------+----------------------+\n",
            "| GPU  Name        Persistence-M| Bus-Id        Disp.A | Volatile Uncorr. ECC |\n",
            "| Fan  Temp  Perf  Pwr:Usage/Cap|         Memory-Usage | GPU-Util  Compute M. |\n",
            "|                               |                      |               MIG M. |\n",
            "|===============================+======================+======================|\n",
            "|   0  Tesla P100-PCIE...  Off  | 00000000:00:04.0 Off |                    0 |\n",
            "| N/A   46C    P0    31W / 250W |      2MiB / 16280MiB |      0%      Default |\n",
            "|                               |                      |                  N/A |\n",
            "+-------------------------------+----------------------+----------------------+\n",
            "                                                                               \n",
            "+-----------------------------------------------------------------------------+\n",
            "| Processes:                                                                  |\n",
            "|  GPU   GI   CI        PID   Type   Process name                  GPU Memory |\n",
            "|        ID   ID                                                   Usage      |\n",
            "|=============================================================================|\n",
            "|  No running processes found                                                 |\n",
            "+-----------------------------------------------------------------------------+\n"
          ]
        }
      ]
    },
    {
      "cell_type": "code",
      "source": [
        "train_transforms = torchvision.transforms.Compose(\n",
        "    [\n",
        "        torchvision.transforms.RandomCrop(32, padding=4),\n",
        "        torchvision.transforms.RandomHorizontalFlip(),\n",
        "        torchvision.transforms.ToTensor(),\n",
        "        cifar10_normalization(),\n",
        "    ]\n",
        ")\n",
        "\n",
        "test_transforms = torchvision.transforms.Compose(\n",
        "    [\n",
        "        torchvision.transforms.ToTensor(),\n",
        "        cifar10_normalization(),\n",
        "    ]\n",
        ")\n",
        "\n",
        "cifar10_dm = CIFAR10DataModule(\n",
        "    data_dir=PATH_DATASETS,\n",
        "    batch_size=BATCH_SIZE,\n",
        "    num_workers=NUM_WORKERS,\n",
        "    train_transforms=train_transforms,\n",
        "    test_transforms=test_transforms,\n",
        "    val_transforms=test_transforms,\n",
        ")\n",
        "cifar10_dm.prepare_data()\n",
        "cifar10_dm.setup()\n",
        "print(len(cifar10_dm.train_dataloader()))"
      ],
      "metadata": {
        "colab": {
          "base_uri": "https://localhost:8080/"
        },
        "id": "Qk8sN9Bjekbv",
        "outputId": "9b95776d-b1b0-4253-ccb1-959fbd04f73c"
      },
      "execution_count": 4,
      "outputs": [
        {
          "output_type": "stream",
          "name": "stderr",
          "text": [
            "/usr/local/lib/python3.7/dist-packages/pytorch_lightning/core/datamodule.py:61: LightningDeprecationWarning: DataModule property `train_transforms` was deprecated in v1.5 and will be removed in v1.7.\n",
            "  \"DataModule property `train_transforms` was deprecated in v1.5 and will be removed in v1.7.\"\n",
            "/usr/local/lib/python3.7/dist-packages/pytorch_lightning/core/datamodule.py:65: LightningDeprecationWarning: DataModule property `val_transforms` was deprecated in v1.5 and will be removed in v1.7.\n",
            "  \"DataModule property `val_transforms` was deprecated in v1.5 and will be removed in v1.7.\"\n",
            "/usr/local/lib/python3.7/dist-packages/pytorch_lightning/core/datamodule.py:69: LightningDeprecationWarning: DataModule property `test_transforms` was deprecated in v1.5 and will be removed in v1.7.\n",
            "  \"DataModule property `test_transforms` was deprecated in v1.5 and will be removed in v1.7.\"\n"
          ]
        },
        {
          "output_type": "stream",
          "name": "stdout",
          "text": [
            "Files already downloaded and verified\n",
            "Files already downloaded and verified\n"
          ]
        },
        {
          "output_type": "stream",
          "name": "stderr",
          "text": [
            "/usr/local/lib/python3.7/dist-packages/pytorch_lightning/core/datamodule.py:89: LightningDeprecationWarning: DataModule property `train_transforms` was deprecated in v1.5 and will be removed in v1.7.\n",
            "  \"DataModule property `train_transforms` was deprecated in v1.5 and will be removed in v1.7.\"\n",
            "/usr/local/lib/python3.7/dist-packages/pytorch_lightning/core/datamodule.py:108: LightningDeprecationWarning: DataModule property `val_transforms` was deprecated in v1.5 and will be removed in v1.7.\n",
            "  \"DataModule property `val_transforms` was deprecated in v1.5 and will be removed in v1.7.\"\n",
            "/usr/local/lib/python3.7/dist-packages/pytorch_lightning/core/datamodule.py:127: LightningDeprecationWarning: DataModule property `test_transforms` was deprecated in v1.5 and will be removed in v1.7.\n",
            "  \"DataModule property `test_transforms` was deprecated in v1.5 and will be removed in v1.7.\"\n"
          ]
        },
        {
          "output_type": "stream",
          "name": "stdout",
          "text": [
            "625\n"
          ]
        }
      ]
    },
    {
      "cell_type": "code",
      "source": [
        "def create_model():\n",
        "    model = torchvision.models.resnet18(pretrained=False, num_classes=10)\n",
        "    model.conv1 = nn.Conv2d(3, 64, kernel_size=(3, 3), stride=(1, 1), padding=(1, 1), bias=False)\n",
        "    model.maxpool = nn.Identity()\n",
        "    return model"
      ],
      "metadata": {
        "id": "zUPq-IcCiSKC"
      },
      "execution_count": 5,
      "outputs": []
    },
    {
      "cell_type": "code",
      "source": [
        "wandb.login()"
      ],
      "metadata": {
        "colab": {
          "base_uri": "https://localhost:8080/"
        },
        "id": "mWSo3R2dbEkb",
        "outputId": "b4a85989-5621-41f5-a61e-a944d452fa68"
      },
      "execution_count": 6,
      "outputs": [
        {
          "output_type": "stream",
          "name": "stderr",
          "text": [
            "\u001b[34m\u001b[1mwandb\u001b[0m: Currently logged in as: \u001b[33mkressef\u001b[0m (\u001b[33mskylab\u001b[0m). Use \u001b[1m`wandb login --relogin`\u001b[0m to force relogin\n"
          ]
        },
        {
          "output_type": "execute_result",
          "data": {
            "text/plain": [
              "True"
            ]
          },
          "metadata": {},
          "execution_count": 6
        }
      ]
    },
    {
      "cell_type": "code",
      "source": [
        "import torchvision.models as models\n",
        "def create_model():\n",
        "    model = models.resnet18(pretrained=False, num_classes=10)\n",
        "    model.conv1 = nn.Conv2d(3, 64, kernel_size=(3, 3), stride=(1, 1), padding=(1, 1), bias=False)\n",
        "    model.maxpool = nn.Identity()\n",
        "    return model"
      ],
      "metadata": {
        "id": "_ww7On-0cMAa"
      },
      "execution_count": 7,
      "outputs": []
    },
    {
      "cell_type": "code",
      "source": [
        "class LitResnet(LightningModule):\n",
        "    def __init__(self, lr=0.05):\n",
        "        super().__init__()\n",
        "\n",
        "        self.save_hyperparameters()\n",
        "        self.model = create_model()\n",
        "\n",
        "    def forward(self, x):\n",
        "        out = self.model(x)\n",
        "        return F.log_softmax(out, dim=1)\n",
        "\n",
        "    def training_step(self, batch, batch_idx):\n",
        "        x, y = batch\n",
        "        logits = self(x)\n",
        "        loss = F.nll_loss(logits, y)\n",
        "        self.log(\"train_loss\", loss)\n",
        "        return loss\n",
        "\n",
        "    def evaluate(self, batch, stage=None):\n",
        "        x, y = batch\n",
        "        logits = self(x)\n",
        "        loss = F.nll_loss(logits, y)\n",
        "        preds = torch.argmax(logits, dim=1)\n",
        "        acc = accuracy(preds, y)\n",
        "\n",
        "        if stage:\n",
        "            self.log(f\"{stage}_loss\", loss, prog_bar=True)\n",
        "            self.log(f\"{stage}_acc\", acc, prog_bar=True)\n",
        "\n",
        "    def validation_step(self, batch, batch_idx):\n",
        "        self.evaluate(batch, \"val\")\n",
        "\n",
        "    def test_step(self, batch, batch_idx):\n",
        "        self.evaluate(batch, \"test\")\n",
        "\n",
        "    def configure_optimizers(self):\n",
        "        optimizer = torch.optim.SGD(\n",
        "            self.parameters(),\n",
        "            lr=self.hparams.lr,\n",
        "            momentum=0.9,\n",
        "            weight_decay=5e-4,\n",
        "        )\n",
        "        #cifar10_dm.prepare_data()\n",
        "        #cifar10_dm.setup()\n",
        "        steps_per_epoch = len(cifar10_dm.train_dataloader())\n",
        "        scheduler_dict = {\n",
        "            \"scheduler\": OneCycleLR(\n",
        "                optimizer,\n",
        "                0.1,\n",
        "                epochs=self.trainer.max_epochs,\n",
        "                steps_per_epoch=steps_per_epoch,\n",
        "            ),\n",
        "            \"interval\": \"step\",\n",
        "        }\n",
        "        return {\"optimizer\": optimizer, \"lr_scheduler\": scheduler_dict}\n"
      ],
      "metadata": {
        "id": "ihZ_wqJYbfDk"
      },
      "execution_count": 8,
      "outputs": []
    },
    {
      "cell_type": "code",
      "source": [
        "from torchsummary import summary\n",
        "summary( create_model(), next(iter(cifar10_dm.val_dataloader()))[0][1].shape,device='cpu')"
      ],
      "metadata": {
        "colab": {
          "base_uri": "https://localhost:8080/"
        },
        "id": "Le-t_9NIbv1b",
        "outputId": "6010bbc8-7aaa-44f4-cfdc-046e73098ef4"
      },
      "execution_count": 9,
      "outputs": [
        {
          "output_type": "stream",
          "name": "stdout",
          "text": [
            "----------------------------------------------------------------\n",
            "        Layer (type)               Output Shape         Param #\n",
            "================================================================\n",
            "            Conv2d-1           [-1, 64, 32, 32]           1,728\n",
            "       BatchNorm2d-2           [-1, 64, 32, 32]             128\n",
            "              ReLU-3           [-1, 64, 32, 32]               0\n",
            "          Identity-4           [-1, 64, 32, 32]               0\n",
            "            Conv2d-5           [-1, 64, 32, 32]          36,864\n",
            "       BatchNorm2d-6           [-1, 64, 32, 32]             128\n",
            "              ReLU-7           [-1, 64, 32, 32]               0\n",
            "            Conv2d-8           [-1, 64, 32, 32]          36,864\n",
            "       BatchNorm2d-9           [-1, 64, 32, 32]             128\n",
            "             ReLU-10           [-1, 64, 32, 32]               0\n",
            "       BasicBlock-11           [-1, 64, 32, 32]               0\n",
            "           Conv2d-12           [-1, 64, 32, 32]          36,864\n",
            "      BatchNorm2d-13           [-1, 64, 32, 32]             128\n",
            "             ReLU-14           [-1, 64, 32, 32]               0\n",
            "           Conv2d-15           [-1, 64, 32, 32]          36,864\n",
            "      BatchNorm2d-16           [-1, 64, 32, 32]             128\n",
            "             ReLU-17           [-1, 64, 32, 32]               0\n",
            "       BasicBlock-18           [-1, 64, 32, 32]               0\n",
            "           Conv2d-19          [-1, 128, 16, 16]          73,728\n",
            "      BatchNorm2d-20          [-1, 128, 16, 16]             256\n",
            "             ReLU-21          [-1, 128, 16, 16]               0\n",
            "           Conv2d-22          [-1, 128, 16, 16]         147,456\n",
            "      BatchNorm2d-23          [-1, 128, 16, 16]             256\n",
            "           Conv2d-24          [-1, 128, 16, 16]           8,192\n",
            "      BatchNorm2d-25          [-1, 128, 16, 16]             256\n",
            "             ReLU-26          [-1, 128, 16, 16]               0\n",
            "       BasicBlock-27          [-1, 128, 16, 16]               0\n",
            "           Conv2d-28          [-1, 128, 16, 16]         147,456\n",
            "      BatchNorm2d-29          [-1, 128, 16, 16]             256\n",
            "             ReLU-30          [-1, 128, 16, 16]               0\n",
            "           Conv2d-31          [-1, 128, 16, 16]         147,456\n",
            "      BatchNorm2d-32          [-1, 128, 16, 16]             256\n",
            "             ReLU-33          [-1, 128, 16, 16]               0\n",
            "       BasicBlock-34          [-1, 128, 16, 16]               0\n",
            "           Conv2d-35            [-1, 256, 8, 8]         294,912\n",
            "      BatchNorm2d-36            [-1, 256, 8, 8]             512\n",
            "             ReLU-37            [-1, 256, 8, 8]               0\n",
            "           Conv2d-38            [-1, 256, 8, 8]         589,824\n",
            "      BatchNorm2d-39            [-1, 256, 8, 8]             512\n",
            "           Conv2d-40            [-1, 256, 8, 8]          32,768\n",
            "      BatchNorm2d-41            [-1, 256, 8, 8]             512\n",
            "             ReLU-42            [-1, 256, 8, 8]               0\n",
            "       BasicBlock-43            [-1, 256, 8, 8]               0\n",
            "           Conv2d-44            [-1, 256, 8, 8]         589,824\n",
            "      BatchNorm2d-45            [-1, 256, 8, 8]             512\n",
            "             ReLU-46            [-1, 256, 8, 8]               0\n",
            "           Conv2d-47            [-1, 256, 8, 8]         589,824\n",
            "      BatchNorm2d-48            [-1, 256, 8, 8]             512\n",
            "             ReLU-49            [-1, 256, 8, 8]               0\n",
            "       BasicBlock-50            [-1, 256, 8, 8]               0\n",
            "           Conv2d-51            [-1, 512, 4, 4]       1,179,648\n",
            "      BatchNorm2d-52            [-1, 512, 4, 4]           1,024\n",
            "             ReLU-53            [-1, 512, 4, 4]               0\n",
            "           Conv2d-54            [-1, 512, 4, 4]       2,359,296\n",
            "      BatchNorm2d-55            [-1, 512, 4, 4]           1,024\n",
            "           Conv2d-56            [-1, 512, 4, 4]         131,072\n",
            "      BatchNorm2d-57            [-1, 512, 4, 4]           1,024\n",
            "             ReLU-58            [-1, 512, 4, 4]               0\n",
            "       BasicBlock-59            [-1, 512, 4, 4]               0\n",
            "           Conv2d-60            [-1, 512, 4, 4]       2,359,296\n",
            "      BatchNorm2d-61            [-1, 512, 4, 4]           1,024\n",
            "             ReLU-62            [-1, 512, 4, 4]               0\n",
            "           Conv2d-63            [-1, 512, 4, 4]       2,359,296\n",
            "      BatchNorm2d-64            [-1, 512, 4, 4]           1,024\n",
            "             ReLU-65            [-1, 512, 4, 4]               0\n",
            "       BasicBlock-66            [-1, 512, 4, 4]               0\n",
            "AdaptiveAvgPool2d-67            [-1, 512, 1, 1]               0\n",
            "           Linear-68                   [-1, 10]           5,130\n",
            "================================================================\n",
            "Total params: 11,173,962\n",
            "Trainable params: 11,173,962\n",
            "Non-trainable params: 0\n",
            "----------------------------------------------------------------\n",
            "Input size (MB): 0.01\n",
            "Forward/backward pass size (MB): 16.00\n",
            "Params size (MB): 42.63\n",
            "Estimated Total Size (MB): 58.64\n",
            "----------------------------------------------------------------\n"
          ]
        }
      ]
    },
    {
      "cell_type": "code",
      "source": [
        "run = wandb.init(project=\"GTN\", entity=\"skylab\", reinit=True)"
      ],
      "metadata": {
        "colab": {
          "base_uri": "https://localhost:8080/",
          "height": 838
        },
        "id": "VgCaLhJDct8F",
        "outputId": "39097e7d-beb4-4a97-8f8f-41ddb45a8a1d"
      },
      "execution_count": 65,
      "outputs": [
        {
          "output_type": "display_data",
          "data": {
            "text/plain": [
              "<IPython.core.display.HTML object>"
            ],
            "text/html": [
              "Changes to your `wandb` environment variables will be ignored because your `wandb` session has already started. For more information on how to modify your settings with `wandb.init()` arguments, please refer to <a href=\"https://wandb.me/wandb-init\" target=\"_blank\">the W&B docs</a>."
            ]
          },
          "metadata": {}
        },
        {
          "output_type": "stream",
          "name": "stderr",
          "text": [
            "Traceback (most recent call last):\n",
            "  File \"/usr/local/lib/python3.7/dist-packages/wandb/sdk/wandb_init.py\", line 996, in init\n",
            "    wi.setup(kwargs)\n",
            "  File \"/usr/local/lib/python3.7/dist-packages/wandb/sdk/wandb_init.py\", line 168, in setup\n",
            "    tel.feature.set_init_tags = True\n",
            "  File \"/usr/local/lib/python3.7/dist-packages/wandb/sdk/lib/telemetry.py\", line 41, in __exit__\n",
            "    self._run._telemetry_callback(self._obj)\n",
            "  File \"/usr/local/lib/python3.7/dist-packages/wandb/sdk/wandb_run.py\", line 577, in _telemetry_callback\n",
            "    self._telemetry_flush()\n",
            "  File \"/usr/local/lib/python3.7/dist-packages/wandb/sdk/wandb_run.py\", line 588, in _telemetry_flush\n",
            "    self._backend.interface._publish_telemetry(self._telemetry_obj)\n",
            "  File \"/usr/local/lib/python3.7/dist-packages/wandb/sdk/interface/interface_shared.py\", line 74, in _publish_telemetry\n",
            "    self._publish(rec)\n",
            "  File \"/usr/local/lib/python3.7/dist-packages/wandb/sdk/interface/interface_queue.py\", line 49, in _publish\n",
            "    raise Exception(\"The wandb backend process has shutdown\")\n",
            "Exception: The wandb backend process has shutdown\n",
            "\u001b[34m\u001b[1mwandb\u001b[0m: \u001b[32m\u001b[41mERROR\u001b[0m Abnormal program exit\n"
          ]
        },
        {
          "output_type": "error",
          "ename": "Exception",
          "evalue": "ignored",
          "traceback": [
            "\u001b[0;31m---------------------------------------------------------------------------\u001b[0m",
            "\u001b[0;31mException\u001b[0m                                 Traceback (most recent call last)",
            "\u001b[0;32m/usr/local/lib/python3.7/dist-packages/wandb/sdk/wandb_init.py\u001b[0m in \u001b[0;36minit\u001b[0;34m(job_type, dir, config, project, entity, reinit, tags, group, name, notes, magic, config_exclude_keys, config_include_keys, anonymous, mode, allow_val_change, resume, force, tensorboard, sync_tensorboard, monitor_gym, save_code, id, settings)\u001b[0m\n\u001b[1;32m    995\u001b[0m         \u001b[0mwi\u001b[0m \u001b[0;34m=\u001b[0m \u001b[0m_WandbInit\u001b[0m\u001b[0;34m(\u001b[0m\u001b[0;34m)\u001b[0m\u001b[0;34m\u001b[0m\u001b[0;34m\u001b[0m\u001b[0m\n\u001b[0;32m--> 996\u001b[0;31m         \u001b[0mwi\u001b[0m\u001b[0;34m.\u001b[0m\u001b[0msetup\u001b[0m\u001b[0;34m(\u001b[0m\u001b[0mkwargs\u001b[0m\u001b[0;34m)\u001b[0m\u001b[0;34m\u001b[0m\u001b[0;34m\u001b[0m\u001b[0m\n\u001b[0m\u001b[1;32m    997\u001b[0m         \u001b[0mexcept_exit\u001b[0m \u001b[0;34m=\u001b[0m \u001b[0mwi\u001b[0m\u001b[0;34m.\u001b[0m\u001b[0msettings\u001b[0m\u001b[0;34m.\u001b[0m\u001b[0m_except_exit\u001b[0m\u001b[0;34m\u001b[0m\u001b[0;34m\u001b[0m\u001b[0m\n",
            "\u001b[0;32m/usr/local/lib/python3.7/dist-packages/wandb/sdk/wandb_init.py\u001b[0m in \u001b[0;36msetup\u001b[0;34m(self, kwargs)\u001b[0m\n\u001b[1;32m    167\u001b[0m             \u001b[0;32mif\u001b[0m \u001b[0mkwargs\u001b[0m\u001b[0;34m.\u001b[0m\u001b[0mget\u001b[0m\u001b[0;34m(\u001b[0m\u001b[0;34m\"tags\"\u001b[0m\u001b[0;34m)\u001b[0m\u001b[0;34m:\u001b[0m\u001b[0;34m\u001b[0m\u001b[0;34m\u001b[0m\u001b[0m\n\u001b[0;32m--> 168\u001b[0;31m                 \u001b[0mtel\u001b[0m\u001b[0;34m.\u001b[0m\u001b[0mfeature\u001b[0m\u001b[0;34m.\u001b[0m\u001b[0mset_init_tags\u001b[0m \u001b[0;34m=\u001b[0m \u001b[0;32mTrue\u001b[0m\u001b[0;34m\u001b[0m\u001b[0;34m\u001b[0m\u001b[0m\n\u001b[0m\u001b[1;32m    169\u001b[0m \u001b[0;34m\u001b[0m\u001b[0m\n",
            "\u001b[0;32m/usr/local/lib/python3.7/dist-packages/wandb/sdk/lib/telemetry.py\u001b[0m in \u001b[0;36m__exit__\u001b[0;34m(self, exctype, excinst, exctb)\u001b[0m\n\u001b[1;32m     40\u001b[0m             \u001b[0;32mreturn\u001b[0m\u001b[0;34m\u001b[0m\u001b[0;34m\u001b[0m\u001b[0m\n\u001b[0;32m---> 41\u001b[0;31m         \u001b[0mself\u001b[0m\u001b[0;34m.\u001b[0m\u001b[0m_run\u001b[0m\u001b[0;34m.\u001b[0m\u001b[0m_telemetry_callback\u001b[0m\u001b[0;34m(\u001b[0m\u001b[0mself\u001b[0m\u001b[0;34m.\u001b[0m\u001b[0m_obj\u001b[0m\u001b[0;34m)\u001b[0m\u001b[0;34m\u001b[0m\u001b[0;34m\u001b[0m\u001b[0m\n\u001b[0m\u001b[1;32m     42\u001b[0m \u001b[0;34m\u001b[0m\u001b[0m\n",
            "\u001b[0;32m/usr/local/lib/python3.7/dist-packages/wandb/sdk/wandb_run.py\u001b[0m in \u001b[0;36m_telemetry_callback\u001b[0;34m(self, telem_obj)\u001b[0m\n\u001b[1;32m    576\u001b[0m         \u001b[0mself\u001b[0m\u001b[0;34m.\u001b[0m\u001b[0m_telemetry_obj_dirty\u001b[0m \u001b[0;34m=\u001b[0m \u001b[0;32mTrue\u001b[0m\u001b[0;34m\u001b[0m\u001b[0;34m\u001b[0m\u001b[0m\n\u001b[0;32m--> 577\u001b[0;31m         \u001b[0mself\u001b[0m\u001b[0;34m.\u001b[0m\u001b[0m_telemetry_flush\u001b[0m\u001b[0;34m(\u001b[0m\u001b[0;34m)\u001b[0m\u001b[0;34m\u001b[0m\u001b[0;34m\u001b[0m\u001b[0m\n\u001b[0m\u001b[1;32m    578\u001b[0m \u001b[0;34m\u001b[0m\u001b[0m\n",
            "\u001b[0;32m/usr/local/lib/python3.7/dist-packages/wandb/sdk/wandb_run.py\u001b[0m in \u001b[0;36m_telemetry_flush\u001b[0;34m(self)\u001b[0m\n\u001b[1;32m    587\u001b[0m                 \u001b[0;32mreturn\u001b[0m\u001b[0;34m\u001b[0m\u001b[0;34m\u001b[0m\u001b[0m\n\u001b[0;32m--> 588\u001b[0;31m             \u001b[0mself\u001b[0m\u001b[0;34m.\u001b[0m\u001b[0m_backend\u001b[0m\u001b[0;34m.\u001b[0m\u001b[0minterface\u001b[0m\u001b[0;34m.\u001b[0m\u001b[0m_publish_telemetry\u001b[0m\u001b[0;34m(\u001b[0m\u001b[0mself\u001b[0m\u001b[0;34m.\u001b[0m\u001b[0m_telemetry_obj\u001b[0m\u001b[0;34m)\u001b[0m\u001b[0;34m\u001b[0m\u001b[0;34m\u001b[0m\u001b[0m\n\u001b[0m\u001b[1;32m    589\u001b[0m             \u001b[0mself\u001b[0m\u001b[0;34m.\u001b[0m\u001b[0m_telemetry_obj_flushed\u001b[0m \u001b[0;34m=\u001b[0m \u001b[0mserialized\u001b[0m\u001b[0;34m\u001b[0m\u001b[0;34m\u001b[0m\u001b[0m\n",
            "\u001b[0;32m/usr/local/lib/python3.7/dist-packages/wandb/sdk/interface/interface_shared.py\u001b[0m in \u001b[0;36m_publish_telemetry\u001b[0;34m(self, telem)\u001b[0m\n\u001b[1;32m     73\u001b[0m         \u001b[0mrec\u001b[0m \u001b[0;34m=\u001b[0m \u001b[0mself\u001b[0m\u001b[0;34m.\u001b[0m\u001b[0m_make_record\u001b[0m\u001b[0;34m(\u001b[0m\u001b[0mtelemetry\u001b[0m\u001b[0;34m=\u001b[0m\u001b[0mtelem\u001b[0m\u001b[0;34m)\u001b[0m\u001b[0;34m\u001b[0m\u001b[0;34m\u001b[0m\u001b[0m\n\u001b[0;32m---> 74\u001b[0;31m         \u001b[0mself\u001b[0m\u001b[0;34m.\u001b[0m\u001b[0m_publish\u001b[0m\u001b[0;34m(\u001b[0m\u001b[0mrec\u001b[0m\u001b[0;34m)\u001b[0m\u001b[0;34m\u001b[0m\u001b[0;34m\u001b[0m\u001b[0m\n\u001b[0m\u001b[1;32m     75\u001b[0m \u001b[0;34m\u001b[0m\u001b[0m\n",
            "\u001b[0;32m/usr/local/lib/python3.7/dist-packages/wandb/sdk/interface/interface_queue.py\u001b[0m in \u001b[0;36m_publish\u001b[0;34m(self, record, local)\u001b[0m\n\u001b[1;32m     48\u001b[0m         \u001b[0;32mif\u001b[0m \u001b[0mself\u001b[0m\u001b[0;34m.\u001b[0m\u001b[0m_process_check\u001b[0m \u001b[0;32mand\u001b[0m \u001b[0mself\u001b[0m\u001b[0;34m.\u001b[0m\u001b[0m_process\u001b[0m \u001b[0;32mand\u001b[0m \u001b[0;32mnot\u001b[0m \u001b[0mself\u001b[0m\u001b[0;34m.\u001b[0m\u001b[0m_process\u001b[0m\u001b[0;34m.\u001b[0m\u001b[0mis_alive\u001b[0m\u001b[0;34m(\u001b[0m\u001b[0;34m)\u001b[0m\u001b[0;34m:\u001b[0m\u001b[0;34m\u001b[0m\u001b[0;34m\u001b[0m\u001b[0m\n\u001b[0;32m---> 49\u001b[0;31m             \u001b[0;32mraise\u001b[0m \u001b[0mException\u001b[0m\u001b[0;34m(\u001b[0m\u001b[0;34m\"The wandb backend process has shutdown\"\u001b[0m\u001b[0;34m)\u001b[0m\u001b[0;34m\u001b[0m\u001b[0;34m\u001b[0m\u001b[0m\n\u001b[0m\u001b[1;32m     50\u001b[0m         \u001b[0;32mif\u001b[0m \u001b[0mlocal\u001b[0m\u001b[0;34m:\u001b[0m\u001b[0;34m\u001b[0m\u001b[0;34m\u001b[0m\u001b[0m\n",
            "\u001b[0;31mException\u001b[0m: The wandb backend process has shutdown",
            "\nThe above exception was the direct cause of the following exception:\n",
            "\u001b[0;31mException\u001b[0m                                 Traceback (most recent call last)",
            "\u001b[0;32m<ipython-input-65-8cdf72a31251>\u001b[0m in \u001b[0;36m<module>\u001b[0;34m()\u001b[0m\n\u001b[0;32m----> 1\u001b[0;31m \u001b[0mrun\u001b[0m \u001b[0;34m=\u001b[0m \u001b[0mwandb\u001b[0m\u001b[0;34m.\u001b[0m\u001b[0minit\u001b[0m\u001b[0;34m(\u001b[0m\u001b[0mproject\u001b[0m\u001b[0;34m=\u001b[0m\u001b[0;34m\"GTN\"\u001b[0m\u001b[0;34m,\u001b[0m \u001b[0mentity\u001b[0m\u001b[0;34m=\u001b[0m\u001b[0;34m\"skylab\"\u001b[0m\u001b[0;34m,\u001b[0m \u001b[0mreinit\u001b[0m\u001b[0;34m=\u001b[0m\u001b[0;32mTrue\u001b[0m\u001b[0;34m)\u001b[0m\u001b[0;34m\u001b[0m\u001b[0;34m\u001b[0m\u001b[0m\n\u001b[0m",
            "\u001b[0;32m/usr/local/lib/python3.7/dist-packages/wandb/sdk/wandb_init.py\u001b[0m in \u001b[0;36minit\u001b[0;34m(job_type, dir, config, project, entity, reinit, tags, group, name, notes, magic, config_exclude_keys, config_include_keys, anonymous, mode, allow_val_change, resume, force, tensorboard, sync_tensorboard, monitor_gym, save_code, id, settings)\u001b[0m\n\u001b[1;32m   1035\u001b[0m             \u001b[0;32mif\u001b[0m \u001b[0mexcept_exit\u001b[0m\u001b[0;34m:\u001b[0m\u001b[0;34m\u001b[0m\u001b[0;34m\u001b[0m\u001b[0m\n\u001b[1;32m   1036\u001b[0m                 \u001b[0mos\u001b[0m\u001b[0;34m.\u001b[0m\u001b[0m_exit\u001b[0m\u001b[0;34m(\u001b[0m\u001b[0;34m-\u001b[0m\u001b[0;36m1\u001b[0m\u001b[0;34m)\u001b[0m\u001b[0;34m\u001b[0m\u001b[0;34m\u001b[0m\u001b[0m\n\u001b[0;32m-> 1037\u001b[0;31m             \u001b[0;32mraise\u001b[0m \u001b[0mException\u001b[0m\u001b[0;34m(\u001b[0m\u001b[0;34m\"problem\"\u001b[0m\u001b[0;34m)\u001b[0m \u001b[0;32mfrom\u001b[0m \u001b[0merror_seen\u001b[0m\u001b[0;34m\u001b[0m\u001b[0;34m\u001b[0m\u001b[0m\n\u001b[0m\u001b[1;32m   1038\u001b[0m     \u001b[0;32mreturn\u001b[0m \u001b[0mrun\u001b[0m\u001b[0;34m\u001b[0m\u001b[0;34m\u001b[0m\u001b[0m\n",
            "\u001b[0;31mException\u001b[0m: problem"
          ]
        }
      ]
    },
    {
      "cell_type": "code",
      "source": [
        "wandb_logger = WandbLogger()\n",
        "\n",
        "model = LitResnet(lr=0.05)\n",
        "model.datamodule = cifar10_dm\n",
        "trainer = Trainer(accelerator=\"gpu\",\n",
        "                     max_epochs=3,\n",
        "                    logger=wandb_logger,    # W&B integration\n",
        "                    log_every_n_steps=10,   # set the logging frequency\n",
        "                    )\n",
        "trainer.fit(model, cifar10_dm)\n",
        "trainer.test(model, datamodule=cifar10_dm)"
      ],
      "metadata": {
        "colab": {
          "base_uri": "https://localhost:8080/",
          "height": 818,
          "referenced_widgets": [
            "2c15320776b04dc2b8a9fa11b33ca7d0",
            "45cfbdf90ba54437aedc6ebd276fb97c",
            "1282eeda90f24967ae5e229337c94864",
            "5701edd39b2b424e928ca1483a32a093",
            "515880dd305b4ab0b600e12e2d50d8db",
            "50447cfcff404642ad0df26cf0885e15",
            "98fe3d93baec451e96aaa70d5b963857",
            "920b59e6a1774cfdaaaba6d7ee3ffbb5",
            "dfbff245267447278396b42f5e2768ef",
            "7100f62ffc7f4372b0755639d0db03eb",
            "2b4e8531f97c4583b2f0d58ee88e362a",
            "0ecb1adf186c4b51a48491381b6a3f05",
            "63db35e75b9a418fb95f8fbc9db70b90",
            "d60d8decfa394eca9677eded570eb3d1",
            "5a61dde7b37546b3b2adf662bb2ccf77",
            "9f1bc0dbe1ec4e75aae1665909b6139a",
            "71e80320f9f94e95a4605243e2d2bc1f",
            "edd479ceff4a418d97633a065f256f6f",
            "49d049e777d547e7a7bbd2e0567d37f3",
            "c78b6f8f29cd48539efb0d6830aff744",
            "176e72cf8d004f0093b64aa26e6b0361",
            "1bfa519fa931414fb1c71fb800119bea",
            "100ce559fc824991bd2254f5c17dae75",
            "235eba003b7747f9852ee5f6f8152bf5",
            "a8ba6fbb79334343a603a436ac518305",
            "1be7bbd1743d4b3dbc6b564d7e541f87",
            "f7f511b699234f4299fe13b6c2db927a",
            "6e30bfdfb0da4f7d8fb3562cebd396de",
            "150f02b0727e494a8ca507259550793e",
            "a6bfe0517aab4013a43d4ad3061a0f5d",
            "f48e1631ef7e4f989466245f38321541",
            "0d075828577b4675a0229d09074d3e7f",
            "4d7e33de93d9400ba48508f1f0ee4159",
            "fd29849a48174fb2a99573861d82dc15",
            "ade60aaaddde4bda8f5e752ed3dd3fff",
            "e422a410a1ae4fdd9d4cc75c29f12b96",
            "861c688377324b2fbbdabadf78202482",
            "cf0cbeabbf3f4281a4c2ebd4eb7df3dc",
            "29679b44eac74412ab746a8aa0552b83",
            "5c7cab1a155c430aa4c4cbd38966013e",
            "93d20e5159414f748d7608e9626b40e7",
            "6ed5f81d33924f85aa12e2788625dd3b",
            "8d88729a5f5e4c18940597c4a7592229",
            "020945e8e1fb450e88fa7068e401dede",
            "5958b1ecaa3b4eee968b1a4ab6306a92",
            "af5b2d36deb74d2e9d8f9488d68c6fa0",
            "e8391ab3739d49a591d127e28381fee9",
            "4548602bc4fd41709ce6eaf94d3f727d",
            "18f888457b6e4caeacb9a4fceb1dc7e5",
            "0950574e458c49cb882daac925b96deb",
            "087d4cc8126d49d7af328ac49e82b1d8",
            "5dae261e9a6e49439844e6d1076e8522",
            "7d2fc0eca58547a49747b30b4e4b44d9",
            "246ace20f2064fda9f51c85193171090",
            "bb20cf66542d432baa61ed1231101d49",
            "d6e15a2783494fea903cbc60d8448cb7",
            "ca230df2f53c45f9b35461f2cced65e2",
            "f3503ebdfbe1492fb44fec40143cc381",
            "2dc2cc0277d042ab8383bbb78f643e5f",
            "4ef7a1bc2ece4b90a58823884c88c49f",
            "6ee586ce9f95428cbf442d51ac2a11c8",
            "ff38d17676384f0ba21c7ffef752671b",
            "523ad73580274753822d4bceaae64c81",
            "ad420af2ebe44e3cbf3f0ce863909fef",
            "deb2516864d445d9bf1b065525aed6a0",
            "34ebfae6c19c4d2b924a07d8089c8a83"
          ]
        },
        "id": "f8P6x8A5cz67",
        "outputId": "a5fbb3bb-6f89-4131-ae70-cfecab2dcf23"
      },
      "execution_count": 20,
      "outputs": [
        {
          "output_type": "stream",
          "name": "stderr",
          "text": [
            "/usr/local/lib/python3.7/dist-packages/pytorch_lightning/loggers/wandb.py:348: UserWarning: There is a wandb run already in progress and newly created instances of `WandbLogger` will reuse this run. If this is not desired, call `wandb.finish()` before instantiating `WandbLogger`.\n",
            "  \"There is a wandb run already in progress and newly created instances of `WandbLogger` will reuse\"\n",
            "GPU available: True, used: True\n",
            "TPU available: False, using: 0 TPU cores\n",
            "IPU available: False, using: 0 IPUs\n",
            "HPU available: False, using: 0 HPUs\n"
          ]
        },
        {
          "output_type": "stream",
          "name": "stdout",
          "text": [
            "Files already downloaded and verified\n",
            "Files already downloaded and verified\n"
          ]
        },
        {
          "output_type": "stream",
          "name": "stderr",
          "text": [
            "/usr/local/lib/python3.7/dist-packages/pytorch_lightning/core/datamodule.py:89: LightningDeprecationWarning: DataModule property `train_transforms` was deprecated in v1.5 and will be removed in v1.7.\n",
            "  \"DataModule property `train_transforms` was deprecated in v1.5 and will be removed in v1.7.\"\n",
            "/usr/local/lib/python3.7/dist-packages/pytorch_lightning/core/datamodule.py:108: LightningDeprecationWarning: DataModule property `val_transforms` was deprecated in v1.5 and will be removed in v1.7.\n",
            "  \"DataModule property `val_transforms` was deprecated in v1.5 and will be removed in v1.7.\"\n",
            "LOCAL_RANK: 0 - CUDA_VISIBLE_DEVICES: [0]\n",
            "\n",
            "  | Name  | Type   | Params\n",
            "---------------------------------\n",
            "0 | model | ResNet | 11.2 M\n",
            "---------------------------------\n",
            "11.2 M    Trainable params\n",
            "0         Non-trainable params\n",
            "11.2 M    Total params\n",
            "44.696    Total estimated model params size (MB)\n"
          ]
        },
        {
          "output_type": "display_data",
          "data": {
            "text/plain": [
              "Sanity Checking: 0it [00:00, ?it/s]"
            ],
            "application/vnd.jupyter.widget-view+json": {
              "version_major": 2,
              "version_minor": 0,
              "model_id": "2c15320776b04dc2b8a9fa11b33ca7d0"
            }
          },
          "metadata": {}
        },
        {
          "output_type": "stream",
          "name": "stderr",
          "text": [
            "/usr/local/lib/python3.7/dist-packages/pytorch_lightning/trainer/connectors/data_connector.py:245: PossibleUserWarning: The dataloader, val_dataloader 0, does not have many workers which may be a bottleneck. Consider increasing the value of the `num_workers` argument` (try 4 which is the number of cpus on this machine) in the `DataLoader` init to improve performance.\n",
            "  category=PossibleUserWarning,\n",
            "/usr/local/lib/python3.7/dist-packages/pytorch_lightning/trainer/connectors/data_connector.py:245: PossibleUserWarning: The dataloader, train_dataloader, does not have many workers which may be a bottleneck. Consider increasing the value of the `num_workers` argument` (try 4 which is the number of cpus on this machine) in the `DataLoader` init to improve performance.\n",
            "  category=PossibleUserWarning,\n"
          ]
        },
        {
          "output_type": "display_data",
          "data": {
            "text/plain": [
              "Training: 0it [00:00, ?it/s]"
            ],
            "application/vnd.jupyter.widget-view+json": {
              "version_major": 2,
              "version_minor": 0,
              "model_id": "0ecb1adf186c4b51a48491381b6a3f05"
            }
          },
          "metadata": {}
        },
        {
          "output_type": "display_data",
          "data": {
            "text/plain": [
              "Validation: 0it [00:00, ?it/s]"
            ],
            "application/vnd.jupyter.widget-view+json": {
              "version_major": 2,
              "version_minor": 0,
              "model_id": "100ce559fc824991bd2254f5c17dae75"
            }
          },
          "metadata": {}
        },
        {
          "output_type": "display_data",
          "data": {
            "text/plain": [
              "Validation: 0it [00:00, ?it/s]"
            ],
            "application/vnd.jupyter.widget-view+json": {
              "version_major": 2,
              "version_minor": 0,
              "model_id": "fd29849a48174fb2a99573861d82dc15"
            }
          },
          "metadata": {}
        },
        {
          "output_type": "display_data",
          "data": {
            "text/plain": [
              "Validation: 0it [00:00, ?it/s]"
            ],
            "application/vnd.jupyter.widget-view+json": {
              "version_major": 2,
              "version_minor": 0,
              "model_id": "5958b1ecaa3b4eee968b1a4ab6306a92"
            }
          },
          "metadata": {}
        },
        {
          "output_type": "stream",
          "name": "stdout",
          "text": [
            "Files already downloaded and verified\n",
            "Files already downloaded and verified\n"
          ]
        },
        {
          "output_type": "stream",
          "name": "stderr",
          "text": [
            "/usr/local/lib/python3.7/dist-packages/pytorch_lightning/core/datamodule.py:127: LightningDeprecationWarning: DataModule property `test_transforms` was deprecated in v1.5 and will be removed in v1.7.\n",
            "  \"DataModule property `test_transforms` was deprecated in v1.5 and will be removed in v1.7.\"\n",
            "LOCAL_RANK: 0 - CUDA_VISIBLE_DEVICES: [0]\n",
            "/usr/local/lib/python3.7/dist-packages/pytorch_lightning/trainer/connectors/data_connector.py:245: PossibleUserWarning: The dataloader, test_dataloader 0, does not have many workers which may be a bottleneck. Consider increasing the value of the `num_workers` argument` (try 4 which is the number of cpus on this machine) in the `DataLoader` init to improve performance.\n",
            "  category=PossibleUserWarning,\n"
          ]
        },
        {
          "output_type": "display_data",
          "data": {
            "text/plain": [
              "Testing: 0it [00:00, ?it/s]"
            ],
            "application/vnd.jupyter.widget-view+json": {
              "version_major": 2,
              "version_minor": 0,
              "model_id": "d6e15a2783494fea903cbc60d8448cb7"
            }
          },
          "metadata": {}
        },
        {
          "output_type": "stream",
          "name": "stdout",
          "text": [
            "────────────────────────────────────────────────────────────────────────────────────────────────────────────────────────\n",
            "       Test metric             DataLoader 0\n",
            "────────────────────────────────────────────────────────────────────────────────────────────────────────────────────────\n",
            "        test_acc             0.718999981880188\n",
            "        test_loss           0.7799311280250549\n",
            "────────────────────────────────────────────────────────────────────────────────────────────────────────────────────────\n"
          ]
        },
        {
          "output_type": "execute_result",
          "data": {
            "text/plain": [
              "[{'test_acc': 0.718999981880188, 'test_loss': 0.7799311280250549}]"
            ]
          },
          "metadata": {},
          "execution_count": 20
        }
      ]
    },
    {
      "cell_type": "code",
      "source": [
        "run.finish()"
      ],
      "metadata": {
        "colab": {
          "base_uri": "https://localhost:8080/",
          "height": 87,
          "referenced_widgets": [
            "db08cbe6c9494a4ebaae02fa3edb8aea",
            "e159145f560c47cd9b2ce2fad6b820a1",
            "34896b9a4f37451b99ce1d233b58cc2a",
            "4efaf8a586524a5c9bddf4c5cc0a1079",
            "b45c137f22b94cfe86c7f2757f3624af",
            "bb2b186dd9634846a01303bff9c050fc",
            "65a22c65273e4651b0872ba5a433ba06",
            "775c1a012cb041fe8834a2bde256281c"
          ]
        },
        "id": "4_k2Ad1Bc12R",
        "outputId": "f9d23534-b715-40ff-e45f-7046da876120"
      },
      "execution_count": 11,
      "outputs": [
        {
          "output_type": "display_data",
          "data": {
            "text/plain": [
              "<IPython.core.display.HTML object>"
            ],
            "text/html": [
              "Waiting for W&B process to finish... <strong style=\"color:green\">(success).</strong>"
            ]
          },
          "metadata": {}
        },
        {
          "output_type": "display_data",
          "data": {
            "text/plain": [
              "VBox(children=(Label(value='0.001 MB of 0.001 MB uploaded (0.000 MB deduped)\\r'), FloatProgress(value=1.0, max…"
            ],
            "application/vnd.jupyter.widget-view+json": {
              "version_major": 2,
              "version_minor": 0,
              "model_id": "db08cbe6c9494a4ebaae02fa3edb8aea"
            }
          },
          "metadata": {}
        },
        {
          "output_type": "display_data",
          "data": {
            "text/plain": [
              "<IPython.core.display.HTML object>"
            ],
            "text/html": [
              "Synced <strong style=\"color:#cdcd00\">dainty-snowball-8</strong>: <a href=\"https://wandb.ai/skylab/GTN/runs/fvhnoa01\" target=\"_blank\">https://wandb.ai/skylab/GTN/runs/fvhnoa01</a><br/>Synced 4 W&B file(s), 0 media file(s), 0 artifact file(s) and 0 other file(s)"
            ]
          },
          "metadata": {}
        },
        {
          "output_type": "display_data",
          "data": {
            "text/plain": [
              "<IPython.core.display.HTML object>"
            ],
            "text/html": [
              "Find logs at: <code>./wandb/run-20220524_102632-fvhnoa01/logs</code>"
            ]
          },
          "metadata": {}
        }
      ]
    },
    {
      "cell_type": "markdown",
      "source": [
        "Now lets run it with a GTN network!"
      ],
      "metadata": {
        "id": "m9cIGR_NFTcr"
      }
    },
    {
      "cell_type": "code",
      "source": [
        "# also called Generator in the paper\n",
        "class Teacher(nn.Module):\n",
        "    def __init__(self, z_dim = 128, num_classes=10, output_shape=(3,32,32), de_dim = 1024):\n",
        "        super().__init__()\n",
        "        self.fcs = nn.Sequential(\n",
        "            #nn.Flatten(),\n",
        "            nn.Linear(z_dim+num_classes, 1024,bias=True),\n",
        "            nn.BatchNorm1d(1024),\n",
        "            nn.LeakyReLU(0.1),\n",
        "        )\n",
        "        self.transConv = nn.Sequential(\n",
        "            # 1024, 1\n",
        "            nn.ConvTranspose2d(1024,de_dim//2,4, stride=2, padding=1),\n",
        "            nn.LazyBatchNorm2d(),\n",
        "            nn.ReLU(),\n",
        "            # 512 , 4\n",
        "            nn.ConvTranspose2d(de_dim//2,de_dim//4,4, stride=2, padding=1),\n",
        "            nn.LazyBatchNorm2d(),\n",
        "            nn.ReLU(),\n",
        "            # 256, 8\n",
        "            nn.ConvTranspose2d(de_dim//4,de_dim//8,4, stride=2, padding=1),\n",
        "            nn.LazyBatchNorm2d(),\n",
        "            nn.ReLU(),\n",
        "            # 128, 16\n",
        "            nn.ConvTranspose2d(de_dim//8,32,4, stride=2, padding=1),\n",
        "            nn.LazyBatchNorm2d(),\n",
        "            nn.ReLU(),\n",
        "            # 32, 32\n",
        "            nn.ConvTranspose2d(32,16,4, stride=2, padding=1),\n",
        "            nn.LazyBatchNorm2d(),\n",
        "            nn.ReLU(),\n",
        "            # 8, 64\n",
        "            nn.ConvTranspose2d(16,output_shape[0],4, stride=2, padding=1),\n",
        "            nn.Tanh(),\n",
        "        )\n",
        "        self.learner_optim_params = nn.Parameter(torch.tensor([0.02, 0.5]), True)\n",
        "\n",
        "    def forward(self, ins):\n",
        "        # input is gaussian noise and \n",
        "        x = self.fcs(ins)\n",
        "        x = x.view(x.shape[0],-1,1,1)\n",
        "        x = self.transConv(x)\n",
        "        output = nn.Upsample(size=(32, 32), mode='bilinear')(x)\n",
        "        return output\n",
        "    @property\n",
        "    def device(self):\n",
        "        return next(self.parameters()).device"
      ],
      "metadata": {
        "id": "NfkuIx_5Fm_b"
      },
      "execution_count": 10,
      "outputs": []
    },
    {
      "cell_type": "code",
      "source": [
        "print(Teacher())"
      ],
      "metadata": {
        "colab": {
          "base_uri": "https://localhost:8080/"
        },
        "id": "6bi40YkAe36g",
        "outputId": "577bb5c3-5f3e-4432-b56e-af8420351eb1"
      },
      "execution_count": 11,
      "outputs": [
        {
          "output_type": "stream",
          "name": "stdout",
          "text": [
            "Teacher(\n",
            "  (fcs): Sequential(\n",
            "    (0): Linear(in_features=138, out_features=1024, bias=True)\n",
            "    (1): BatchNorm1d(1024, eps=1e-05, momentum=0.1, affine=True, track_running_stats=True)\n",
            "    (2): LeakyReLU(negative_slope=0.1)\n",
            "  )\n",
            "  (transConv): Sequential(\n",
            "    (0): ConvTranspose2d(1024, 512, kernel_size=(4, 4), stride=(2, 2), padding=(1, 1))\n",
            "    (1): LazyBatchNorm2d(0, eps=1e-05, momentum=0.1, affine=True, track_running_stats=True)\n",
            "    (2): ReLU()\n",
            "    (3): ConvTranspose2d(512, 256, kernel_size=(4, 4), stride=(2, 2), padding=(1, 1))\n",
            "    (4): LazyBatchNorm2d(0, eps=1e-05, momentum=0.1, affine=True, track_running_stats=True)\n",
            "    (5): ReLU()\n",
            "    (6): ConvTranspose2d(256, 128, kernel_size=(4, 4), stride=(2, 2), padding=(1, 1))\n",
            "    (7): LazyBatchNorm2d(0, eps=1e-05, momentum=0.1, affine=True, track_running_stats=True)\n",
            "    (8): ReLU()\n",
            "    (9): ConvTranspose2d(128, 32, kernel_size=(4, 4), stride=(2, 2), padding=(1, 1))\n",
            "    (10): LazyBatchNorm2d(0, eps=1e-05, momentum=0.1, affine=True, track_running_stats=True)\n",
            "    (11): ReLU()\n",
            "    (12): ConvTranspose2d(32, 16, kernel_size=(4, 4), stride=(2, 2), padding=(1, 1))\n",
            "    (13): LazyBatchNorm2d(0, eps=1e-05, momentum=0.1, affine=True, track_running_stats=True)\n",
            "    (14): ReLU()\n",
            "    (15): ConvTranspose2d(16, 3, kernel_size=(4, 4), stride=(2, 2), padding=(1, 1))\n",
            "    (16): Tanh()\n",
            "  )\n",
            ")\n"
          ]
        },
        {
          "output_type": "stream",
          "name": "stderr",
          "text": [
            "/usr/local/lib/python3.7/dist-packages/torch/nn/modules/lazy.py:178: UserWarning: Lazy modules are a new feature under heavy development so changes to the API or functionality can happen at any moment.\n",
            "  warnings.warn('Lazy modules are a new feature under heavy development '\n"
          ]
        }
      ]
    },
    {
      "cell_type": "code",
      "source": [
        "num_classes = 10\n",
        "def generate_noise(batch_size,z_dim):\n",
        "    z = torch.normal(mean=torch.zeros(batch_size,z_dim), std=torch.ones(batch_size,z_dim))\n",
        "    return z\n",
        "\n",
        "def generate_ins(batch_size, z_dim):\n",
        "    lab = torch.zeros(batch_size,num_classes)\n",
        "    label = torch.randint(10,(batch_size,1))\n",
        "    label_one_hot = torch.squeeze(F.one_hot(label, num_classes=10), dim=1)\n",
        "    noise = generate_noise(batch_size,z_dim)\n",
        "    ins = torch.cat([noise,label_one_hot],dim=1)\n",
        "    return ins, label_one_hot.float()"
      ],
      "metadata": {
        "id": "zzQmhPNvQcFZ"
      },
      "execution_count": 12,
      "outputs": []
    },
    {
      "cell_type": "code",
      "source": [
        "# test generator\n",
        "ins, label = generate_ins(2,128)\n",
        "\n",
        "teacher_model = Teacher(128)\n",
        "outs = teacher_model(ins)\n",
        "print(label.dtype)"
      ],
      "metadata": {
        "colab": {
          "base_uri": "https://localhost:8080/"
        },
        "id": "vNzERzYpRmF5",
        "outputId": "986e7ba1-1d97-4bd4-b7b0-5acf03ff08f2"
      },
      "execution_count": 13,
      "outputs": [
        {
          "output_type": "stream",
          "name": "stdout",
          "text": [
            "torch.float32\n"
          ]
        },
        {
          "output_type": "stream",
          "name": "stderr",
          "text": [
            "/usr/local/lib/python3.7/dist-packages/torch/nn/modules/lazy.py:178: UserWarning: Lazy modules are a new feature under heavy development so changes to the API or functionality can happen at any moment.\n",
            "  warnings.warn('Lazy modules are a new feature under heavy development '\n"
          ]
        }
      ]
    },
    {
      "cell_type": "code",
      "source": [
        "import matplotlib.pyplot as plt\n",
        "grid_img = torchvision.utils.make_grid(outs, nrow=1)\n",
        "plt.imshow(grid_img.permute(1, 2, 0))"
      ],
      "metadata": {
        "colab": {
          "base_uri": "https://localhost:8080/",
          "height": 304
        },
        "id": "E7rjMUvDUzUm",
        "outputId": "a2f07f60-ee58-4e19-f8b9-ca7485154505"
      },
      "execution_count": 14,
      "outputs": [
        {
          "output_type": "stream",
          "name": "stderr",
          "text": [
            "Clipping input data to the valid range for imshow with RGB data ([0..1] for floats or [0..255] for integers).\n"
          ]
        },
        {
          "output_type": "execute_result",
          "data": {
            "text/plain": [
              "<matplotlib.image.AxesImage at 0x7fb5b1d8cbd0>"
            ]
          },
          "metadata": {},
          "execution_count": 14
        },
        {
          "output_type": "display_data",
          "data": {
            "text/plain": [
              "<Figure size 432x288 with 1 Axes>"
            ],
            "image/png": "[encoded data removed]"
          },
          "metadata": {
            "needs_background": "light"
          }
        }
      ]
    },
    {
      "cell_type": "code",
      "source": [
        "# see if we can overfit the teacher to a single image\n",
        "import torch.optim as optim\n",
        "from tqdm import tqdm\n",
        "data = next(iter(cifar10_dm.train_dataloader()))\n",
        "data = data[0][0:2]\n",
        "#data = data.unsqueeze(0)\n",
        "criterion = nn.MSELoss() # just to see if everything works\n",
        "optimizer = optim.SGD(teacher_model.parameters(), lr=0.001, momentum=0.9)\n",
        "ins, _ = generate_ins(2,128)\n",
        "running_loss = 0\n",
        "epoch = 0\n",
        "for i in tqdm(range(1000)):\n",
        "    # get the inputs; data is a list of [inputs, labels]\n",
        "    inputs = data\n",
        "\n",
        "    # zero the parameter gradients\n",
        "    optimizer.zero_grad()\n",
        "\n",
        "    # forward + backward + optimize\n",
        "    outputs = teacher_model(ins)\n",
        "    loss = criterion(outputs, data)\n",
        "    loss.backward()\n",
        "    optimizer.step()\n",
        "\n",
        "    # print statistics\n",
        "    running_loss += loss.item()"
      ],
      "metadata": {
        "colab": {
          "base_uri": "https://localhost:8080/"
        },
        "id": "7qNJB8ECVpvF",
        "outputId": "4bba32d2-bdfb-406a-dffa-6f1fd945fcb2"
      },
      "execution_count": 15,
      "outputs": [
        {
          "output_type": "stream",
          "name": "stderr",
          "text": [
            "100%|██████████| 1000/1000 [00:53<00:00, 18.66it/s]\n"
          ]
        }
      ]
    },
    {
      "cell_type": "code",
      "source": [
        "grid_img = torchvision.utils.make_grid(torch.cat([teacher_model(ins),data]), nrow=2)\n",
        "plt.imshow(grid_img.permute(1, 2, 0))"
      ],
      "metadata": {
        "colab": {
          "base_uri": "https://localhost:8080/",
          "height": 304
        },
        "id": "xVjbUvY9fUb1",
        "outputId": "e0ebc6dd-d253-4baa-f86a-a8cbe5601a7d"
      },
      "execution_count": 16,
      "outputs": [
        {
          "output_type": "stream",
          "name": "stderr",
          "text": [
            "Clipping input data to the valid range for imshow with RGB data ([0..1] for floats or [0..255] for integers).\n"
          ]
        },
        {
          "output_type": "execute_result",
          "data": {
            "text/plain": [
              "<matplotlib.image.AxesImage at 0x7fb5b17bc390>"
            ]
          },
          "metadata": {},
          "execution_count": 16
        },
        {
          "output_type": "display_data",
          "data": {
            "text/plain": [
              "<Figure size 432x288 with 1 Axes>"
            ],
            "image/png": "[encoded data removed]"
          },
          "metadata": {
            "needs_background": "light"
          }
        }
      ]
    },
    {
      "cell_type": "markdown",
      "source": [
        "Okay, the teacher model can learn. Debugging successful!"
      ],
      "metadata": {
        "id": "sZNNeH63h3EL"
      }
    },
    {
      "cell_type": "markdown",
      "source": [
        "#Learner\n",
        "The learner is the same model as the previous standard resnet-18."
      ],
      "metadata": {
        "id": "9bpDUGE3iUyq"
      }
    },
    {
      "cell_type": "code",
      "source": [
        "# for meta optimization\n",
        "import sys\n",
        "if 'higher' not in sys.modules:\n",
        "  !pip install higher\n",
        "import higher as higher"
      ],
      "metadata": {
        "colab": {
          "base_uri": "https://localhost:8080/"
        },
        "id": "BjueDXQgbYU9",
        "outputId": "cf105fd1-17f2-4728-fad8-37cbf8e94142"
      },
      "execution_count": 17,
      "outputs": [
        {
          "output_type": "stream",
          "name": "stdout",
          "text": [
            "Looking in indexes: https://pypi.org/simple, https://us-python.pkg.dev/colab-wheels/public/simple/\n",
            "Requirement already satisfied: higher in /usr/local/lib/python3.7/dist-packages (0.2.1)\n",
            "Requirement already satisfied: torch in /usr/local/lib/python3.7/dist-packages (from higher) (1.11.0+cu113)\n",
            "Requirement already satisfied: typing-extensions in /usr/local/lib/python3.7/dist-packages (from torch->higher) (4.2.0)\n"
          ]
        }
      ]
    },
    {
      "cell_type": "code",
      "source": [
        "class Learner(nn.Module):\n",
        "    def __init__(self):\n",
        "        super().__init__()\n",
        "        self.learner = create_model()\n",
        "    def forward(self,x):\n",
        "        return self.learner(x)"
      ],
      "metadata": {
        "id": "rMKrxrKEFpVj"
      },
      "execution_count": 18,
      "outputs": []
    },
    {
      "cell_type": "markdown",
      "source": [
        "\n",
        "The inner loop loss:\n",
        "\n",
        "![inner_loss.png](data:image/png;base64,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)"
      ],
      "metadata": {
        "id": "e9SKfCBevu54"
      }
    },
    {
      "cell_type": "code",
      "source": [
        "def apply_weight_norm(m):\n",
        "    if type(m) == nn.ConvTranspose2d or type(m) == nn.Conv2d or type(m) == nn.LazyLinear or type(m) == nn.Linear:\n",
        "        nn.utils.weight_norm(m)\n",
        "ler = Learner()\n",
        "ler.apply(apply_weight_norm)\n",
        "print(ler.learner.conv1.weight_g.size())\n"
      ],
      "metadata": {
        "colab": {
          "base_uri": "https://localhost:8080/"
        },
        "id": "23Mmr-O3Ed1f",
        "outputId": "af8fa339-bb6b-499c-e67c-ba005a55ba0b"
      },
      "execution_count": 19,
      "outputs": [
        {
          "output_type": "stream",
          "name": "stdout",
          "text": [
            "torch.Size([64, 1, 1, 1])\n"
          ]
        }
      ]
    },
    {
      "cell_type": "code",
      "source": [
        "class GTN(LightningModule):\n",
        "    def __init__(self, latent_dim: int = 128,inner_loop_steps:int=5, lr: float = 0.01):\n",
        "        super().__init__()\n",
        "        self.save_hyperparameters()\n",
        "        self.teacher = Teacher(z_dim=self.hparams.latent_dim,num_classes=10)\n",
        "        self.learner = Learner()\n",
        "        \n",
        "        self.hparams.inner_loop_steps = inner_loop_steps\n",
        "        self.inner_loss_criterion =  nn.CrossEntropyLoss()\n",
        "        self.outer_loss_criterion =  nn.CrossEntropyLoss()\n",
        "\n",
        "        # Important: This property activates manual optimization.\n",
        "        self.automatic_optimization = False\n",
        "        self.learning_rate = self.hparams.lr\n",
        "        \n",
        "        self.learner_optim_params = nn.Parameter(torch.tensor([0.02, 0.5]), True)\n",
        "\n",
        "    def forward(self,image):\n",
        "        return self.learner(image)\n",
        "\n",
        "    def inner_loss(self, y_pred, y_gt):\n",
        "        return self.inner_loss_criterion(y_pred,y_gt)\n",
        "        \n",
        "    def outer_loss(self, y_pred, y_gt):\n",
        "        return self.outer_loss_criterion(y_pred,y_gt)\n",
        "\n",
        "    def inner_loop(self,device,mode,inner_optim, flearner, diffopt):\n",
        "         # sample noise\n",
        "        # z also contains the one hot encoded labels!\n",
        "        z, y_gt = generate_ins(BATCH_SIZE,self.hparams.latent_dim) #add argument for lables to be stable\n",
        "        z.to(device)\n",
        "        y_gt.to(device)\n",
        "        generated_images = self.teacher(z)\n",
        "        #y_pred = self.learner(self.generated_images)\n",
        "        y_pred = flearner(self.generated_images)\n",
        "        loss = self.inner_loss(y_pred,y_gt)\n",
        "        diffopt.step(loss)\n",
        "\n",
        "        sample_imgs = generated_images[:6].cpu()\n",
        "        grid = torchvision.utils.make_grid(sample_imgs)\n",
        "        self.logger.experiment.add_image(\"generated_images\", grid, 0)\n",
        "        self.log(\"%_loss_inner\" % mode, loss)\n",
        "        return flearner, diffopt\n",
        "\n",
        "\n",
        "    def outer_loop(self,batch, mode=\"train\"):\n",
        "        device = batch[0].device\n",
        "        # is this necessary?\n",
        "        self.teacher.train()\n",
        "        self.optimizer_teacher.zero_grad()\n",
        "\n",
        "        inner_optim = optim.SGD(self.learner.parameters(), lr= 0.02, momentum=0.9) # self.learner_lr.item(), momentum=self.learner_momentum.item())\n",
        "        self.learner.train()\n",
        "        with higher.innerloop_ctx(self.learner, inner_optim, override={'lr': [self.learner_lr], 'momentum': [self.learner_momentum]}) as (flearner, diffopt):\n",
        "            for i in range(self.hparams.inner_loop_steps):\n",
        "                #self.inner_loop(device,mode,inner_optim,flearner, diffopt)\n",
        "                z, y_gt = generate_ins(BATCH_SIZE,self.hparams.latent_dim) #add argument for lables to be stable\n",
        "                z = z.to(device)\n",
        "                y_gt = y_gt.to(device)\n",
        "                #print(z.device)\n",
        "                #print(y_gt.device)\n",
        "                #print(self.teacher.device)\n",
        "                generated_images = self.teacher(z)\n",
        "                #print(\"----------\")\n",
        "                #y_pred = self.learner(self.generated_images)\n",
        "                y_pred = flearner(generated_images)\n",
        "                #print(y_pred.get_device())\n",
        "                loss = self.inner_loss(y_pred,y_gt)\n",
        "                diffopt.step(loss)\n",
        "\n",
        "                sample_imgs = generated_images[:6].cpu()\n",
        "                grid = torchvision.utils.make_grid(sample_imgs)\n",
        "                #self.logger.experiment.add_image(\"generated_images\", grid, 0)\n",
        "                self.log(\"train_loss_inner \", loss, prog_bar=True, logger=True)\n",
        "            # now on real data\n",
        "            real_images, target = batch\n",
        "            y_pred_real = flearner(real_images)# is this the same flearner as previous?\n",
        "            loss = self.outer_loss(y_pred_real, target)\n",
        "            self.log(\"train_loss_outer\", loss, prog_bar=True, logger=True)\n",
        "            loss.backward()\n",
        "\n",
        "        #print(self.optimizer_teacher.device)\n",
        "        self.optimizer_teacher.step()\n",
        "        #print(\"lr: new\", self.learner_lr.item())\n",
        "        #self.learner_lr = torch.max(self.learner_lr, torch.tensor(0.0005))\n",
        "\n",
        "    def training_step(self, batch, batch_idx):\n",
        "        # manual optimiziers https://pytorch-lightning.readthedocs.io/en/latest/common/optimization.html\n",
        "        #g_opt, d_opt = self.optimizers()\n",
        "        self.outer_loop(batch)\n",
        "        #print(\"Finished Training step\")\n",
        "        return None\n",
        "\n",
        "    def configure_optimizers(self):\n",
        "        #lr = self.learning_rate\n",
        "        #opt_teacher = torch.optim.SGD(self.teacher.parameters(), lr=lr)\n",
        "        #opt_learner = torch.optim.SGD(self.learner.parameters(), lr=lr)\n",
        "        self.optimizer_teacher = optim.Adam(self.teacher.parameters(), lr=self.learning_rate)\n",
        "        self.learner_lr = self.teacher.learner_optim_params[0]\n",
        "        self.learner_momentum = self.teacher.learner_optim_params[1]\n",
        "        return None\n",
        "     \n",
        "    def evaluate(self, batch, stage=None):\n",
        "        x, y = batch\n",
        "        logits = self.learner(x)\n",
        "        loss = F.nll_loss(logits, y)\n",
        "        preds = torch.argmax(logits, dim=1)\n",
        "        acc = accuracy(preds, y)\n",
        "        if stage:\n",
        "            self.log(f\"{stage}_loss\", loss, prog_bar=True, logger=True)\n",
        "            self.log(f\"{stage}_acc\", acc, prog_bar=True, logger=True)\n",
        "\n",
        "    def validation_step(self, batch, batch_idx):\n",
        "        self.evaluate(batch, \"val\")\n",
        "\n",
        "    def test_step(self, batch, batch_idx):\n",
        "        self.evaluate(batch, \"test\")\n"
      ],
      "metadata": {
        "id": "LUCCzXjfFS4w"
      },
      "execution_count": 20,
      "outputs": []
    },
    {
      "cell_type": "code",
      "source": [
        "import pytorch_lightning as pl"
      ],
      "metadata": {
        "id": "G0MJOEs2bi9J"
      },
      "execution_count": 21,
      "outputs": []
    },
    {
      "cell_type": "code",
      "source": [
        "run = wandb.init(project=\"GTN\", entity=\"skylab\", reinit=True)\n"
      ],
      "metadata": {
        "colab": {
          "base_uri": "https://localhost:8080/",
          "height": 70
        },
        "id": "71m29g5naNgb",
        "outputId": "8a0a0a84-00a3-4ae5-f8f0-7f176a8ffb55"
      },
      "execution_count": 22,
      "outputs": [
        {
          "output_type": "display_data",
          "data": {
            "text/plain": [
              "<IPython.core.display.HTML object>"
            ],
            "text/html": [
              "Tracking run with wandb version 0.12.16"
            ]
          },
          "metadata": {}
        },
        {
          "output_type": "display_data",
          "data": {
            "text/plain": [
              "<IPython.core.display.HTML object>"
            ],
            "text/html": [
              "Run data is saved locally in <code>/content/wandb/run-20220524_104737-2cq1avij</code>"
            ]
          },
          "metadata": {}
        },
        {
          "output_type": "display_data",
          "data": {
            "text/plain": [
              "<IPython.core.display.HTML object>"
            ],
            "text/html": [
              "Syncing run <strong><a href=\"https://wandb.ai/skylab/GTN/runs/2cq1avij\" target=\"_blank\">spring-music-11</a></strong> to <a href=\"https://wandb.ai/skylab/GTN\" target=\"_blank\">Weights & Biases</a> (<a href=\"https://wandb.me/run\" target=\"_blank\">docs</a>)<br/>"
            ]
          },
          "metadata": {}
        }
      ]
    },
    {
      "cell_type": "code",
      "source": [
        "!nvidia-smi"
      ],
      "metadata": {
        "colab": {
          "base_uri": "https://localhost:8080/"
        },
        "id": "hOGxPutNrpvK",
        "outputId": "c6d6a1ec-1c83-4068-8539-1592da5d9b97"
      },
      "execution_count": 25,
      "outputs": [
        {
          "output_type": "stream",
          "name": "stdout",
          "text": [
            "Tue May 24 10:48:29 2022       \n",
            "+-----------------------------------------------------------------------------+\n",
            "| NVIDIA-SMI 460.32.03    Driver Version: 460.32.03    CUDA Version: 11.2     |\n",
            "|-------------------------------+----------------------+----------------------+\n",
            "| GPU  Name        Persistence-M| Bus-Id        Disp.A | Volatile Uncorr. ECC |\n",
            "| Fan  Temp  Perf  Pwr:Usage/Cap|         Memory-Usage | GPU-Util  Compute M. |\n",
            "|                               |                      |               MIG M. |\n",
            "|===============================+======================+======================|\n",
            "|   0  Tesla P100-PCIE...  Off  | 00000000:00:04.0 Off |                    0 |\n",
            "| N/A   41C    P0    37W / 250W |  16245MiB / 16280MiB |      0%      Default |\n",
            "|                               |                      |                  N/A |\n",
            "+-------------------------------+----------------------+----------------------+\n",
            "                                                                               \n",
            "+-----------------------------------------------------------------------------+\n",
            "| Processes:                                                                  |\n",
            "|  GPU   GI   CI        PID   Type   Process name                  GPU Memory |\n",
            "|        ID   ID                                                   Usage      |\n",
            "|=============================================================================|\n",
            "+-----------------------------------------------------------------------------+\n"
          ]
        }
      ]
    },
    {
      "cell_type": "code",
      "source": [
        "pl.seed_everything(42)\n",
        "wandb_logger = WandbLogger()\n",
        "\n",
        "model = GTN(lr=0.02,inner_loop_steps= 8)\n",
        "model.datamodule = cifar10_dm\n",
        "trainer = Trainer(accelerator=\"cpu\",\n",
        "                     max_epochs=2,\n",
        "                    logger=wandb_logger,    # W&B integration\n",
        "                    log_every_n_steps=10,   # set the logging frequency\n",
        "                    )\n",
        "trainer.fit(model, cifar10_dm)\n",
        "trainer.test(model, datamodule=cifar10_dm)"
      ],
      "metadata": {
        "id": "i2EQ_pxSt9Z8",
        "colab": {
          "base_uri": "https://localhost:8080/",
          "height": 871,
          "referenced_widgets": [
            "b1a548e3ab1e40399122230dfc22f2db",
            "2142b22a81d046cb93ec2e4eb03cacaa",
            "1a5ab006c4d04b7990d5de372abfb14e",
            "933aadbbae55434189f5e5452c94cd28",
            "7599c15fb05848cc9683a3e3ba9c0def",
            "c4876ba9e43a45afb4a7258ed556c964",
            "11257c7349d845e0900cc2d3777c9e6a",
            "6c9bb9a01a804cd7b150b4011c6d2961",
            "c2c484e428a94d1a87b9898027d256f9",
            "975c6968832240caab839ab7e679ed85",
            "319f86e7f534442bb2594942b5f4f01f",
            "672dcd4d1cd04462831f6c22ac49b9d5",
            "a445c5706dee4eaba540300b0dc5fa07",
            "619760e1679048e98a7e626b3816b6c0",
            "f269763b75414b9d8f5709c7fd70e5cc",
            "8b3c5ef0c7d14687b060f95e2619dae3",
            "e57660fce09b45d788f79d21938b9710",
            "d4bd5eb8b8774108b981fe1a510fdd9d",
            "2421b6b3cdd04315a60ca4b4aed948f7",
            "08f982f4838b4eca849f16661f297ec8",
            "357d54fe2c7b4993bf92874adcbb92cd",
            "3a46879b4937400c8b2952a4ede990ad",
            "7dcb674067eb4687b9461e1779b455d1",
            "46fdbf7de2e4493fa3596c622c4cdcb0",
            "868bb5e627d34f09a42f927bfc351d43",
            "cd6355ea5f084480b8adc31e8835e8ae",
            "f9897df670814a2fa38876ee22a88c4a",
            "ed0af6816b124b6e89e65dcc72e8f306",
            "570a39fb7d444e1e8be39b432a133dae",
            "85e60df9dd2141bd97cb23a8b8333ddf",
            "b23d9b97a3ea4d29800510cd846c683f",
            "2c18bb56a51748b38a75093a1ca2390e",
            "199d00f60ece4a3e8744b943a2bafe74"
          ]
        },
        "outputId": "9de2ae6e-1e2c-412c-eafd-e86ed7c8a86f"
      },
      "execution_count": null,
      "outputs": [
        {
          "output_type": "stream",
          "name": "stderr",
          "text": [
            "Global seed set to 42\n",
            "/usr/local/lib/python3.7/dist-packages/pytorch_lightning/loggers/wandb.py:348: UserWarning: There is a wandb run already in progress and newly created instances of `WandbLogger` will reuse this run. If this is not desired, call `wandb.finish()` before instantiating `WandbLogger`.\n",
            "  \"There is a wandb run already in progress and newly created instances of `WandbLogger` will reuse\"\n",
            "/usr/local/lib/python3.7/dist-packages/torch/nn/modules/lazy.py:178: UserWarning: Lazy modules are a new feature under heavy development so changes to the API or functionality can happen at any moment.\n",
            "  warnings.warn('Lazy modules are a new feature under heavy development '\n",
            "GPU available: True, used: False\n",
            "TPU available: False, using: 0 TPU cores\n",
            "IPU available: False, using: 0 IPUs\n",
            "HPU available: False, using: 0 HPUs\n",
            "/usr/local/lib/python3.7/dist-packages/pytorch_lightning/trainer/trainer.py:1815: PossibleUserWarning: GPU available but not used. Set `accelerator` and `devices` using `Trainer(accelerator='gpu', devices=1)`.\n",
            "  category=PossibleUserWarning,\n"
          ]
        },
        {
          "output_type": "stream",
          "name": "stdout",
          "text": [
            "Files already downloaded and verified\n",
            "Files already downloaded and verified\n"
          ]
        },
        {
          "output_type": "stream",
          "name": "stderr",
          "text": [
            "/usr/local/lib/python3.7/dist-packages/pytorch_lightning/core/datamodule.py:89: LightningDeprecationWarning: DataModule property `train_transforms` was deprecated in v1.5 and will be removed in v1.7.\n",
            "  \"DataModule property `train_transforms` was deprecated in v1.5 and will be removed in v1.7.\"\n",
            "/usr/local/lib/python3.7/dist-packages/pytorch_lightning/core/datamodule.py:108: LightningDeprecationWarning: DataModule property `val_transforms` was deprecated in v1.5 and will be removed in v1.7.\n",
            "  \"DataModule property `val_transforms` was deprecated in v1.5 and will be removed in v1.7.\"\n",
            "/usr/local/lib/python3.7/dist-packages/pytorch_lightning/core/optimizer.py:184: UserWarning: `LightningModule.configure_optimizers` returned `None`, this fit will run with no optimizer\n",
            "  \"`LightningModule.configure_optimizers` returned `None`, this fit will run with no optimizer\",\n",
            "\n",
            "  | Name                 | Type             | Params\n",
            "----------------------------------------------------------\n",
            "0 | teacher              | Teacher          | 11.2 M\n",
            "1 | learner              | Learner          | 11.2 M\n",
            "2 | inner_loss_criterion | CrossEntropyLoss | 0     \n",
            "3 | outer_loss_criterion | CrossEntropyLoss | 0     \n",
            "----------------------------------------------------------\n",
            "22.4 M    Trainable params\n",
            "0         Non-trainable params\n",
            "22.4 M    Total params\n",
            "89.615    Total estimated model params size (MB)\n"
          ]
        },
        {
          "output_type": "display_data",
          "data": {
            "text/plain": [
              "Sanity Checking: 0it [00:00, ?it/s]"
            ],
            "application/vnd.jupyter.widget-view+json": {
              "version_major": 2,
              "version_minor": 0,
              "model_id": "b1a548e3ab1e40399122230dfc22f2db"
            }
          },
          "metadata": {}
        },
        {
          "output_type": "stream",
          "name": "stderr",
          "text": [
            "/usr/local/lib/python3.7/dist-packages/pytorch_lightning/trainer/connectors/data_connector.py:245: PossibleUserWarning: The dataloader, val_dataloader 0, does not have many workers which may be a bottleneck. Consider increasing the value of the `num_workers` argument` (try 4 which is the number of cpus on this machine) in the `DataLoader` init to improve performance.\n",
            "  category=PossibleUserWarning,\n",
            "/usr/local/lib/python3.7/dist-packages/pytorch_lightning/trainer/connectors/data_connector.py:245: PossibleUserWarning: The dataloader, train_dataloader, does not have many workers which may be a bottleneck. Consider increasing the value of the `num_workers` argument` (try 4 which is the number of cpus on this machine) in the `DataLoader` init to improve performance.\n",
            "  category=PossibleUserWarning,\n"
          ]
        },
        {
          "output_type": "display_data",
          "data": {
            "text/plain": [
              "Training: 0it [00:00, ?it/s]"
            ],
            "application/vnd.jupyter.widget-view+json": {
              "version_major": 2,
              "version_minor": 0,
              "model_id": "672dcd4d1cd04462831f6c22ac49b9d5"
            }
          },
          "metadata": {}
        },
        {
          "output_type": "stream",
          "name": "stderr",
          "text": [
            "/usr/local/lib/python3.7/dist-packages/pytorch_lightning/trainer/trainer.py:724: UserWarning: Detected KeyboardInterrupt, attempting graceful shutdown...\n",
            "  rank_zero_warn(\"Detected KeyboardInterrupt, attempting graceful shutdown...\")\n"
          ]
        },
        {
          "output_type": "stream",
          "name": "stdout",
          "text": [
            "Files already downloaded and verified\n",
            "Files already downloaded and verified\n"
          ]
        },
        {
          "output_type": "stream",
          "name": "stderr",
          "text": [
            "/usr/local/lib/python3.7/dist-packages/pytorch_lightning/core/datamodule.py:127: LightningDeprecationWarning: DataModule property `test_transforms` was deprecated in v1.5 and will be removed in v1.7.\n",
            "  \"DataModule property `test_transforms` was deprecated in v1.5 and will be removed in v1.7.\"\n",
            "/usr/local/lib/python3.7/dist-packages/pytorch_lightning/trainer/connectors/data_connector.py:245: PossibleUserWarning: The dataloader, test_dataloader 0, does not have many workers which may be a bottleneck. Consider increasing the value of the `num_workers` argument` (try 4 which is the number of cpus on this machine) in the `DataLoader` init to improve performance.\n",
            "  category=PossibleUserWarning,\n"
          ]
        },
        {
          "output_type": "display_data",
          "data": {
            "text/plain": [
              "Testing: 0it [00:00, ?it/s]"
            ],
            "application/vnd.jupyter.widget-view+json": {
              "version_major": 2,
              "version_minor": 0,
              "model_id": "7dcb674067eb4687b9461e1779b455d1"
            }
          },
          "metadata": {}
        }
      ]
    },
    {
      "cell_type": "code",
      "source": [
        "run.finish()"
      ],
      "metadata": {
        "colab": {
          "base_uri": "https://localhost:8080/",
          "height": 278,
          "referenced_widgets": [
            "46cb4addb00342e4bd6dab6e1e9123cb",
            "b65980eef0a34bb386ba8cf7b01ba72e",
            "c5c08b2fa1444289a79670a3da876255",
            "3e65e79106354b3ea842de005cecba8b",
            "8c8b6ef110a149578d9f25d699b363ea",
            "73ec9d96879140c9bc2954ac4485e7aa",
            "4363bb10f766475a972c3a956e48869c",
            "4ac045ef552d4fe5b3d5ac31f0ef143a"
          ]
        },
        "id": "GijrgdP9aOHs",
        "outputId": "889ef53e-4f89-4144-d576-065b5fbe50a6"
      },
      "execution_count": 27,
      "outputs": [
        {
          "output_type": "display_data",
          "data": {
            "text/plain": [
              "<IPython.core.display.HTML object>"
            ],
            "text/html": [
              "Waiting for W&B process to finish... <strong style=\"color:green\">(success).</strong>"
            ]
          },
          "metadata": {}
        },
        {
          "output_type": "display_data",
          "data": {
            "text/plain": [
              "VBox(children=(Label(value='0.001 MB of 0.001 MB uploaded (0.000 MB deduped)\\r'), FloatProgress(value=1.0, max…"
            ],
            "application/vnd.jupyter.widget-view+json": {
              "version_major": 2,
              "version_minor": 0,
              "model_id": "46cb4addb00342e4bd6dab6e1e9123cb"
            }
          },
          "metadata": {}
        },
        {
          "output_type": "display_data",
          "data": {
            "text/plain": [
              "<IPython.core.display.HTML object>"
            ],
            "text/html": [
              "<style>\n",
              "    table.wandb td:nth-child(1) { padding: 0 10px; text-align: left ; width: auto;} td:nth-child(2) {text-align: left ; width: 100%}\n",
              "    .wandb-row { display: flex; flex-direction: row; flex-wrap: wrap; justify-content: flex-start; width: 100% }\n",
              "    .wandb-col { display: flex; flex-direction: column; flex-basis: 100%; flex: 1; padding: 10px; }\n",
              "    </style>\n",
              "<div class=\"wandb-row\"><div class=\"wandb-col\"><h3>Run history:</h3><br/><table class=\"wandb\"><tr><td>epoch</td><td>▁▁</td></tr><tr><td>test_acc</td><td>▁</td></tr><tr><td>test_loss</td><td>▁</td></tr><tr><td>train_loss_inner </td><td>▁</td></tr><tr><td>train_loss_outer</td><td>▁</td></tr><tr><td>trainer/global_step</td><td>▁█</td></tr></table><br/></div><div class=\"wandb-col\"><h3>Run summary:</h3><br/><table class=\"wandb\"><tr><td>epoch</td><td>0</td></tr><tr><td>test_acc</td><td>0.1</td></tr><tr><td>test_loss</td><td>-0.28241</td></tr><tr><td>train_loss_inner </td><td>2.33991</td></tr><tr><td>train_loss_outer</td><td>2.30528</td></tr><tr><td>trainer/global_step</td><td>18</td></tr></table><br/></div></div>"
            ]
          },
          "metadata": {}
        },
        {
          "output_type": "display_data",
          "data": {
            "text/plain": [
              "<IPython.core.display.HTML object>"
            ],
            "text/html": [
              "Synced <strong style=\"color:#cdcd00\">good-universe-9</strong>: <a href=\"https://wandb.ai/skylab/GTN/runs/2xaf1fzo\" target=\"_blank\">https://wandb.ai/skylab/GTN/runs/2xaf1fzo</a><br/>Synced 5 W&B file(s), 0 media file(s), 0 artifact file(s) and 0 other file(s)"
            ]
          },
          "metadata": {}
        },
        {
          "output_type": "display_data",
          "data": {
            "text/plain": [
              "<IPython.core.display.HTML object>"
            ],
            "text/html": [
              "Find logs at: <code>./wandb/run-20220524_102909-2xaf1fzo/logs</code>"
            ]
          },
          "metadata": {}
        }
      ]
    },
    {
      "cell_type": "code",
      "source": [
        "wandb.finish()"
      ],
      "metadata": {
        "id": "gP8llnS5c2zd",
        "colab": {
          "base_uri": "https://localhost:8080/",
          "height": 319
        },
        "outputId": "e11f0a2d-416e-4a80-a7a8-d2a3d52f7360"
      },
      "execution_count": 67,
      "outputs": [
        {
          "output_type": "error",
          "ename": "Exception",
          "evalue": "ignored",
          "traceback": [
            "\u001b[0;31m---------------------------------------------------------------------------\u001b[0m",
            "\u001b[0;31mException\u001b[0m                                 Traceback (most recent call last)",
            "\u001b[0;32m<ipython-input-67-a2bce46dc485>\u001b[0m in \u001b[0;36m<module>\u001b[0;34m()\u001b[0m\n\u001b[0;32m----> 1\u001b[0;31m \u001b[0mwandb\u001b[0m\u001b[0;34m.\u001b[0m\u001b[0mfinish\u001b[0m\u001b[0;34m(\u001b[0m\u001b[0;34m)\u001b[0m\u001b[0;34m\u001b[0m\u001b[0;34m\u001b[0m\u001b[0m\n\u001b[0m",
            "\u001b[0;32m/usr/local/lib/python3.7/dist-packages/wandb/sdk/wandb_run.py\u001b[0m in \u001b[0;36mfinish\u001b[0;34m(exit_code, quiet)\u001b[0m\n\u001b[1;32m   3322\u001b[0m     \"\"\"\n\u001b[1;32m   3323\u001b[0m     \u001b[0;32mif\u001b[0m \u001b[0mwandb\u001b[0m\u001b[0;34m.\u001b[0m\u001b[0mrun\u001b[0m\u001b[0;34m:\u001b[0m\u001b[0;34m\u001b[0m\u001b[0;34m\u001b[0m\u001b[0m\n\u001b[0;32m-> 3324\u001b[0;31m         \u001b[0mwandb\u001b[0m\u001b[0;34m.\u001b[0m\u001b[0mrun\u001b[0m\u001b[0;34m.\u001b[0m\u001b[0mfinish\u001b[0m\u001b[0;34m(\u001b[0m\u001b[0mexit_code\u001b[0m\u001b[0;34m=\u001b[0m\u001b[0mexit_code\u001b[0m\u001b[0;34m,\u001b[0m \u001b[0mquiet\u001b[0m\u001b[0;34m=\u001b[0m\u001b[0mquiet\u001b[0m\u001b[0;34m)\u001b[0m\u001b[0;34m\u001b[0m\u001b[0;34m\u001b[0m\u001b[0m\n\u001b[0m\u001b[1;32m   3325\u001b[0m \u001b[0;34m\u001b[0m\u001b[0m\n\u001b[1;32m   3326\u001b[0m \u001b[0;34m\u001b[0m\u001b[0m\n",
            "\u001b[0;32m/usr/local/lib/python3.7/dist-packages/wandb/sdk/wandb_run.py\u001b[0m in \u001b[0;36mwrapper\u001b[0;34m(self, *args, **kwargs)\u001b[0m\n\u001b[1;32m    254\u001b[0m                     \u001b[0;32mreturn\u001b[0m \u001b[0mcls\u001b[0m\u001b[0;34m.\u001b[0m\u001b[0mDummy\u001b[0m\u001b[0;34m(\u001b[0m\u001b[0;34m)\u001b[0m\u001b[0;34m\u001b[0m\u001b[0;34m\u001b[0m\u001b[0m\n\u001b[1;32m    255\u001b[0m \u001b[0;34m\u001b[0m\u001b[0m\n\u001b[0;32m--> 256\u001b[0;31m             \u001b[0;32mreturn\u001b[0m \u001b[0mfunc\u001b[0m\u001b[0;34m(\u001b[0m\u001b[0mself\u001b[0m\u001b[0;34m,\u001b[0m \u001b[0;34m*\u001b[0m\u001b[0margs\u001b[0m\u001b[0;34m,\u001b[0m \u001b[0;34m**\u001b[0m\u001b[0mkwargs\u001b[0m\u001b[0;34m)\u001b[0m\u001b[0;34m\u001b[0m\u001b[0;34m\u001b[0m\u001b[0m\n\u001b[0m\u001b[1;32m    257\u001b[0m \u001b[0;34m\u001b[0m\u001b[0m\n\u001b[1;32m    258\u001b[0m         \u001b[0;32mreturn\u001b[0m \u001b[0mwrapper\u001b[0m\u001b[0;34m\u001b[0m\u001b[0;34m\u001b[0m\u001b[0m\n",
            "\u001b[0;32m/usr/local/lib/python3.7/dist-packages/wandb/sdk/wandb_run.py\u001b[0m in \u001b[0;36mwrapper\u001b[0;34m(self, *args, **kwargs)\u001b[0m\n\u001b[1;32m    220\u001b[0m                     \u001b[0;32mraise\u001b[0m \u001b[0me\u001b[0m\u001b[0;34m\u001b[0m\u001b[0;34m\u001b[0m\u001b[0m\n\u001b[1;32m    221\u001b[0m                 \u001b[0mcls\u001b[0m\u001b[0;34m.\u001b[0m\u001b[0m_is_attaching\u001b[0m \u001b[0;34m=\u001b[0m \u001b[0;34m\"\"\u001b[0m\u001b[0;34m\u001b[0m\u001b[0;34m\u001b[0m\u001b[0m\n\u001b[0;32m--> 222\u001b[0;31m             \u001b[0;32mreturn\u001b[0m \u001b[0mfunc\u001b[0m\u001b[0;34m(\u001b[0m\u001b[0mself\u001b[0m\u001b[0;34m,\u001b[0m \u001b[0;34m*\u001b[0m\u001b[0margs\u001b[0m\u001b[0;34m,\u001b[0m \u001b[0;34m**\u001b[0m\u001b[0mkwargs\u001b[0m\u001b[0;34m)\u001b[0m\u001b[0;34m\u001b[0m\u001b[0;34m\u001b[0m\u001b[0m\n\u001b[0m\u001b[1;32m    223\u001b[0m \u001b[0;34m\u001b[0m\u001b[0m\n\u001b[1;32m    224\u001b[0m         \u001b[0;32mreturn\u001b[0m \u001b[0mwrapper\u001b[0m\u001b[0;34m\u001b[0m\u001b[0;34m\u001b[0m\u001b[0m\n",
            "\u001b[0;32m/usr/local/lib/python3.7/dist-packages/wandb/sdk/wandb_run.py\u001b[0m in \u001b[0;36mfinish\u001b[0;34m(self, exit_code, quiet)\u001b[0m\n\u001b[1;32m   1676\u001b[0m             \u001b[0mquiet\u001b[0m\u001b[0;34m:\u001b[0m \u001b[0mSet\u001b[0m \u001b[0mto\u001b[0m \u001b[0mtrue\u001b[0m \u001b[0mto\u001b[0m \u001b[0mminimize\u001b[0m \u001b[0mlog\u001b[0m \u001b[0moutput\u001b[0m\u001b[0;34m\u001b[0m\u001b[0;34m\u001b[0m\u001b[0m\n\u001b[1;32m   1677\u001b[0m         \"\"\"\n\u001b[0;32m-> 1678\u001b[0;31m         \u001b[0;32mreturn\u001b[0m \u001b[0mself\u001b[0m\u001b[0;34m.\u001b[0m\u001b[0m_finish\u001b[0m\u001b[0;34m(\u001b[0m\u001b[0mexit_code\u001b[0m\u001b[0;34m,\u001b[0m \u001b[0mquiet\u001b[0m\u001b[0;34m)\u001b[0m\u001b[0;34m\u001b[0m\u001b[0;34m\u001b[0m\u001b[0m\n\u001b[0m\u001b[1;32m   1679\u001b[0m \u001b[0;34m\u001b[0m\u001b[0m\n\u001b[1;32m   1680\u001b[0m     \u001b[0;32mdef\u001b[0m \u001b[0m_finish\u001b[0m\u001b[0;34m(\u001b[0m\u001b[0mself\u001b[0m\u001b[0;34m,\u001b[0m \u001b[0mexit_code\u001b[0m\u001b[0;34m:\u001b[0m \u001b[0mint\u001b[0m \u001b[0;34m=\u001b[0m \u001b[0;32mNone\u001b[0m\u001b[0;34m,\u001b[0m \u001b[0mquiet\u001b[0m\u001b[0;34m:\u001b[0m \u001b[0mOptional\u001b[0m\u001b[0;34m[\u001b[0m\u001b[0mbool\u001b[0m\u001b[0;34m]\u001b[0m \u001b[0;34m=\u001b[0m \u001b[0;32mNone\u001b[0m\u001b[0;34m)\u001b[0m \u001b[0;34m->\u001b[0m \u001b[0;32mNone\u001b[0m\u001b[0;34m:\u001b[0m\u001b[0;34m\u001b[0m\u001b[0;34m\u001b[0m\u001b[0m\n",
            "\u001b[0;32m/usr/local/lib/python3.7/dist-packages/wandb/sdk/wandb_run.py\u001b[0m in \u001b[0;36m_finish\u001b[0;34m(self, exit_code, quiet)\u001b[0m\n\u001b[1;32m   1682\u001b[0m             \u001b[0mself\u001b[0m\u001b[0;34m.\u001b[0m\u001b[0m_quiet\u001b[0m \u001b[0;34m=\u001b[0m \u001b[0mquiet\u001b[0m\u001b[0;34m\u001b[0m\u001b[0;34m\u001b[0m\u001b[0m\n\u001b[1;32m   1683\u001b[0m         \u001b[0;32mwith\u001b[0m \u001b[0mtelemetry\u001b[0m\u001b[0;34m.\u001b[0m\u001b[0mcontext\u001b[0m\u001b[0;34m(\u001b[0m\u001b[0mrun\u001b[0m\u001b[0;34m=\u001b[0m\u001b[0mself\u001b[0m\u001b[0;34m)\u001b[0m \u001b[0;32mas\u001b[0m \u001b[0mtel\u001b[0m\u001b[0;34m:\u001b[0m\u001b[0;34m\u001b[0m\u001b[0;34m\u001b[0m\u001b[0m\n\u001b[0;32m-> 1684\u001b[0;31m             \u001b[0mtel\u001b[0m\u001b[0;34m.\u001b[0m\u001b[0mfeature\u001b[0m\u001b[0;34m.\u001b[0m\u001b[0mfinish\u001b[0m \u001b[0;34m=\u001b[0m \u001b[0;32mTrue\u001b[0m\u001b[0;34m\u001b[0m\u001b[0;34m\u001b[0m\u001b[0m\n\u001b[0m\u001b[1;32m   1685\u001b[0m         \u001b[0mlogger\u001b[0m\u001b[0;34m.\u001b[0m\u001b[0minfo\u001b[0m\u001b[0;34m(\u001b[0m\u001b[0;34mf\"finishing run {self._get_path()}\"\u001b[0m\u001b[0;34m)\u001b[0m\u001b[0;34m\u001b[0m\u001b[0;34m\u001b[0m\u001b[0m\n\u001b[1;32m   1686\u001b[0m         \u001b[0;31m# detach jupyter hooks / others that needs to happen before backend shutdown\u001b[0m\u001b[0;34m\u001b[0m\u001b[0;34m\u001b[0m\u001b[0;34m\u001b[0m\u001b[0m\n",
            "\u001b[0;32m/usr/local/lib/python3.7/dist-packages/wandb/sdk/lib/telemetry.py\u001b[0m in \u001b[0;36m__exit__\u001b[0;34m(self, exctype, excinst, exctb)\u001b[0m\n\u001b[1;32m     39\u001b[0m         \u001b[0;32mif\u001b[0m \u001b[0;32mnot\u001b[0m \u001b[0mself\u001b[0m\u001b[0;34m.\u001b[0m\u001b[0m_run\u001b[0m\u001b[0;34m:\u001b[0m\u001b[0;34m\u001b[0m\u001b[0;34m\u001b[0m\u001b[0m\n\u001b[1;32m     40\u001b[0m             \u001b[0;32mreturn\u001b[0m\u001b[0;34m\u001b[0m\u001b[0;34m\u001b[0m\u001b[0m\n\u001b[0;32m---> 41\u001b[0;31m         \u001b[0mself\u001b[0m\u001b[0;34m.\u001b[0m\u001b[0m_run\u001b[0m\u001b[0;34m.\u001b[0m\u001b[0m_telemetry_callback\u001b[0m\u001b[0;34m(\u001b[0m\u001b[0mself\u001b[0m\u001b[0;34m.\u001b[0m\u001b[0m_obj\u001b[0m\u001b[0;34m)\u001b[0m\u001b[0;34m\u001b[0m\u001b[0;34m\u001b[0m\u001b[0m\n\u001b[0m\u001b[1;32m     42\u001b[0m \u001b[0;34m\u001b[0m\u001b[0m\n\u001b[1;32m     43\u001b[0m \u001b[0;34m\u001b[0m\u001b[0m\n",
            "\u001b[0;32m/usr/local/lib/python3.7/dist-packages/wandb/sdk/wandb_run.py\u001b[0m in \u001b[0;36m_telemetry_callback\u001b[0;34m(self, telem_obj)\u001b[0m\n\u001b[1;32m    575\u001b[0m         \u001b[0mself\u001b[0m\u001b[0;34m.\u001b[0m\u001b[0m_telemetry_obj\u001b[0m\u001b[0;34m.\u001b[0m\u001b[0mMergeFrom\u001b[0m\u001b[0;34m(\u001b[0m\u001b[0mtelem_obj\u001b[0m\u001b[0;34m)\u001b[0m\u001b[0;34m\u001b[0m\u001b[0;34m\u001b[0m\u001b[0m\n\u001b[1;32m    576\u001b[0m         \u001b[0mself\u001b[0m\u001b[0;34m.\u001b[0m\u001b[0m_telemetry_obj_dirty\u001b[0m \u001b[0;34m=\u001b[0m \u001b[0;32mTrue\u001b[0m\u001b[0;34m\u001b[0m\u001b[0;34m\u001b[0m\u001b[0m\n\u001b[0;32m--> 577\u001b[0;31m         \u001b[0mself\u001b[0m\u001b[0;34m.\u001b[0m\u001b[0m_telemetry_flush\u001b[0m\u001b[0;34m(\u001b[0m\u001b[0;34m)\u001b[0m\u001b[0;34m\u001b[0m\u001b[0;34m\u001b[0m\u001b[0m\n\u001b[0m\u001b[1;32m    578\u001b[0m \u001b[0;34m\u001b[0m\u001b[0m\n\u001b[1;32m    579\u001b[0m     \u001b[0;32mdef\u001b[0m \u001b[0m_telemetry_flush\u001b[0m\u001b[0;34m(\u001b[0m\u001b[0mself\u001b[0m\u001b[0;34m)\u001b[0m \u001b[0;34m->\u001b[0m \u001b[0;32mNone\u001b[0m\u001b[0;34m:\u001b[0m\u001b[0;34m\u001b[0m\u001b[0;34m\u001b[0m\u001b[0m\n",
            "\u001b[0;32m/usr/local/lib/python3.7/dist-packages/wandb/sdk/wandb_run.py\u001b[0m in \u001b[0;36m_telemetry_flush\u001b[0;34m(self)\u001b[0m\n\u001b[1;32m    586\u001b[0m             \u001b[0;32mif\u001b[0m \u001b[0mserialized\u001b[0m \u001b[0;34m==\u001b[0m \u001b[0mself\u001b[0m\u001b[0;34m.\u001b[0m\u001b[0m_telemetry_obj_flushed\u001b[0m\u001b[0;34m:\u001b[0m\u001b[0;34m\u001b[0m\u001b[0;34m\u001b[0m\u001b[0m\n\u001b[1;32m    587\u001b[0m                 \u001b[0;32mreturn\u001b[0m\u001b[0;34m\u001b[0m\u001b[0;34m\u001b[0m\u001b[0m\n\u001b[0;32m--> 588\u001b[0;31m             \u001b[0mself\u001b[0m\u001b[0;34m.\u001b[0m\u001b[0m_backend\u001b[0m\u001b[0;34m.\u001b[0m\u001b[0minterface\u001b[0m\u001b[0;34m.\u001b[0m\u001b[0m_publish_telemetry\u001b[0m\u001b[0;34m(\u001b[0m\u001b[0mself\u001b[0m\u001b[0;34m.\u001b[0m\u001b[0m_telemetry_obj\u001b[0m\u001b[0;34m)\u001b[0m\u001b[0;34m\u001b[0m\u001b[0;34m\u001b[0m\u001b[0m\n\u001b[0m\u001b[1;32m    589\u001b[0m             \u001b[0mself\u001b[0m\u001b[0;34m.\u001b[0m\u001b[0m_telemetry_obj_flushed\u001b[0m \u001b[0;34m=\u001b[0m \u001b[0mserialized\u001b[0m\u001b[0;34m\u001b[0m\u001b[0;34m\u001b[0m\u001b[0m\n\u001b[1;32m    590\u001b[0m             \u001b[0mself\u001b[0m\u001b[0;34m.\u001b[0m\u001b[0m_telemetry_obj_dirty\u001b[0m \u001b[0;34m=\u001b[0m \u001b[0;32mFalse\u001b[0m\u001b[0;34m\u001b[0m\u001b[0;34m\u001b[0m\u001b[0m\n",
            "\u001b[0;32m/usr/local/lib/python3.7/dist-packages/wandb/sdk/interface/interface_shared.py\u001b[0m in \u001b[0;36m_publish_telemetry\u001b[0;34m(self, telem)\u001b[0m\n\u001b[1;32m     72\u001b[0m     \u001b[0;32mdef\u001b[0m \u001b[0m_publish_telemetry\u001b[0m\u001b[0;34m(\u001b[0m\u001b[0mself\u001b[0m\u001b[0;34m,\u001b[0m \u001b[0mtelem\u001b[0m\u001b[0;34m:\u001b[0m \u001b[0mtpb\u001b[0m\u001b[0;34m.\u001b[0m\u001b[0mTelemetryRecord\u001b[0m\u001b[0;34m)\u001b[0m \u001b[0;34m->\u001b[0m \u001b[0;32mNone\u001b[0m\u001b[0;34m:\u001b[0m\u001b[0;34m\u001b[0m\u001b[0;34m\u001b[0m\u001b[0m\n\u001b[1;32m     73\u001b[0m         \u001b[0mrec\u001b[0m \u001b[0;34m=\u001b[0m \u001b[0mself\u001b[0m\u001b[0;34m.\u001b[0m\u001b[0m_make_record\u001b[0m\u001b[0;34m(\u001b[0m\u001b[0mtelemetry\u001b[0m\u001b[0;34m=\u001b[0m\u001b[0mtelem\u001b[0m\u001b[0;34m)\u001b[0m\u001b[0;34m\u001b[0m\u001b[0;34m\u001b[0m\u001b[0m\n\u001b[0;32m---> 74\u001b[0;31m         \u001b[0mself\u001b[0m\u001b[0;34m.\u001b[0m\u001b[0m_publish\u001b[0m\u001b[0;34m(\u001b[0m\u001b[0mrec\u001b[0m\u001b[0;34m)\u001b[0m\u001b[0;34m\u001b[0m\u001b[0;34m\u001b[0m\u001b[0m\n\u001b[0m\u001b[1;32m     75\u001b[0m \u001b[0;34m\u001b[0m\u001b[0m\n\u001b[1;32m     76\u001b[0m     \u001b[0;32mdef\u001b[0m \u001b[0m_make_stats\u001b[0m\u001b[0;34m(\u001b[0m\u001b[0mself\u001b[0m\u001b[0;34m,\u001b[0m \u001b[0mstats_dict\u001b[0m\u001b[0;34m:\u001b[0m \u001b[0mdict\u001b[0m\u001b[0;34m)\u001b[0m \u001b[0;34m->\u001b[0m \u001b[0mpb\u001b[0m\u001b[0;34m.\u001b[0m\u001b[0mStatsRecord\u001b[0m\u001b[0;34m:\u001b[0m\u001b[0;34m\u001b[0m\u001b[0;34m\u001b[0m\u001b[0m\n",
            "\u001b[0;32m/usr/local/lib/python3.7/dist-packages/wandb/sdk/interface/interface_queue.py\u001b[0m in \u001b[0;36m_publish\u001b[0;34m(self, record, local)\u001b[0m\n\u001b[1;32m     47\u001b[0m     \u001b[0;32mdef\u001b[0m \u001b[0m_publish\u001b[0m\u001b[0;34m(\u001b[0m\u001b[0mself\u001b[0m\u001b[0;34m,\u001b[0m \u001b[0mrecord\u001b[0m\u001b[0;34m:\u001b[0m \u001b[0;34m\"pb.Record\"\u001b[0m\u001b[0;34m,\u001b[0m \u001b[0mlocal\u001b[0m\u001b[0;34m:\u001b[0m \u001b[0mbool\u001b[0m \u001b[0;34m=\u001b[0m \u001b[0;32mNone\u001b[0m\u001b[0;34m)\u001b[0m \u001b[0;34m->\u001b[0m \u001b[0;32mNone\u001b[0m\u001b[0;34m:\u001b[0m\u001b[0;34m\u001b[0m\u001b[0;34m\u001b[0m\u001b[0m\n\u001b[1;32m     48\u001b[0m         \u001b[0;32mif\u001b[0m \u001b[0mself\u001b[0m\u001b[0;34m.\u001b[0m\u001b[0m_process_check\u001b[0m \u001b[0;32mand\u001b[0m \u001b[0mself\u001b[0m\u001b[0;34m.\u001b[0m\u001b[0m_process\u001b[0m \u001b[0;32mand\u001b[0m \u001b[0;32mnot\u001b[0m \u001b[0mself\u001b[0m\u001b[0;34m.\u001b[0m\u001b[0m_process\u001b[0m\u001b[0;34m.\u001b[0m\u001b[0mis_alive\u001b[0m\u001b[0;34m(\u001b[0m\u001b[0;34m)\u001b[0m\u001b[0;34m:\u001b[0m\u001b[0;34m\u001b[0m\u001b[0;34m\u001b[0m\u001b[0m\n\u001b[0;32m---> 49\u001b[0;31m             \u001b[0;32mraise\u001b[0m \u001b[0mException\u001b[0m\u001b[0;34m(\u001b[0m\u001b[0;34m\"The wandb backend process has shutdown\"\u001b[0m\u001b[0;34m)\u001b[0m\u001b[0;34m\u001b[0m\u001b[0;34m\u001b[0m\u001b[0m\n\u001b[0m\u001b[1;32m     50\u001b[0m         \u001b[0;32mif\u001b[0m \u001b[0mlocal\u001b[0m\u001b[0;34m:\u001b[0m\u001b[0;34m\u001b[0m\u001b[0;34m\u001b[0m\u001b[0m\n\u001b[1;32m     51\u001b[0m             \u001b[0mrecord\u001b[0m\u001b[0;34m.\u001b[0m\u001b[0mcontrol\u001b[0m\u001b[0;34m.\u001b[0m\u001b[0mlocal\u001b[0m \u001b[0;34m=\u001b[0m \u001b[0mlocal\u001b[0m\u001b[0;34m\u001b[0m\u001b[0;34m\u001b[0m\u001b[0m\n",
            "\u001b[0;31mException\u001b[0m: The wandb backend process has shutdown"
          ]
        }
      ]
    },
    {
      "cell_type": "code",
      "source": [
        ""
      ],
      "metadata": {
        "id": "RjWbJj4wmJgL"
      },
      "execution_count": null,
      "outputs": []
    }
  ]
}